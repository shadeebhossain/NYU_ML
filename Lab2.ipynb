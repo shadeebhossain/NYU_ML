{
  "nbformat": 4,
  "nbformat_minor": 0,
  "metadata": {
    "colab": {
      "provenance": []
    },
    "kernelspec": {
      "name": "python3",
      "display_name": "Python 3"
    },
    "language_info": {
      "name": "python"
    }
  },
  "cells": [
    {
      "cell_type": "markdown",
      "source": [
        "***Loading the Data***\n",
        "\n",
        "\n",
        "***Simple Linear Regression***\n",
        "\n",
        "\n"
      ],
      "metadata": {
        "id": "8WWRgfsI55h9"
      }
    },
    {
      "cell_type": "code",
      "source": [
        "import pandas as pd\n",
        "import numpy as np\n",
        "\n",
        "df=pd.read_csv('https://archive.ics.uci.edu/ml/machine-learning-databases/auto-mpg/auto-mpg.data')\n",
        "df.head(6)"
      ],
      "metadata": {
        "colab": {
          "base_uri": "https://localhost:8080/",
          "height": 238
        },
        "id": "DPEG22Tx6piD",
        "outputId": "f1604b9a-6981-43a4-bf9b-07049869b276"
      },
      "execution_count": 26,
      "outputs": [
        {
          "output_type": "execute_result",
          "data": {
            "text/plain": [
              "  18.0   8   307.0      130.0      3504.      12.0   70  1\\t\"chevrolet chevelle malibu\"\n",
              "0  15.0   8   350.0      165.0      3693.      11...                                   \n",
              "1  18.0   8   318.0      150.0      3436.      11...                                   \n",
              "2  16.0   8   304.0      150.0      3433.      12...                                   \n",
              "3  17.0   8   302.0      140.0      3449.      10...                                   \n",
              "4  15.0   8   429.0      198.0      4341.      10...                                   \n",
              "5  14.0   8   454.0      220.0      4354.       9...                                   "
            ],
            "text/html": [
              "\n",
              "  <div id=\"df-7d133e59-c8af-48ec-b93f-638838a84fbc\" class=\"colab-df-container\">\n",
              "    <div>\n",
              "<style scoped>\n",
              "    .dataframe tbody tr th:only-of-type {\n",
              "        vertical-align: middle;\n",
              "    }\n",
              "\n",
              "    .dataframe tbody tr th {\n",
              "        vertical-align: top;\n",
              "    }\n",
              "\n",
              "    .dataframe thead th {\n",
              "        text-align: right;\n",
              "    }\n",
              "</style>\n",
              "<table border=\"1\" class=\"dataframe\">\n",
              "  <thead>\n",
              "    <tr style=\"text-align: right;\">\n",
              "      <th></th>\n",
              "      <th>18.0   8   307.0      130.0      3504.      12.0   70  1\\t\"chevrolet chevelle malibu\"</th>\n",
              "    </tr>\n",
              "  </thead>\n",
              "  <tbody>\n",
              "    <tr>\n",
              "      <th>0</th>\n",
              "      <td>15.0   8   350.0      165.0      3693.      11...</td>\n",
              "    </tr>\n",
              "    <tr>\n",
              "      <th>1</th>\n",
              "      <td>18.0   8   318.0      150.0      3436.      11...</td>\n",
              "    </tr>\n",
              "    <tr>\n",
              "      <th>2</th>\n",
              "      <td>16.0   8   304.0      150.0      3433.      12...</td>\n",
              "    </tr>\n",
              "    <tr>\n",
              "      <th>3</th>\n",
              "      <td>17.0   8   302.0      140.0      3449.      10...</td>\n",
              "    </tr>\n",
              "    <tr>\n",
              "      <th>4</th>\n",
              "      <td>15.0   8   429.0      198.0      4341.      10...</td>\n",
              "    </tr>\n",
              "    <tr>\n",
              "      <th>5</th>\n",
              "      <td>14.0   8   454.0      220.0      4354.       9...</td>\n",
              "    </tr>\n",
              "  </tbody>\n",
              "</table>\n",
              "</div>\n",
              "    <div class=\"colab-df-buttons\">\n",
              "\n",
              "  <div class=\"colab-df-container\">\n",
              "    <button class=\"colab-df-convert\" onclick=\"convertToInteractive('df-7d133e59-c8af-48ec-b93f-638838a84fbc')\"\n",
              "            title=\"Convert this dataframe to an interactive table.\"\n",
              "            style=\"display:none;\">\n",
              "\n",
              "  <svg xmlns=\"http://www.w3.org/2000/svg\" height=\"24px\" viewBox=\"0 -960 960 960\">\n",
              "    <path d=\"M120-120v-720h720v720H120Zm60-500h600v-160H180v160Zm220 220h160v-160H400v160Zm0 220h160v-160H400v160ZM180-400h160v-160H180v160Zm440 0h160v-160H620v160ZM180-180h160v-160H180v160Zm440 0h160v-160H620v160Z\"/>\n",
              "  </svg>\n",
              "    </button>\n",
              "\n",
              "  <style>\n",
              "    .colab-df-container {\n",
              "      display:flex;\n",
              "      gap: 12px;\n",
              "    }\n",
              "\n",
              "    .colab-df-convert {\n",
              "      background-color: #E8F0FE;\n",
              "      border: none;\n",
              "      border-radius: 50%;\n",
              "      cursor: pointer;\n",
              "      display: none;\n",
              "      fill: #1967D2;\n",
              "      height: 32px;\n",
              "      padding: 0 0 0 0;\n",
              "      width: 32px;\n",
              "    }\n",
              "\n",
              "    .colab-df-convert:hover {\n",
              "      background-color: #E2EBFA;\n",
              "      box-shadow: 0px 1px 2px rgba(60, 64, 67, 0.3), 0px 1px 3px 1px rgba(60, 64, 67, 0.15);\n",
              "      fill: #174EA6;\n",
              "    }\n",
              "\n",
              "    .colab-df-buttons div {\n",
              "      margin-bottom: 4px;\n",
              "    }\n",
              "\n",
              "    [theme=dark] .colab-df-convert {\n",
              "      background-color: #3B4455;\n",
              "      fill: #D2E3FC;\n",
              "    }\n",
              "\n",
              "    [theme=dark] .colab-df-convert:hover {\n",
              "      background-color: #434B5C;\n",
              "      box-shadow: 0px 1px 3px 1px rgba(0, 0, 0, 0.15);\n",
              "      filter: drop-shadow(0px 1px 2px rgba(0, 0, 0, 0.3));\n",
              "      fill: #FFFFFF;\n",
              "    }\n",
              "  </style>\n",
              "\n",
              "    <script>\n",
              "      const buttonEl =\n",
              "        document.querySelector('#df-7d133e59-c8af-48ec-b93f-638838a84fbc button.colab-df-convert');\n",
              "      buttonEl.style.display =\n",
              "        google.colab.kernel.accessAllowed ? 'block' : 'none';\n",
              "\n",
              "      async function convertToInteractive(key) {\n",
              "        const element = document.querySelector('#df-7d133e59-c8af-48ec-b93f-638838a84fbc');\n",
              "        const dataTable =\n",
              "          await google.colab.kernel.invokeFunction('convertToInteractive',\n",
              "                                                    [key], {});\n",
              "        if (!dataTable) return;\n",
              "\n",
              "        const docLinkHtml = 'Like what you see? Visit the ' +\n",
              "          '<a target=\"_blank\" href=https://colab.research.google.com/notebooks/data_table.ipynb>data table notebook</a>'\n",
              "          + ' to learn more about interactive tables.';\n",
              "        element.innerHTML = '';\n",
              "        dataTable['output_type'] = 'display_data';\n",
              "        await google.colab.output.renderOutput(dataTable, element);\n",
              "        const docLink = document.createElement('div');\n",
              "        docLink.innerHTML = docLinkHtml;\n",
              "        element.appendChild(docLink);\n",
              "      }\n",
              "    </script>\n",
              "  </div>\n",
              "\n",
              "\n",
              "<div id=\"df-d9eb338a-282c-4705-9845-d37d19fe5bf0\">\n",
              "  <button class=\"colab-df-quickchart\" onclick=\"quickchart('df-d9eb338a-282c-4705-9845-d37d19fe5bf0')\"\n",
              "            title=\"Suggest charts.\"\n",
              "            style=\"display:none;\">\n",
              "\n",
              "<svg xmlns=\"http://www.w3.org/2000/svg\" height=\"24px\"viewBox=\"0 0 24 24\"\n",
              "     width=\"24px\">\n",
              "    <g>\n",
              "        <path d=\"M19 3H5c-1.1 0-2 .9-2 2v14c0 1.1.9 2 2 2h14c1.1 0 2-.9 2-2V5c0-1.1-.9-2-2-2zM9 17H7v-7h2v7zm4 0h-2V7h2v10zm4 0h-2v-4h2v4z\"/>\n",
              "    </g>\n",
              "</svg>\n",
              "  </button>\n",
              "\n",
              "<style>\n",
              "  .colab-df-quickchart {\n",
              "      --bg-color: #E8F0FE;\n",
              "      --fill-color: #1967D2;\n",
              "      --hover-bg-color: #E2EBFA;\n",
              "      --hover-fill-color: #174EA6;\n",
              "      --disabled-fill-color: #AAA;\n",
              "      --disabled-bg-color: #DDD;\n",
              "  }\n",
              "\n",
              "  [theme=dark] .colab-df-quickchart {\n",
              "      --bg-color: #3B4455;\n",
              "      --fill-color: #D2E3FC;\n",
              "      --hover-bg-color: #434B5C;\n",
              "      --hover-fill-color: #FFFFFF;\n",
              "      --disabled-bg-color: #3B4455;\n",
              "      --disabled-fill-color: #666;\n",
              "  }\n",
              "\n",
              "  .colab-df-quickchart {\n",
              "    background-color: var(--bg-color);\n",
              "    border: none;\n",
              "    border-radius: 50%;\n",
              "    cursor: pointer;\n",
              "    display: none;\n",
              "    fill: var(--fill-color);\n",
              "    height: 32px;\n",
              "    padding: 0;\n",
              "    width: 32px;\n",
              "  }\n",
              "\n",
              "  .colab-df-quickchart:hover {\n",
              "    background-color: var(--hover-bg-color);\n",
              "    box-shadow: 0 1px 2px rgba(60, 64, 67, 0.3), 0 1px 3px 1px rgba(60, 64, 67, 0.15);\n",
              "    fill: var(--button-hover-fill-color);\n",
              "  }\n",
              "\n",
              "  .colab-df-quickchart-complete:disabled,\n",
              "  .colab-df-quickchart-complete:disabled:hover {\n",
              "    background-color: var(--disabled-bg-color);\n",
              "    fill: var(--disabled-fill-color);\n",
              "    box-shadow: none;\n",
              "  }\n",
              "\n",
              "  .colab-df-spinner {\n",
              "    border: 2px solid var(--fill-color);\n",
              "    border-color: transparent;\n",
              "    border-bottom-color: var(--fill-color);\n",
              "    animation:\n",
              "      spin 1s steps(1) infinite;\n",
              "  }\n",
              "\n",
              "  @keyframes spin {\n",
              "    0% {\n",
              "      border-color: transparent;\n",
              "      border-bottom-color: var(--fill-color);\n",
              "      border-left-color: var(--fill-color);\n",
              "    }\n",
              "    20% {\n",
              "      border-color: transparent;\n",
              "      border-left-color: var(--fill-color);\n",
              "      border-top-color: var(--fill-color);\n",
              "    }\n",
              "    30% {\n",
              "      border-color: transparent;\n",
              "      border-left-color: var(--fill-color);\n",
              "      border-top-color: var(--fill-color);\n",
              "      border-right-color: var(--fill-color);\n",
              "    }\n",
              "    40% {\n",
              "      border-color: transparent;\n",
              "      border-right-color: var(--fill-color);\n",
              "      border-top-color: var(--fill-color);\n",
              "    }\n",
              "    60% {\n",
              "      border-color: transparent;\n",
              "      border-right-color: var(--fill-color);\n",
              "    }\n",
              "    80% {\n",
              "      border-color: transparent;\n",
              "      border-right-color: var(--fill-color);\n",
              "      border-bottom-color: var(--fill-color);\n",
              "    }\n",
              "    90% {\n",
              "      border-color: transparent;\n",
              "      border-bottom-color: var(--fill-color);\n",
              "    }\n",
              "  }\n",
              "</style>\n",
              "\n",
              "  <script>\n",
              "    async function quickchart(key) {\n",
              "      const quickchartButtonEl =\n",
              "        document.querySelector('#' + key + ' button');\n",
              "      quickchartButtonEl.disabled = true;  // To prevent multiple clicks.\n",
              "      quickchartButtonEl.classList.add('colab-df-spinner');\n",
              "      try {\n",
              "        const charts = await google.colab.kernel.invokeFunction(\n",
              "            'suggestCharts', [key], {});\n",
              "      } catch (error) {\n",
              "        console.error('Error during call to suggestCharts:', error);\n",
              "      }\n",
              "      quickchartButtonEl.classList.remove('colab-df-spinner');\n",
              "      quickchartButtonEl.classList.add('colab-df-quickchart-complete');\n",
              "    }\n",
              "    (() => {\n",
              "      let quickchartButtonEl =\n",
              "        document.querySelector('#df-d9eb338a-282c-4705-9845-d37d19fe5bf0 button');\n",
              "      quickchartButtonEl.style.display =\n",
              "        google.colab.kernel.accessAllowed ? 'block' : 'none';\n",
              "    })();\n",
              "  </script>\n",
              "</div>\n",
              "    </div>\n",
              "  </div>\n"
            ]
          },
          "metadata": {},
          "execution_count": 26
        }
      ]
    },
    {
      "cell_type": "markdown",
      "source": [
        "***Loading the corect data with headers***"
      ],
      "metadata": {
        "id": "PzFXuaWdANMd"
      }
    },
    {
      "cell_type": "code",
      "source": [
        "names=['mpg','cylinders','displacement','horsepower','weight','acceleration','model year','origin','car name']\n",
        "df=pd.read_csv('https://archive.ics.uci.edu/ml/machine-learning-databases/'+\n",
        "                 'auto-mpg/auto-mpg.data',header=None,delim_whitespace=True,names=names,na_values='?')\n",
        "df.head(6)"
      ],
      "metadata": {
        "colab": {
          "base_uri": "https://localhost:8080/",
          "height": 238
        },
        "id": "jyJ8DMUeATMm",
        "outputId": "5b03f728-a6a4-4ee6-8d8f-59c732ce066c"
      },
      "execution_count": 27,
      "outputs": [
        {
          "output_type": "execute_result",
          "data": {
            "text/plain": [
              "    mpg  cylinders  displacement  horsepower  weight  acceleration  \\\n",
              "0  18.0          8         307.0       130.0  3504.0          12.0   \n",
              "1  15.0          8         350.0       165.0  3693.0          11.5   \n",
              "2  18.0          8         318.0       150.0  3436.0          11.0   \n",
              "3  16.0          8         304.0       150.0  3433.0          12.0   \n",
              "4  17.0          8         302.0       140.0  3449.0          10.5   \n",
              "5  15.0          8         429.0       198.0  4341.0          10.0   \n",
              "\n",
              "   model year  origin                   car name  \n",
              "0          70       1  chevrolet chevelle malibu  \n",
              "1          70       1          buick skylark 320  \n",
              "2          70       1         plymouth satellite  \n",
              "3          70       1              amc rebel sst  \n",
              "4          70       1                ford torino  \n",
              "5          70       1           ford galaxie 500  "
            ],
            "text/html": [
              "\n",
              "  <div id=\"df-02d408dd-5a78-4d3b-a45d-fe674b28535b\" class=\"colab-df-container\">\n",
              "    <div>\n",
              "<style scoped>\n",
              "    .dataframe tbody tr th:only-of-type {\n",
              "        vertical-align: middle;\n",
              "    }\n",
              "\n",
              "    .dataframe tbody tr th {\n",
              "        vertical-align: top;\n",
              "    }\n",
              "\n",
              "    .dataframe thead th {\n",
              "        text-align: right;\n",
              "    }\n",
              "</style>\n",
              "<table border=\"1\" class=\"dataframe\">\n",
              "  <thead>\n",
              "    <tr style=\"text-align: right;\">\n",
              "      <th></th>\n",
              "      <th>mpg</th>\n",
              "      <th>cylinders</th>\n",
              "      <th>displacement</th>\n",
              "      <th>horsepower</th>\n",
              "      <th>weight</th>\n",
              "      <th>acceleration</th>\n",
              "      <th>model year</th>\n",
              "      <th>origin</th>\n",
              "      <th>car name</th>\n",
              "    </tr>\n",
              "  </thead>\n",
              "  <tbody>\n",
              "    <tr>\n",
              "      <th>0</th>\n",
              "      <td>18.0</td>\n",
              "      <td>8</td>\n",
              "      <td>307.0</td>\n",
              "      <td>130.0</td>\n",
              "      <td>3504.0</td>\n",
              "      <td>12.0</td>\n",
              "      <td>70</td>\n",
              "      <td>1</td>\n",
              "      <td>chevrolet chevelle malibu</td>\n",
              "    </tr>\n",
              "    <tr>\n",
              "      <th>1</th>\n",
              "      <td>15.0</td>\n",
              "      <td>8</td>\n",
              "      <td>350.0</td>\n",
              "      <td>165.0</td>\n",
              "      <td>3693.0</td>\n",
              "      <td>11.5</td>\n",
              "      <td>70</td>\n",
              "      <td>1</td>\n",
              "      <td>buick skylark 320</td>\n",
              "    </tr>\n",
              "    <tr>\n",
              "      <th>2</th>\n",
              "      <td>18.0</td>\n",
              "      <td>8</td>\n",
              "      <td>318.0</td>\n",
              "      <td>150.0</td>\n",
              "      <td>3436.0</td>\n",
              "      <td>11.0</td>\n",
              "      <td>70</td>\n",
              "      <td>1</td>\n",
              "      <td>plymouth satellite</td>\n",
              "    </tr>\n",
              "    <tr>\n",
              "      <th>3</th>\n",
              "      <td>16.0</td>\n",
              "      <td>8</td>\n",
              "      <td>304.0</td>\n",
              "      <td>150.0</td>\n",
              "      <td>3433.0</td>\n",
              "      <td>12.0</td>\n",
              "      <td>70</td>\n",
              "      <td>1</td>\n",
              "      <td>amc rebel sst</td>\n",
              "    </tr>\n",
              "    <tr>\n",
              "      <th>4</th>\n",
              "      <td>17.0</td>\n",
              "      <td>8</td>\n",
              "      <td>302.0</td>\n",
              "      <td>140.0</td>\n",
              "      <td>3449.0</td>\n",
              "      <td>10.5</td>\n",
              "      <td>70</td>\n",
              "      <td>1</td>\n",
              "      <td>ford torino</td>\n",
              "    </tr>\n",
              "    <tr>\n",
              "      <th>5</th>\n",
              "      <td>15.0</td>\n",
              "      <td>8</td>\n",
              "      <td>429.0</td>\n",
              "      <td>198.0</td>\n",
              "      <td>4341.0</td>\n",
              "      <td>10.0</td>\n",
              "      <td>70</td>\n",
              "      <td>1</td>\n",
              "      <td>ford galaxie 500</td>\n",
              "    </tr>\n",
              "  </tbody>\n",
              "</table>\n",
              "</div>\n",
              "    <div class=\"colab-df-buttons\">\n",
              "\n",
              "  <div class=\"colab-df-container\">\n",
              "    <button class=\"colab-df-convert\" onclick=\"convertToInteractive('df-02d408dd-5a78-4d3b-a45d-fe674b28535b')\"\n",
              "            title=\"Convert this dataframe to an interactive table.\"\n",
              "            style=\"display:none;\">\n",
              "\n",
              "  <svg xmlns=\"http://www.w3.org/2000/svg\" height=\"24px\" viewBox=\"0 -960 960 960\">\n",
              "    <path d=\"M120-120v-720h720v720H120Zm60-500h600v-160H180v160Zm220 220h160v-160H400v160Zm0 220h160v-160H400v160ZM180-400h160v-160H180v160Zm440 0h160v-160H620v160ZM180-180h160v-160H180v160Zm440 0h160v-160H620v160Z\"/>\n",
              "  </svg>\n",
              "    </button>\n",
              "\n",
              "  <style>\n",
              "    .colab-df-container {\n",
              "      display:flex;\n",
              "      gap: 12px;\n",
              "    }\n",
              "\n",
              "    .colab-df-convert {\n",
              "      background-color: #E8F0FE;\n",
              "      border: none;\n",
              "      border-radius: 50%;\n",
              "      cursor: pointer;\n",
              "      display: none;\n",
              "      fill: #1967D2;\n",
              "      height: 32px;\n",
              "      padding: 0 0 0 0;\n",
              "      width: 32px;\n",
              "    }\n",
              "\n",
              "    .colab-df-convert:hover {\n",
              "      background-color: #E2EBFA;\n",
              "      box-shadow: 0px 1px 2px rgba(60, 64, 67, 0.3), 0px 1px 3px 1px rgba(60, 64, 67, 0.15);\n",
              "      fill: #174EA6;\n",
              "    }\n",
              "\n",
              "    .colab-df-buttons div {\n",
              "      margin-bottom: 4px;\n",
              "    }\n",
              "\n",
              "    [theme=dark] .colab-df-convert {\n",
              "      background-color: #3B4455;\n",
              "      fill: #D2E3FC;\n",
              "    }\n",
              "\n",
              "    [theme=dark] .colab-df-convert:hover {\n",
              "      background-color: #434B5C;\n",
              "      box-shadow: 0px 1px 3px 1px rgba(0, 0, 0, 0.15);\n",
              "      filter: drop-shadow(0px 1px 2px rgba(0, 0, 0, 0.3));\n",
              "      fill: #FFFFFF;\n",
              "    }\n",
              "  </style>\n",
              "\n",
              "    <script>\n",
              "      const buttonEl =\n",
              "        document.querySelector('#df-02d408dd-5a78-4d3b-a45d-fe674b28535b button.colab-df-convert');\n",
              "      buttonEl.style.display =\n",
              "        google.colab.kernel.accessAllowed ? 'block' : 'none';\n",
              "\n",
              "      async function convertToInteractive(key) {\n",
              "        const element = document.querySelector('#df-02d408dd-5a78-4d3b-a45d-fe674b28535b');\n",
              "        const dataTable =\n",
              "          await google.colab.kernel.invokeFunction('convertToInteractive',\n",
              "                                                    [key], {});\n",
              "        if (!dataTable) return;\n",
              "\n",
              "        const docLinkHtml = 'Like what you see? Visit the ' +\n",
              "          '<a target=\"_blank\" href=https://colab.research.google.com/notebooks/data_table.ipynb>data table notebook</a>'\n",
              "          + ' to learn more about interactive tables.';\n",
              "        element.innerHTML = '';\n",
              "        dataTable['output_type'] = 'display_data';\n",
              "        await google.colab.output.renderOutput(dataTable, element);\n",
              "        const docLink = document.createElement('div');\n",
              "        docLink.innerHTML = docLinkHtml;\n",
              "        element.appendChild(docLink);\n",
              "      }\n",
              "    </script>\n",
              "  </div>\n",
              "\n",
              "\n",
              "<div id=\"df-c12a5aee-ee7c-44c5-ac4b-cabe843796aa\">\n",
              "  <button class=\"colab-df-quickchart\" onclick=\"quickchart('df-c12a5aee-ee7c-44c5-ac4b-cabe843796aa')\"\n",
              "            title=\"Suggest charts.\"\n",
              "            style=\"display:none;\">\n",
              "\n",
              "<svg xmlns=\"http://www.w3.org/2000/svg\" height=\"24px\"viewBox=\"0 0 24 24\"\n",
              "     width=\"24px\">\n",
              "    <g>\n",
              "        <path d=\"M19 3H5c-1.1 0-2 .9-2 2v14c0 1.1.9 2 2 2h14c1.1 0 2-.9 2-2V5c0-1.1-.9-2-2-2zM9 17H7v-7h2v7zm4 0h-2V7h2v10zm4 0h-2v-4h2v4z\"/>\n",
              "    </g>\n",
              "</svg>\n",
              "  </button>\n",
              "\n",
              "<style>\n",
              "  .colab-df-quickchart {\n",
              "      --bg-color: #E8F0FE;\n",
              "      --fill-color: #1967D2;\n",
              "      --hover-bg-color: #E2EBFA;\n",
              "      --hover-fill-color: #174EA6;\n",
              "      --disabled-fill-color: #AAA;\n",
              "      --disabled-bg-color: #DDD;\n",
              "  }\n",
              "\n",
              "  [theme=dark] .colab-df-quickchart {\n",
              "      --bg-color: #3B4455;\n",
              "      --fill-color: #D2E3FC;\n",
              "      --hover-bg-color: #434B5C;\n",
              "      --hover-fill-color: #FFFFFF;\n",
              "      --disabled-bg-color: #3B4455;\n",
              "      --disabled-fill-color: #666;\n",
              "  }\n",
              "\n",
              "  .colab-df-quickchart {\n",
              "    background-color: var(--bg-color);\n",
              "    border: none;\n",
              "    border-radius: 50%;\n",
              "    cursor: pointer;\n",
              "    display: none;\n",
              "    fill: var(--fill-color);\n",
              "    height: 32px;\n",
              "    padding: 0;\n",
              "    width: 32px;\n",
              "  }\n",
              "\n",
              "  .colab-df-quickchart:hover {\n",
              "    background-color: var(--hover-bg-color);\n",
              "    box-shadow: 0 1px 2px rgba(60, 64, 67, 0.3), 0 1px 3px 1px rgba(60, 64, 67, 0.15);\n",
              "    fill: var(--button-hover-fill-color);\n",
              "  }\n",
              "\n",
              "  .colab-df-quickchart-complete:disabled,\n",
              "  .colab-df-quickchart-complete:disabled:hover {\n",
              "    background-color: var(--disabled-bg-color);\n",
              "    fill: var(--disabled-fill-color);\n",
              "    box-shadow: none;\n",
              "  }\n",
              "\n",
              "  .colab-df-spinner {\n",
              "    border: 2px solid var(--fill-color);\n",
              "    border-color: transparent;\n",
              "    border-bottom-color: var(--fill-color);\n",
              "    animation:\n",
              "      spin 1s steps(1) infinite;\n",
              "  }\n",
              "\n",
              "  @keyframes spin {\n",
              "    0% {\n",
              "      border-color: transparent;\n",
              "      border-bottom-color: var(--fill-color);\n",
              "      border-left-color: var(--fill-color);\n",
              "    }\n",
              "    20% {\n",
              "      border-color: transparent;\n",
              "      border-left-color: var(--fill-color);\n",
              "      border-top-color: var(--fill-color);\n",
              "    }\n",
              "    30% {\n",
              "      border-color: transparent;\n",
              "      border-left-color: var(--fill-color);\n",
              "      border-top-color: var(--fill-color);\n",
              "      border-right-color: var(--fill-color);\n",
              "    }\n",
              "    40% {\n",
              "      border-color: transparent;\n",
              "      border-right-color: var(--fill-color);\n",
              "      border-top-color: var(--fill-color);\n",
              "    }\n",
              "    60% {\n",
              "      border-color: transparent;\n",
              "      border-right-color: var(--fill-color);\n",
              "    }\n",
              "    80% {\n",
              "      border-color: transparent;\n",
              "      border-right-color: var(--fill-color);\n",
              "      border-bottom-color: var(--fill-color);\n",
              "    }\n",
              "    90% {\n",
              "      border-color: transparent;\n",
              "      border-bottom-color: var(--fill-color);\n",
              "    }\n",
              "  }\n",
              "</style>\n",
              "\n",
              "  <script>\n",
              "    async function quickchart(key) {\n",
              "      const quickchartButtonEl =\n",
              "        document.querySelector('#' + key + ' button');\n",
              "      quickchartButtonEl.disabled = true;  // To prevent multiple clicks.\n",
              "      quickchartButtonEl.classList.add('colab-df-spinner');\n",
              "      try {\n",
              "        const charts = await google.colab.kernel.invokeFunction(\n",
              "            'suggestCharts', [key], {});\n",
              "      } catch (error) {\n",
              "        console.error('Error during call to suggestCharts:', error);\n",
              "      }\n",
              "      quickchartButtonEl.classList.remove('colab-df-spinner');\n",
              "      quickchartButtonEl.classList.add('colab-df-quickchart-complete');\n",
              "    }\n",
              "    (() => {\n",
              "      let quickchartButtonEl =\n",
              "        document.querySelector('#df-c12a5aee-ee7c-44c5-ac4b-cabe843796aa button');\n",
              "      quickchartButtonEl.style.display =\n",
              "        google.colab.kernel.accessAllowed ? 'block' : 'none';\n",
              "    })();\n",
              "  </script>\n",
              "</div>\n",
              "    </div>\n",
              "  </div>\n"
            ]
          },
          "metadata": {},
          "execution_count": 27
        }
      ]
    },
    {
      "cell_type": "code",
      "source": [
        "df.shape\n",
        "(398,6)\n",
        "df.head(6)"
      ],
      "metadata": {
        "colab": {
          "base_uri": "https://localhost:8080/",
          "height": 238
        },
        "id": "7ElWCnGACU0X",
        "outputId": "eb2fec35-0ab8-4d1f-c072-477d31038283"
      },
      "execution_count": 28,
      "outputs": [
        {
          "output_type": "execute_result",
          "data": {
            "text/plain": [
              "    mpg  cylinders  displacement  horsepower  weight  acceleration  \\\n",
              "0  18.0          8         307.0       130.0  3504.0          12.0   \n",
              "1  15.0          8         350.0       165.0  3693.0          11.5   \n",
              "2  18.0          8         318.0       150.0  3436.0          11.0   \n",
              "3  16.0          8         304.0       150.0  3433.0          12.0   \n",
              "4  17.0          8         302.0       140.0  3449.0          10.5   \n",
              "5  15.0          8         429.0       198.0  4341.0          10.0   \n",
              "\n",
              "   model year  origin                   car name  \n",
              "0          70       1  chevrolet chevelle malibu  \n",
              "1          70       1          buick skylark 320  \n",
              "2          70       1         plymouth satellite  \n",
              "3          70       1              amc rebel sst  \n",
              "4          70       1                ford torino  \n",
              "5          70       1           ford galaxie 500  "
            ],
            "text/html": [
              "\n",
              "  <div id=\"df-c169ce3f-a094-4a75-8e06-f9b47f9c54fc\" class=\"colab-df-container\">\n",
              "    <div>\n",
              "<style scoped>\n",
              "    .dataframe tbody tr th:only-of-type {\n",
              "        vertical-align: middle;\n",
              "    }\n",
              "\n",
              "    .dataframe tbody tr th {\n",
              "        vertical-align: top;\n",
              "    }\n",
              "\n",
              "    .dataframe thead th {\n",
              "        text-align: right;\n",
              "    }\n",
              "</style>\n",
              "<table border=\"1\" class=\"dataframe\">\n",
              "  <thead>\n",
              "    <tr style=\"text-align: right;\">\n",
              "      <th></th>\n",
              "      <th>mpg</th>\n",
              "      <th>cylinders</th>\n",
              "      <th>displacement</th>\n",
              "      <th>horsepower</th>\n",
              "      <th>weight</th>\n",
              "      <th>acceleration</th>\n",
              "      <th>model year</th>\n",
              "      <th>origin</th>\n",
              "      <th>car name</th>\n",
              "    </tr>\n",
              "  </thead>\n",
              "  <tbody>\n",
              "    <tr>\n",
              "      <th>0</th>\n",
              "      <td>18.0</td>\n",
              "      <td>8</td>\n",
              "      <td>307.0</td>\n",
              "      <td>130.0</td>\n",
              "      <td>3504.0</td>\n",
              "      <td>12.0</td>\n",
              "      <td>70</td>\n",
              "      <td>1</td>\n",
              "      <td>chevrolet chevelle malibu</td>\n",
              "    </tr>\n",
              "    <tr>\n",
              "      <th>1</th>\n",
              "      <td>15.0</td>\n",
              "      <td>8</td>\n",
              "      <td>350.0</td>\n",
              "      <td>165.0</td>\n",
              "      <td>3693.0</td>\n",
              "      <td>11.5</td>\n",
              "      <td>70</td>\n",
              "      <td>1</td>\n",
              "      <td>buick skylark 320</td>\n",
              "    </tr>\n",
              "    <tr>\n",
              "      <th>2</th>\n",
              "      <td>18.0</td>\n",
              "      <td>8</td>\n",
              "      <td>318.0</td>\n",
              "      <td>150.0</td>\n",
              "      <td>3436.0</td>\n",
              "      <td>11.0</td>\n",
              "      <td>70</td>\n",
              "      <td>1</td>\n",
              "      <td>plymouth satellite</td>\n",
              "    </tr>\n",
              "    <tr>\n",
              "      <th>3</th>\n",
              "      <td>16.0</td>\n",
              "      <td>8</td>\n",
              "      <td>304.0</td>\n",
              "      <td>150.0</td>\n",
              "      <td>3433.0</td>\n",
              "      <td>12.0</td>\n",
              "      <td>70</td>\n",
              "      <td>1</td>\n",
              "      <td>amc rebel sst</td>\n",
              "    </tr>\n",
              "    <tr>\n",
              "      <th>4</th>\n",
              "      <td>17.0</td>\n",
              "      <td>8</td>\n",
              "      <td>302.0</td>\n",
              "      <td>140.0</td>\n",
              "      <td>3449.0</td>\n",
              "      <td>10.5</td>\n",
              "      <td>70</td>\n",
              "      <td>1</td>\n",
              "      <td>ford torino</td>\n",
              "    </tr>\n",
              "    <tr>\n",
              "      <th>5</th>\n",
              "      <td>15.0</td>\n",
              "      <td>8</td>\n",
              "      <td>429.0</td>\n",
              "      <td>198.0</td>\n",
              "      <td>4341.0</td>\n",
              "      <td>10.0</td>\n",
              "      <td>70</td>\n",
              "      <td>1</td>\n",
              "      <td>ford galaxie 500</td>\n",
              "    </tr>\n",
              "  </tbody>\n",
              "</table>\n",
              "</div>\n",
              "    <div class=\"colab-df-buttons\">\n",
              "\n",
              "  <div class=\"colab-df-container\">\n",
              "    <button class=\"colab-df-convert\" onclick=\"convertToInteractive('df-c169ce3f-a094-4a75-8e06-f9b47f9c54fc')\"\n",
              "            title=\"Convert this dataframe to an interactive table.\"\n",
              "            style=\"display:none;\">\n",
              "\n",
              "  <svg xmlns=\"http://www.w3.org/2000/svg\" height=\"24px\" viewBox=\"0 -960 960 960\">\n",
              "    <path d=\"M120-120v-720h720v720H120Zm60-500h600v-160H180v160Zm220 220h160v-160H400v160Zm0 220h160v-160H400v160ZM180-400h160v-160H180v160Zm440 0h160v-160H620v160ZM180-180h160v-160H180v160Zm440 0h160v-160H620v160Z\"/>\n",
              "  </svg>\n",
              "    </button>\n",
              "\n",
              "  <style>\n",
              "    .colab-df-container {\n",
              "      display:flex;\n",
              "      gap: 12px;\n",
              "    }\n",
              "\n",
              "    .colab-df-convert {\n",
              "      background-color: #E8F0FE;\n",
              "      border: none;\n",
              "      border-radius: 50%;\n",
              "      cursor: pointer;\n",
              "      display: none;\n",
              "      fill: #1967D2;\n",
              "      height: 32px;\n",
              "      padding: 0 0 0 0;\n",
              "      width: 32px;\n",
              "    }\n",
              "\n",
              "    .colab-df-convert:hover {\n",
              "      background-color: #E2EBFA;\n",
              "      box-shadow: 0px 1px 2px rgba(60, 64, 67, 0.3), 0px 1px 3px 1px rgba(60, 64, 67, 0.15);\n",
              "      fill: #174EA6;\n",
              "    }\n",
              "\n",
              "    .colab-df-buttons div {\n",
              "      margin-bottom: 4px;\n",
              "    }\n",
              "\n",
              "    [theme=dark] .colab-df-convert {\n",
              "      background-color: #3B4455;\n",
              "      fill: #D2E3FC;\n",
              "    }\n",
              "\n",
              "    [theme=dark] .colab-df-convert:hover {\n",
              "      background-color: #434B5C;\n",
              "      box-shadow: 0px 1px 3px 1px rgba(0, 0, 0, 0.15);\n",
              "      filter: drop-shadow(0px 1px 2px rgba(0, 0, 0, 0.3));\n",
              "      fill: #FFFFFF;\n",
              "    }\n",
              "  </style>\n",
              "\n",
              "    <script>\n",
              "      const buttonEl =\n",
              "        document.querySelector('#df-c169ce3f-a094-4a75-8e06-f9b47f9c54fc button.colab-df-convert');\n",
              "      buttonEl.style.display =\n",
              "        google.colab.kernel.accessAllowed ? 'block' : 'none';\n",
              "\n",
              "      async function convertToInteractive(key) {\n",
              "        const element = document.querySelector('#df-c169ce3f-a094-4a75-8e06-f9b47f9c54fc');\n",
              "        const dataTable =\n",
              "          await google.colab.kernel.invokeFunction('convertToInteractive',\n",
              "                                                    [key], {});\n",
              "        if (!dataTable) return;\n",
              "\n",
              "        const docLinkHtml = 'Like what you see? Visit the ' +\n",
              "          '<a target=\"_blank\" href=https://colab.research.google.com/notebooks/data_table.ipynb>data table notebook</a>'\n",
              "          + ' to learn more about interactive tables.';\n",
              "        element.innerHTML = '';\n",
              "        dataTable['output_type'] = 'display_data';\n",
              "        await google.colab.output.renderOutput(dataTable, element);\n",
              "        const docLink = document.createElement('div');\n",
              "        docLink.innerHTML = docLinkHtml;\n",
              "        element.appendChild(docLink);\n",
              "      }\n",
              "    </script>\n",
              "  </div>\n",
              "\n",
              "\n",
              "<div id=\"df-070498cc-51ae-46f9-970a-9f119ae0a43a\">\n",
              "  <button class=\"colab-df-quickchart\" onclick=\"quickchart('df-070498cc-51ae-46f9-970a-9f119ae0a43a')\"\n",
              "            title=\"Suggest charts.\"\n",
              "            style=\"display:none;\">\n",
              "\n",
              "<svg xmlns=\"http://www.w3.org/2000/svg\" height=\"24px\"viewBox=\"0 0 24 24\"\n",
              "     width=\"24px\">\n",
              "    <g>\n",
              "        <path d=\"M19 3H5c-1.1 0-2 .9-2 2v14c0 1.1.9 2 2 2h14c1.1 0 2-.9 2-2V5c0-1.1-.9-2-2-2zM9 17H7v-7h2v7zm4 0h-2V7h2v10zm4 0h-2v-4h2v4z\"/>\n",
              "    </g>\n",
              "</svg>\n",
              "  </button>\n",
              "\n",
              "<style>\n",
              "  .colab-df-quickchart {\n",
              "      --bg-color: #E8F0FE;\n",
              "      --fill-color: #1967D2;\n",
              "      --hover-bg-color: #E2EBFA;\n",
              "      --hover-fill-color: #174EA6;\n",
              "      --disabled-fill-color: #AAA;\n",
              "      --disabled-bg-color: #DDD;\n",
              "  }\n",
              "\n",
              "  [theme=dark] .colab-df-quickchart {\n",
              "      --bg-color: #3B4455;\n",
              "      --fill-color: #D2E3FC;\n",
              "      --hover-bg-color: #434B5C;\n",
              "      --hover-fill-color: #FFFFFF;\n",
              "      --disabled-bg-color: #3B4455;\n",
              "      --disabled-fill-color: #666;\n",
              "  }\n",
              "\n",
              "  .colab-df-quickchart {\n",
              "    background-color: var(--bg-color);\n",
              "    border: none;\n",
              "    border-radius: 50%;\n",
              "    cursor: pointer;\n",
              "    display: none;\n",
              "    fill: var(--fill-color);\n",
              "    height: 32px;\n",
              "    padding: 0;\n",
              "    width: 32px;\n",
              "  }\n",
              "\n",
              "  .colab-df-quickchart:hover {\n",
              "    background-color: var(--hover-bg-color);\n",
              "    box-shadow: 0 1px 2px rgba(60, 64, 67, 0.3), 0 1px 3px 1px rgba(60, 64, 67, 0.15);\n",
              "    fill: var(--button-hover-fill-color);\n",
              "  }\n",
              "\n",
              "  .colab-df-quickchart-complete:disabled,\n",
              "  .colab-df-quickchart-complete:disabled:hover {\n",
              "    background-color: var(--disabled-bg-color);\n",
              "    fill: var(--disabled-fill-color);\n",
              "    box-shadow: none;\n",
              "  }\n",
              "\n",
              "  .colab-df-spinner {\n",
              "    border: 2px solid var(--fill-color);\n",
              "    border-color: transparent;\n",
              "    border-bottom-color: var(--fill-color);\n",
              "    animation:\n",
              "      spin 1s steps(1) infinite;\n",
              "  }\n",
              "\n",
              "  @keyframes spin {\n",
              "    0% {\n",
              "      border-color: transparent;\n",
              "      border-bottom-color: var(--fill-color);\n",
              "      border-left-color: var(--fill-color);\n",
              "    }\n",
              "    20% {\n",
              "      border-color: transparent;\n",
              "      border-left-color: var(--fill-color);\n",
              "      border-top-color: var(--fill-color);\n",
              "    }\n",
              "    30% {\n",
              "      border-color: transparent;\n",
              "      border-left-color: var(--fill-color);\n",
              "      border-top-color: var(--fill-color);\n",
              "      border-right-color: var(--fill-color);\n",
              "    }\n",
              "    40% {\n",
              "      border-color: transparent;\n",
              "      border-right-color: var(--fill-color);\n",
              "      border-top-color: var(--fill-color);\n",
              "    }\n",
              "    60% {\n",
              "      border-color: transparent;\n",
              "      border-right-color: var(--fill-color);\n",
              "    }\n",
              "    80% {\n",
              "      border-color: transparent;\n",
              "      border-right-color: var(--fill-color);\n",
              "      border-bottom-color: var(--fill-color);\n",
              "    }\n",
              "    90% {\n",
              "      border-color: transparent;\n",
              "      border-bottom-color: var(--fill-color);\n",
              "    }\n",
              "  }\n",
              "</style>\n",
              "\n",
              "  <script>\n",
              "    async function quickchart(key) {\n",
              "      const quickchartButtonEl =\n",
              "        document.querySelector('#' + key + ' button');\n",
              "      quickchartButtonEl.disabled = true;  // To prevent multiple clicks.\n",
              "      quickchartButtonEl.classList.add('colab-df-spinner');\n",
              "      try {\n",
              "        const charts = await google.colab.kernel.invokeFunction(\n",
              "            'suggestCharts', [key], {});\n",
              "      } catch (error) {\n",
              "        console.error('Error during call to suggestCharts:', error);\n",
              "      }\n",
              "      quickchartButtonEl.classList.remove('colab-df-spinner');\n",
              "      quickchartButtonEl.classList.add('colab-df-quickchart-complete');\n",
              "    }\n",
              "    (() => {\n",
              "      let quickchartButtonEl =\n",
              "        document.querySelector('#df-070498cc-51ae-46f9-970a-9f119ae0a43a button');\n",
              "      quickchartButtonEl.style.display =\n",
              "        google.colab.kernel.accessAllowed ? 'block' : 'none';\n",
              "    })();\n",
              "  </script>\n",
              "</div>\n",
              "    </div>\n",
              "  </div>\n"
            ]
          },
          "metadata": {},
          "execution_count": 28
        }
      ]
    },
    {
      "cell_type": "code",
      "source": [
        "df.columns"
      ],
      "metadata": {
        "colab": {
          "base_uri": "https://localhost:8080/"
        },
        "id": "XokSesKDNywc",
        "outputId": "f610e666-eeba-4e6e-8019-b144567d75db"
      },
      "execution_count": 29,
      "outputs": [
        {
          "output_type": "execute_result",
          "data": {
            "text/plain": [
              "Index(['mpg', 'cylinders', 'displacement', 'horsepower', 'weight',\n",
              "       'acceleration', 'model year', 'origin', 'car name'],\n",
              "      dtype='object')"
            ]
          },
          "metadata": {},
          "execution_count": 29
        }
      ]
    },
    {
      "cell_type": "code",
      "source": [
        "df.index"
      ],
      "metadata": {
        "colab": {
          "base_uri": "https://localhost:8080/"
        },
        "id": "qEnLxZe-OQf8",
        "outputId": "42dc3b32-6eb7-4fc6-b7d6-3207c97c16a2"
      },
      "execution_count": 30,
      "outputs": [
        {
          "output_type": "execute_result",
          "data": {
            "text/plain": [
              "RangeIndex(start=0, stop=398, step=1)"
            ]
          },
          "metadata": {},
          "execution_count": 30
        }
      ]
    },
    {
      "cell_type": "code",
      "source": [
        "df.values"
      ],
      "metadata": {
        "colab": {
          "base_uri": "https://localhost:8080/"
        },
        "id": "bbJEuyHHPS3u",
        "outputId": "f262ec4c-317b-45ef-e4ab-324a8f9b8072"
      },
      "execution_count": 31,
      "outputs": [
        {
          "output_type": "execute_result",
          "data": {
            "text/plain": [
              "array([[18.0, 8, 307.0, ..., 70, 1, 'chevrolet chevelle malibu'],\n",
              "       [15.0, 8, 350.0, ..., 70, 1, 'buick skylark 320'],\n",
              "       [18.0, 8, 318.0, ..., 70, 1, 'plymouth satellite'],\n",
              "       ...,\n",
              "       [32.0, 4, 135.0, ..., 82, 1, 'dodge rampage'],\n",
              "       [28.0, 4, 120.0, ..., 82, 1, 'ford ranger'],\n",
              "       [31.0, 4, 119.0, ..., 82, 1, 'chevy s-10']], dtype=object)"
            ]
          },
          "metadata": {},
          "execution_count": 31
        }
      ]
    },
    {
      "cell_type": "code",
      "source": [
        "df.columns.tolist()"
      ],
      "metadata": {
        "colab": {
          "base_uri": "https://localhost:8080/"
        },
        "id": "dFiwIySqQOwX",
        "outputId": "399fe6d2-b361-497f-af5b-db19379b2505"
      },
      "execution_count": 32,
      "outputs": [
        {
          "output_type": "execute_result",
          "data": {
            "text/plain": [
              "['mpg',\n",
              " 'cylinders',\n",
              " 'displacement',\n",
              " 'horsepower',\n",
              " 'weight',\n",
              " 'acceleration',\n",
              " 'model year',\n",
              " 'origin',\n",
              " 'car name']"
            ]
          },
          "metadata": {},
          "execution_count": 32
        }
      ]
    },
    {
      "cell_type": "code",
      "source": [
        "df2=df['cylinders']\n",
        "df2.head(6)"
      ],
      "metadata": {
        "colab": {
          "base_uri": "https://localhost:8080/"
        },
        "id": "jL339Y35Q14u",
        "outputId": "a2e9b436-4304-4492-89df-ad5966898f1b"
      },
      "execution_count": 33,
      "outputs": [
        {
          "output_type": "execute_result",
          "data": {
            "text/plain": [
              "0    8\n",
              "1    8\n",
              "2    8\n",
              "3    8\n",
              "4    8\n",
              "5    8\n",
              "Name: cylinders, dtype: int64"
            ]
          },
          "metadata": {},
          "execution_count": 33
        }
      ]
    },
    {
      "cell_type": "code",
      "source": [
        "df2=df[['cylinders','horsepower']]\n",
        "df2.head(6)"
      ],
      "metadata": {
        "colab": {
          "base_uri": "https://localhost:8080/",
          "height": 238
        },
        "id": "rODURgv7RJLc",
        "outputId": "5656b265-3c97-46d1-9f3d-334c3eb80400"
      },
      "execution_count": 34,
      "outputs": [
        {
          "output_type": "execute_result",
          "data": {
            "text/plain": [
              "   cylinders  horsepower\n",
              "0          8       130.0\n",
              "1          8       165.0\n",
              "2          8       150.0\n",
              "3          8       150.0\n",
              "4          8       140.0\n",
              "5          8       198.0"
            ],
            "text/html": [
              "\n",
              "  <div id=\"df-18b50aa0-90c6-4451-9fc0-704848800234\" class=\"colab-df-container\">\n",
              "    <div>\n",
              "<style scoped>\n",
              "    .dataframe tbody tr th:only-of-type {\n",
              "        vertical-align: middle;\n",
              "    }\n",
              "\n",
              "    .dataframe tbody tr th {\n",
              "        vertical-align: top;\n",
              "    }\n",
              "\n",
              "    .dataframe thead th {\n",
              "        text-align: right;\n",
              "    }\n",
              "</style>\n",
              "<table border=\"1\" class=\"dataframe\">\n",
              "  <thead>\n",
              "    <tr style=\"text-align: right;\">\n",
              "      <th></th>\n",
              "      <th>cylinders</th>\n",
              "      <th>horsepower</th>\n",
              "    </tr>\n",
              "  </thead>\n",
              "  <tbody>\n",
              "    <tr>\n",
              "      <th>0</th>\n",
              "      <td>8</td>\n",
              "      <td>130.0</td>\n",
              "    </tr>\n",
              "    <tr>\n",
              "      <th>1</th>\n",
              "      <td>8</td>\n",
              "      <td>165.0</td>\n",
              "    </tr>\n",
              "    <tr>\n",
              "      <th>2</th>\n",
              "      <td>8</td>\n",
              "      <td>150.0</td>\n",
              "    </tr>\n",
              "    <tr>\n",
              "      <th>3</th>\n",
              "      <td>8</td>\n",
              "      <td>150.0</td>\n",
              "    </tr>\n",
              "    <tr>\n",
              "      <th>4</th>\n",
              "      <td>8</td>\n",
              "      <td>140.0</td>\n",
              "    </tr>\n",
              "    <tr>\n",
              "      <th>5</th>\n",
              "      <td>8</td>\n",
              "      <td>198.0</td>\n",
              "    </tr>\n",
              "  </tbody>\n",
              "</table>\n",
              "</div>\n",
              "    <div class=\"colab-df-buttons\">\n",
              "\n",
              "  <div class=\"colab-df-container\">\n",
              "    <button class=\"colab-df-convert\" onclick=\"convertToInteractive('df-18b50aa0-90c6-4451-9fc0-704848800234')\"\n",
              "            title=\"Convert this dataframe to an interactive table.\"\n",
              "            style=\"display:none;\">\n",
              "\n",
              "  <svg xmlns=\"http://www.w3.org/2000/svg\" height=\"24px\" viewBox=\"0 -960 960 960\">\n",
              "    <path d=\"M120-120v-720h720v720H120Zm60-500h600v-160H180v160Zm220 220h160v-160H400v160Zm0 220h160v-160H400v160ZM180-400h160v-160H180v160Zm440 0h160v-160H620v160ZM180-180h160v-160H180v160Zm440 0h160v-160H620v160Z\"/>\n",
              "  </svg>\n",
              "    </button>\n",
              "\n",
              "  <style>\n",
              "    .colab-df-container {\n",
              "      display:flex;\n",
              "      gap: 12px;\n",
              "    }\n",
              "\n",
              "    .colab-df-convert {\n",
              "      background-color: #E8F0FE;\n",
              "      border: none;\n",
              "      border-radius: 50%;\n",
              "      cursor: pointer;\n",
              "      display: none;\n",
              "      fill: #1967D2;\n",
              "      height: 32px;\n",
              "      padding: 0 0 0 0;\n",
              "      width: 32px;\n",
              "    }\n",
              "\n",
              "    .colab-df-convert:hover {\n",
              "      background-color: #E2EBFA;\n",
              "      box-shadow: 0px 1px 2px rgba(60, 64, 67, 0.3), 0px 1px 3px 1px rgba(60, 64, 67, 0.15);\n",
              "      fill: #174EA6;\n",
              "    }\n",
              "\n",
              "    .colab-df-buttons div {\n",
              "      margin-bottom: 4px;\n",
              "    }\n",
              "\n",
              "    [theme=dark] .colab-df-convert {\n",
              "      background-color: #3B4455;\n",
              "      fill: #D2E3FC;\n",
              "    }\n",
              "\n",
              "    [theme=dark] .colab-df-convert:hover {\n",
              "      background-color: #434B5C;\n",
              "      box-shadow: 0px 1px 3px 1px rgba(0, 0, 0, 0.15);\n",
              "      filter: drop-shadow(0px 1px 2px rgba(0, 0, 0, 0.3));\n",
              "      fill: #FFFFFF;\n",
              "    }\n",
              "  </style>\n",
              "\n",
              "    <script>\n",
              "      const buttonEl =\n",
              "        document.querySelector('#df-18b50aa0-90c6-4451-9fc0-704848800234 button.colab-df-convert');\n",
              "      buttonEl.style.display =\n",
              "        google.colab.kernel.accessAllowed ? 'block' : 'none';\n",
              "\n",
              "      async function convertToInteractive(key) {\n",
              "        const element = document.querySelector('#df-18b50aa0-90c6-4451-9fc0-704848800234');\n",
              "        const dataTable =\n",
              "          await google.colab.kernel.invokeFunction('convertToInteractive',\n",
              "                                                    [key], {});\n",
              "        if (!dataTable) return;\n",
              "\n",
              "        const docLinkHtml = 'Like what you see? Visit the ' +\n",
              "          '<a target=\"_blank\" href=https://colab.research.google.com/notebooks/data_table.ipynb>data table notebook</a>'\n",
              "          + ' to learn more about interactive tables.';\n",
              "        element.innerHTML = '';\n",
              "        dataTable['output_type'] = 'display_data';\n",
              "        await google.colab.output.renderOutput(dataTable, element);\n",
              "        const docLink = document.createElement('div');\n",
              "        docLink.innerHTML = docLinkHtml;\n",
              "        element.appendChild(docLink);\n",
              "      }\n",
              "    </script>\n",
              "  </div>\n",
              "\n",
              "\n",
              "<div id=\"df-817334b5-da98-4d58-bec1-cb2361919551\">\n",
              "  <button class=\"colab-df-quickchart\" onclick=\"quickchart('df-817334b5-da98-4d58-bec1-cb2361919551')\"\n",
              "            title=\"Suggest charts.\"\n",
              "            style=\"display:none;\">\n",
              "\n",
              "<svg xmlns=\"http://www.w3.org/2000/svg\" height=\"24px\"viewBox=\"0 0 24 24\"\n",
              "     width=\"24px\">\n",
              "    <g>\n",
              "        <path d=\"M19 3H5c-1.1 0-2 .9-2 2v14c0 1.1.9 2 2 2h14c1.1 0 2-.9 2-2V5c0-1.1-.9-2-2-2zM9 17H7v-7h2v7zm4 0h-2V7h2v10zm4 0h-2v-4h2v4z\"/>\n",
              "    </g>\n",
              "</svg>\n",
              "  </button>\n",
              "\n",
              "<style>\n",
              "  .colab-df-quickchart {\n",
              "      --bg-color: #E8F0FE;\n",
              "      --fill-color: #1967D2;\n",
              "      --hover-bg-color: #E2EBFA;\n",
              "      --hover-fill-color: #174EA6;\n",
              "      --disabled-fill-color: #AAA;\n",
              "      --disabled-bg-color: #DDD;\n",
              "  }\n",
              "\n",
              "  [theme=dark] .colab-df-quickchart {\n",
              "      --bg-color: #3B4455;\n",
              "      --fill-color: #D2E3FC;\n",
              "      --hover-bg-color: #434B5C;\n",
              "      --hover-fill-color: #FFFFFF;\n",
              "      --disabled-bg-color: #3B4455;\n",
              "      --disabled-fill-color: #666;\n",
              "  }\n",
              "\n",
              "  .colab-df-quickchart {\n",
              "    background-color: var(--bg-color);\n",
              "    border: none;\n",
              "    border-radius: 50%;\n",
              "    cursor: pointer;\n",
              "    display: none;\n",
              "    fill: var(--fill-color);\n",
              "    height: 32px;\n",
              "    padding: 0;\n",
              "    width: 32px;\n",
              "  }\n",
              "\n",
              "  .colab-df-quickchart:hover {\n",
              "    background-color: var(--hover-bg-color);\n",
              "    box-shadow: 0 1px 2px rgba(60, 64, 67, 0.3), 0 1px 3px 1px rgba(60, 64, 67, 0.15);\n",
              "    fill: var(--button-hover-fill-color);\n",
              "  }\n",
              "\n",
              "  .colab-df-quickchart-complete:disabled,\n",
              "  .colab-df-quickchart-complete:disabled:hover {\n",
              "    background-color: var(--disabled-bg-color);\n",
              "    fill: var(--disabled-fill-color);\n",
              "    box-shadow: none;\n",
              "  }\n",
              "\n",
              "  .colab-df-spinner {\n",
              "    border: 2px solid var(--fill-color);\n",
              "    border-color: transparent;\n",
              "    border-bottom-color: var(--fill-color);\n",
              "    animation:\n",
              "      spin 1s steps(1) infinite;\n",
              "  }\n",
              "\n",
              "  @keyframes spin {\n",
              "    0% {\n",
              "      border-color: transparent;\n",
              "      border-bottom-color: var(--fill-color);\n",
              "      border-left-color: var(--fill-color);\n",
              "    }\n",
              "    20% {\n",
              "      border-color: transparent;\n",
              "      border-left-color: var(--fill-color);\n",
              "      border-top-color: var(--fill-color);\n",
              "    }\n",
              "    30% {\n",
              "      border-color: transparent;\n",
              "      border-left-color: var(--fill-color);\n",
              "      border-top-color: var(--fill-color);\n",
              "      border-right-color: var(--fill-color);\n",
              "    }\n",
              "    40% {\n",
              "      border-color: transparent;\n",
              "      border-right-color: var(--fill-color);\n",
              "      border-top-color: var(--fill-color);\n",
              "    }\n",
              "    60% {\n",
              "      border-color: transparent;\n",
              "      border-right-color: var(--fill-color);\n",
              "    }\n",
              "    80% {\n",
              "      border-color: transparent;\n",
              "      border-right-color: var(--fill-color);\n",
              "      border-bottom-color: var(--fill-color);\n",
              "    }\n",
              "    90% {\n",
              "      border-color: transparent;\n",
              "      border-bottom-color: var(--fill-color);\n",
              "    }\n",
              "  }\n",
              "</style>\n",
              "\n",
              "  <script>\n",
              "    async function quickchart(key) {\n",
              "      const quickchartButtonEl =\n",
              "        document.querySelector('#' + key + ' button');\n",
              "      quickchartButtonEl.disabled = true;  // To prevent multiple clicks.\n",
              "      quickchartButtonEl.classList.add('colab-df-spinner');\n",
              "      try {\n",
              "        const charts = await google.colab.kernel.invokeFunction(\n",
              "            'suggestCharts', [key], {});\n",
              "      } catch (error) {\n",
              "        console.error('Error during call to suggestCharts:', error);\n",
              "      }\n",
              "      quickchartButtonEl.classList.remove('colab-df-spinner');\n",
              "      quickchartButtonEl.classList.add('colab-df-quickchart-complete');\n",
              "    }\n",
              "    (() => {\n",
              "      let quickchartButtonEl =\n",
              "        document.querySelector('#df-817334b5-da98-4d58-bec1-cb2361919551 button');\n",
              "      quickchartButtonEl.style.display =\n",
              "        google.colab.kernel.accessAllowed ? 'block' : 'none';\n",
              "    })();\n",
              "  </script>\n",
              "</div>\n",
              "    </div>\n",
              "  </div>\n"
            ]
          },
          "metadata": {},
          "execution_count": 34
        }
      ]
    },
    {
      "cell_type": "markdown",
      "source": [
        "***Plotting Graphs***"
      ],
      "metadata": {
        "id": "L7tXnSoGVj7-"
      }
    },
    {
      "cell_type": "code",
      "source": [
        "import matplotlib\n",
        "import matplotlib.pyplot as plt\n",
        "\n",
        "# Converting the dataframes into numpy arrays\n",
        "\n",
        "xstr='displacement'\n",
        "x=np.array(df[xstr])\n",
        "y=np.array(df['mpg'])\n",
        "\n",
        "\n",
        "\n",
        "# Create a scatterplot\n",
        "\n",
        "\n",
        "plt.plot(x,y,'o')\n",
        "plt.xlabel(xstr)\n",
        "plt.ylabel('mpg')\n",
        "plt.grid(True)"
      ],
      "metadata": {
        "colab": {
          "base_uri": "https://localhost:8080/",
          "height": 449
        },
        "id": "nvVezULnVn-L",
        "outputId": "c783b919-b0f8-404b-c7b7-fa30e662ac1c"
      },
      "execution_count": 35,
      "outputs": [
        {
          "output_type": "display_data",
          "data": {
            "text/plain": [
              "<Figure size 640x480 with 1 Axes>"
            ],
            "image/png": "[encoded data removed]"
          },
          "metadata": {}
        }
      ]
    },
    {
      "cell_type": "markdown",
      "source": [
        "***Manipulating Numpy Arrays***"
      ],
      "metadata": {
        "id": "d4BJKbpXgj0i"
      }
    },
    {
      "cell_type": "code",
      "source": [
        "mx=np.mean(x)\n",
        "my=np.mean(y)\n",
        "print('Mean{0:5}={1:5.1f},mean mpg={2:5.1f}'.format(xstr,mx,my))"
      ],
      "metadata": {
        "colab": {
          "base_uri": "https://localhost:8080/"
        },
        "id": "pKmPsgVThQUf",
        "outputId": "d6971072-7989-47c8-8d4b-8ede2e0d27e5"
      },
      "execution_count": 36,
      "outputs": [
        {
          "output_type": "stream",
          "name": "stdout",
          "text": [
            "Meandisplacement=193.4,mean mpg= 23.5\n"
          ]
        }
      ]
    },
    {
      "cell_type": "markdown",
      "source": [
        "***Fraction of cars with > 25 mpg:***\n"
      ],
      "metadata": {
        "id": "h0TOLL2NjrGE"
      }
    },
    {
      "cell_type": "code",
      "source": [
        "np.mean(y>25)"
      ],
      "metadata": {
        "colab": {
          "base_uri": "https://localhost:8080/"
        },
        "id": "A6tBDVXHjzEQ",
        "outputId": "2355835d-e0c1-4cfe-cab9-3e2b8da76e5c"
      },
      "execution_count": 37,
      "outputs": [
        {
          "output_type": "execute_result",
          "data": {
            "text/plain": [
              "0.3969849246231156"
            ]
          },
          "metadata": {},
          "execution_count": 37
        }
      ]
    },
    {
      "cell_type": "markdown",
      "source": [
        "Mean displacemnt of cars that have mpg >25 .\n",
        "\n",
        "\n",
        "There are two ways it can be done:\n"
      ],
      "metadata": {
        "id": "9T8dV7lnktji"
      }
    },
    {
      "cell_type": "code",
      "source": [
        "I=(y>25)\n",
        "np.mean(x*I)/np.mean(I)"
      ],
      "metadata": {
        "colab": {
          "base_uri": "https://localhost:8080/"
        },
        "id": "z7folUe6k9Y8",
        "outputId": "cfe3c81b-0055-4d0e-997a-fe1ec8a39c00"
      },
      "execution_count": 38,
      "outputs": [
        {
          "output_type": "execute_result",
          "data": {
            "text/plain": [
              "110.08227848101266"
            ]
          },
          "metadata": {},
          "execution_count": 38
        }
      ]
    },
    {
      "cell_type": "code",
      "source": [
        "np.mean(x[I])"
      ],
      "metadata": {
        "id": "CbVVuQx-lJI1",
        "outputId": "a9e76999-7cd4-4a2c-ba7d-39cec9e85bb6",
        "colab": {
          "base_uri": "https://localhost:8080/"
        }
      },
      "execution_count": 39,
      "outputs": [
        {
          "output_type": "execute_result",
          "data": {
            "text/plain": [
              "110.08227848101266"
            ]
          },
          "metadata": {},
          "execution_count": 39
        }
      ]
    },
    {
      "cell_type": "markdown",
      "source": [
        "***Missing Data and NaN values***"
      ],
      "metadata": {
        "id": "JU4U4EIPSbw4"
      }
    },
    {
      "cell_type": "code",
      "source": [
        "xstr='horsepower'\n",
        "x=np.array(df[xstr])\n",
        "y=np.array(df['mpg'])\n",
        "np.mean(x)\n"
      ],
      "metadata": {
        "colab": {
          "base_uri": "https://localhost:8080/"
        },
        "id": "YzT52tAEShLe",
        "outputId": "8fde3d69-fe52-4c2f-a4f4-1df6c4f96faa"
      },
      "execution_count": 40,
      "outputs": [
        {
          "output_type": "execute_result",
          "data": {
            "text/plain": [
              "nan"
            ]
          },
          "metadata": {},
          "execution_count": 40
        }
      ]
    },
    {
      "cell_type": "markdown",
      "source": [
        "Use .dropna()- To remove missing data"
      ],
      "metadata": {
        "id": "qQKrAOqZ6mtn"
      }
    },
    {
      "cell_type": "code",
      "source": [
        "df1=df[['mpg','horsepower']]\n",
        "df2=df1.dropna()\n",
        "df2.shape"
      ],
      "metadata": {
        "colab": {
          "base_uri": "https://localhost:8080/"
        },
        "id": "08AtaW0g6w06",
        "outputId": "24e6e638-df2c-4857-9837-edf99fe2688d"
      },
      "execution_count": 41,
      "outputs": [
        {
          "output_type": "execute_result",
          "data": {
            "text/plain": [
              "(392, 2)"
            ]
          },
          "metadata": {},
          "execution_count": 41
        }
      ]
    },
    {
      "cell_type": "code",
      "source": [
        "x=np.array(df2['horsepower'])\n",
        "y=np.array(df2['mpg'])\n",
        "np.mean(x)"
      ],
      "metadata": {
        "colab": {
          "base_uri": "https://localhost:8080/"
        },
        "id": "PFoY454o7FQa",
        "outputId": "091a6b5e-3521-4fe1-f301-d48b33ae90a7"
      },
      "execution_count": 42,
      "outputs": [
        {
          "output_type": "execute_result",
          "data": {
            "text/plain": [
              "104.46938775510205"
            ]
          },
          "metadata": {},
          "execution_count": 42
        }
      ]
    },
    {
      "cell_type": "code",
      "source": [
        "plt.plot(x,y,'o')\n",
        "plt.xlabel(xstr)\n",
        "plt.ylabel('mpg')\n",
        "plt.grid(True)"
      ],
      "metadata": {
        "colab": {
          "base_uri": "https://localhost:8080/",
          "height": 449
        },
        "id": "s3ngmRkm7VUc",
        "outputId": "f037ede5-f41d-4eb0-81a6-f333f38179c9"
      },
      "execution_count": 43,
      "outputs": [
        {
          "output_type": "display_data",
          "data": {
            "text/plain": [
              "<Figure size 640x480 with 1 Axes>"
            ],
            "image/png": "[encoded data removed]"
          },
          "metadata": {}
        }
      ]
    },
    {
      "cell_type": "markdown",
      "source": [
        "***Comparing and Plotting a Linear Fit***\n",
        "![image.png](data:image/png;base64,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)"
      ],
      "metadata": {
        "id": "DgeMOIKAGj2R"
      }
    },
    {
      "cell_type": "code",
      "source": [
        "xm=np.mean(x)\n",
        "ym=np.mean(y)\n",
        "syy=np.mean((y-ym)**2)\n",
        "syx=np.mean((y-ym)*(x-xm))\n",
        "sxx=np.mean((x-xm)**2)\n",
        "beta1=syx/sxx\n",
        "beta0=ym-beta1*xm\n",
        "print(\"xbar={0:7.2f},ybar={1:7.2f}\".format(xm,ym))\n",
        "print(\"sqrt(sxx)={0:7.2f},sqrt(syy)={1:7.2f}\".format(np.sqrt(sxx),np.sqrt(syy)))\n",
        "print(\"beta0={0:7.2f},beat1={1:7.2f}\".format(beta0,beta1))\n",
        "\n"
      ],
      "metadata": {
        "colab": {
          "base_uri": "https://localhost:8080/"
        },
        "id": "PzaUmTjtHCDD",
        "outputId": "69fd5444-4d3f-4175-81e3-8ba367a486d8"
      },
      "execution_count": 44,
      "outputs": [
        {
          "output_type": "stream",
          "name": "stdout",
          "text": [
            "xbar= 104.47,ybar=  23.45\n",
            "sqrt(sxx)=  38.44,sqrt(syy)=   7.80\n",
            "beta0=  39.94,beat1=  -0.16\n"
          ]
        }
      ]
    },
    {
      "cell_type": "markdown",
      "source": [
        "***Points on the regression line***"
      ],
      "metadata": {
        "id": "Zlf-W2aiUZiZ"
      }
    },
    {
      "cell_type": "code",
      "source": [
        "xplt=np.array([20,250])\n",
        "yplt=beta1*xplt+beta0\n",
        "\n",
        "plt.plot(x,y,'o')                     # plots the data point\n",
        "plt.plot(xplt,yplt,'-',linewidth=3)   # plots the regression line\n",
        "plt.xlabel(xstr)\n",
        "plt.ylabel('mpg')\n",
        "plt.grid(True)"
      ],
      "metadata": {
        "colab": {
          "base_uri": "https://localhost:8080/",
          "height": 449
        },
        "id": "f4ZovAt8Uedm",
        "outputId": "9d8cebcd-8ec8-4ce1-e459-c6d7b6a2e605"
      },
      "execution_count": 45,
      "outputs": [
        {
          "output_type": "display_data",
          "data": {
            "text/plain": [
              "<Figure size 640x480 with 1 Axes>"
            ],
            "image/png": "[encoded data removed]"
          },
          "metadata": {}
        }
      ]
    },
    {
      "cell_type": "markdown",
      "source": [
        "![Screenshot 2023-09-11 090243.jpg](data:image/jpeg;base64,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)"
      ],
      "metadata": {
        "id": "WgvoEZs9Vg5N"
      }
    },
    {
      "cell_type": "code",
      "source": [
        "yhat=beta0+beta1*x\n",
        "RSS=np.mean((y-yhat)**2)\n",
        "print(\"RSS={0:7.2f}\".format(RSS))\n"
      ],
      "metadata": {
        "colab": {
          "base_uri": "https://localhost:8080/"
        },
        "id": "Af5jo03YXF1T",
        "outputId": "33302c03-e0f1-49c9-d952-21f6c6ee01cd"
      },
      "execution_count": 46,
      "outputs": [
        {
          "output_type": "stream",
          "name": "stdout",
          "text": [
            "RSS=  23.94\n"
          ]
        }
      ]
    },
    {
      "cell_type": "markdown",
      "source": [
        "Analytically derived minimum RSS"
      ],
      "metadata": {
        "id": "AGmbnNk1XccL"
      }
    },
    {
      "cell_type": "code",
      "source": [
        "rxy=syx/np.sqrt(sxx)/np.sqrt(syy)\n",
        "RSSmin=(1-rxy*rxy)*syy\n",
        "print(\"RSSmin={0:7.2f}\".format(RSSmin))"
      ],
      "metadata": {
        "colab": {
          "base_uri": "https://localhost:8080/"
        },
        "id": "Y6uoCY9-XavR",
        "outputId": "ca0f0e00-8ff7-41a0-f879-6b187b394b50"
      },
      "execution_count": 47,
      "outputs": [
        {
          "output_type": "stream",
          "name": "stdout",
          "text": [
            "RSSmin=  23.94\n"
          ]
        }
      ]
    },
    {
      "cell_type": "code",
      "source": [
        "z=1/x\n",
        "plt.plot(x,z,'o')\n",
        "plt.xlabel(xstr)\n",
        "plt.ylabel('1/mpg')\n",
        "plt.grid(True)"
      ],
      "metadata": {
        "colab": {
          "base_uri": "https://localhost:8080/",
          "height": 453
        },
        "id": "t_SDNxPYupoq",
        "outputId": "95d0fd64-a44b-4ebf-8fd7-1c8b4d55b58c"
      },
      "execution_count": 48,
      "outputs": [
        {
          "output_type": "display_data",
          "data": {
            "text/plain": [
              "<Figure size 640x480 with 1 Axes>"
            ],
            "image/png": "[encoded data removed]"
          },
          "metadata": {}
        }
      ]
    },
    {
      "cell_type": "markdown",
      "source": [
        "We can create a Linear Regression to fit Z Vs X"
      ],
      "metadata": {
        "id": "FdlaB44nvpWN"
      }
    },
    {
      "cell_type": "code",
      "source": [
        "xm=np.mean(x)\n",
        "zm=np.mean(z)\n",
        "sxz=np.mean((z-zm)*(x-xm))\n",
        "sxx=np.mean((x-xm)**2)\n",
        "beta1_inv=sxz/sxx\n",
        "beta0_inv=zm-beta1_inv*xm"
      ],
      "metadata": {
        "id": "sBqj8kFBvvOw"
      },
      "execution_count": 54,
      "outputs": []
    },
    {
      "cell_type": "markdown",
      "source": [
        "Plotting the scatter plot"
      ],
      "metadata": {
        "id": "Q3oEG1inxSY6"
      }
    },
    {
      "cell_type": "code",
      "source": [
        "z=1/y\n",
        "xplt_inv=np.linspace(20,250,100)\n",
        "zplt_inv=beta1_inv*xplt_inv+beta0_inv\n",
        "plt.plot(x,z,'o')\n",
        "plt.plot(xplt_inv,zplt_inv,'_',linewidth=3)\n",
        "plt.xlabel(xstr)\n",
        "plt.ylabel('1/mpg')\n",
        "plt.grid(True)\n"
      ],
      "metadata": {
        "colab": {
          "base_uri": "https://localhost:8080/",
          "height": 449
        },
        "id": "3fMV4QJ9xU7I",
        "outputId": "a01697a5-1eed-4a6b-d4ea-87a180ed5fe9"
      },
      "execution_count": 56,
      "outputs": [
        {
          "output_type": "display_data",
          "data": {
            "text/plain": [
              "<Figure size 640x480 with 1 Axes>"
            ],
            "image/png": "[encoded data removed]"
          },
          "metadata": {}
        }
      ]
    },
    {
      "cell_type": "markdown",
      "source": [
        "*The original Linear Fit and Linear Fit with Inversion*\n"
      ],
      "metadata": {
        "id": "5DvXgD8W0j04"
      }
    },
    {
      "cell_type": "code",
      "source": [
        "yplt_inv=1/zplt_inv\n",
        "plt.plot(x,y,'o')\n",
        "plt.plot(xplt,yplt,'-',linewidth=3)\n",
        "plt.plot(xplt_inv,yplt_inv,'-',linewidth=3)\n",
        "plt.xlabel(xstr)\n",
        "plt.ylabel('mpg')\n",
        "plt.grid(True)\n",
        "plt.legend(['data','Linear','linear+inversion'])"
      ],
      "metadata": {
        "colab": {
          "base_uri": "https://localhost:8080/",
          "height": 466
        },
        "id": "Zz79WLwy0s7g",
        "outputId": "753846f2-a804-494b-a8f5-e858269f0685"
      },
      "execution_count": 59,
      "outputs": [
        {
          "output_type": "execute_result",
          "data": {
            "text/plain": [
              "<matplotlib.legend.Legend at 0x7b26483beb30>"
            ]
          },
          "metadata": {},
          "execution_count": 59
        },
        {
          "output_type": "display_data",
          "data": {
            "text/plain": [
              "<Figure size 640x480 with 1 Axes>"
            ],
            "image/png": "[encoded data removed]"
          },
          "metadata": {}
        }
      ]
    },
    {
      "cell_type": "markdown",
      "source": [
        "***Identifying reduced errors using Non-Linear Transformation***"
      ],
      "metadata": {
        "id": "Ynuesr-P5mc4"
      }
    },
    {
      "cell_type": "code",
      "source": [
        "zhat_inv=beta0_inv+beta1_inv*x\n",
        "yhat_inv=1/zhat_inv\n",
        "RSS_inv=np.mean((yhat_inv-y)**2)\n",
        "print(\"RSS={0:7.2f}(linear)\".format(RSS))\n",
        "print(\"RSS={0:7.2f}(linear+inversion)\".format(RSS_inv))"
      ],
      "metadata": {
        "colab": {
          "base_uri": "https://localhost:8080/"
        },
        "id": "3ZlAc_RI5tH0",
        "outputId": "0e78a30e-f2ea-4727-c487-1268f2dd5d45"
      },
      "execution_count": 60,
      "outputs": [
        {
          "output_type": "stream",
          "name": "stdout",
          "text": [
            "RSS=  23.94(linear)\n",
            "RSS=  20.66(linear+inversion)\n"
          ]
        }
      ]
    }
  ]
}