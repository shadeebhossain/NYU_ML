{
 "cells": [
  {
   "cell_type": "markdown",
   "metadata": {
    "id": "Vpy4pBIkK1uD"
   },
   "source": [
    "Shadeeb Hossain\n",
    "\n",
    "ID : sh7492\n",
    "\n",
    "# Lab:  Neural Networks for Music Classification\n",
    "\n",
    "In addition to the concepts in the [MNIST neural network demo](./demo2_mnist_neural.ipynb), in this lab, you will learn to:\n",
    "* Load a file from a URL\n",
    "* Extract simple features from audio samples for machine learning tasks such as speech recognition and classification\n",
    "* Build a simple neural network for music classification using these features\n",
    "* Use a callback to store the loss and accuracy history in the training process\n",
    "* Optimize the learning rate of the neural network\n",
    "\n",
    "To illustrate the basic concepts, we will look at a relatively simple music classification problem.  Given a sample of music, we want to determine which instrument (e.g. trumpet, violin, piano) is playing.  This dataset was generously supplied by [Prof. Juan Bello](http://steinhardt.nyu.edu/faculty/Juan_Pablo_Bello) at NYU Stenihardt  and his former PhD student Eric Humphrey (now at Spotify).  They have a complete website dedicated to deep learning methods in music informatics:\n",
    "\n",
    "http://marl.smusic.nyu.edu/wordpress/projects/feature-learning-deep-architectures/deep-learning-python-tutorial/\n",
    "\n",
    "You can also check out Juan's <a href=\"http://www.nyu.edu/classes/bello/ACA.html\">course</a>.\n",
    "\n"
   ]
  },
  {
   "cell_type": "markdown",
   "metadata": {
    "id": "4auaFVWzK1uE"
   },
   "source": [
    "## Loading Tensorflow\n",
    "\n",
    "Before starting this lab, you will need to install [Tensorflow](https://www.tensorflow.org/install/).  If you are using [Google colaboratory](https://colab.research.google.com), Tensorflow is already installed.  Run the following command to ensure Tensorflow is installed."
   ]
  },
  {
   "cell_type": "code",
   "execution_count": null,
   "metadata": {
    "id": "wxvTQLl-K1uF"
   },
   "outputs": [],
   "source": [
    "import tensorflow as tf"
   ]
  },
  {
   "cell_type": "markdown",
   "metadata": {
    "id": "lFkdOefiK1uG"
   },
   "source": [
    "Then, load the other packages."
   ]
  },
  {
   "cell_type": "code",
   "execution_count": null,
   "metadata": {
    "id": "71pwPKskK1uG"
   },
   "outputs": [],
   "source": [
    "import numpy as np\n",
    "import matplotlib\n",
    "import matplotlib.pyplot as plt"
   ]
  },
  {
   "cell_type": "markdown",
   "metadata": {
    "id": "xNGaBKejK1uG"
   },
   "source": [
    "## Audio Feature Extraction with Librosa\n",
    "\n",
    "The key to audio classification is to extract the correct features. In addition to `keras`, we will need the `librosa` package.  The `librosa` package in python has a rich set of methods extracting the features of audio samples commonly used in machine learning tasks such as speech recognition and sound classification.\n",
    "\n",
    "Installation instructions and complete documentation for the package are given on the [librosa main page](https://librosa.github.io/librosa/).  On most systems, you should be able to simply use:\n",
    "\n",
    "    pip install librosa\n",
    "    \n",
    "For Unix, you may need to load some additional packages:\n",
    "\n",
    "    sudo apt-get install build-essential\n",
    "    sudo apt-get install libxext-dev python-qt4 qt4-dev-tools\n",
    "    pip install librosa\n",
    "    \n",
    "After you have installed the package, try to import it."
   ]
  },
  {
   "cell_type": "code",
   "execution_count": null,
   "metadata": {
    "id": "jFJSAoHEK1uG"
   },
   "outputs": [],
   "source": [
    "import librosa\n",
    "import librosa.display\n",
    "import librosa.feature"
   ]
  },
  {
   "cell_type": "markdown",
   "metadata": {
    "id": "PYyclP03K1uG"
   },
   "source": [
    "In this lab, we will use a set of music samples from the website:\n",
    "\n",
    "http://theremin.music.uiowa.edu\n",
    "\n",
    "This website has a great set of samples for audio processing.  Look on the web for how to use the `requests.get` and `file.write` commands to load the file at the URL provided into your working directory.\n",
    "\n",
    "You can play the audio sample by copying the file to your local machine and playing it on any media player.  If you listen to it you will hear a soprano saxaphone (with vibrato) playing four notes (C, C#, D, Eb)."
   ]
  },
  {
   "cell_type": "code",
   "execution_count": null,
   "metadata": {
    "id": "PTHhYDwrK1uG"
   },
   "outputs": [],
   "source": [
    "import requests\n",
    "fn = \"SopSax.Vib.pp.C6Eb6.aiff\"\n",
    "url = \"http://theremin.music.uiowa.edu/sound files/MIS/Woodwinds/sopranosaxophone/\"+fn\n",
    "\n",
    "# TODO 1:  Load the file from url and save it in a file under the name fn\n",
    "import requests\n",
    "url = \"http://theremin.music.uiowa.edu/sound files/MIS/Woodwinds/sopranosaxophone/001.wav\"\n",
    "\n",
    "response = requests.get(url)\n",
    "\n",
    "\n"
   ]
  },
  {
   "cell_type": "markdown",
   "metadata": {
    "id": "XfKKLpsQK1uG"
   },
   "source": [
    "Next, use `librosa` command `librosa.load` to read the audio file with filename `fn` and get the samples `y` and sample rate `sr`."
   ]
  },
  {
   "cell_type": "code",
   "execution_count": null,
   "metadata": {
    "colab": {
     "base_uri": "https://localhost:8080/"
    },
    "id": "YeLBtlwSK1uH",
    "outputId": "c08ee8c2-0b4f-414b-eeff-ac27209fb011"
   },
   "outputs": [
    {
     "name": "stdout",
     "output_type": "stream",
     "text": [
      "Sample Rate,sr: 22050\n",
      "Number of Samples,y: 338485\n"
     ]
    }
   ],
   "source": [
    "# TODO 2\n",
    "import librosa\n",
    "\n",
    "# Specify the filename of the downloaded audio file\n",
    "fn = \"soprano_saxophone.wav\"\n",
    "\n",
    "# Load the audio file using librosa\n",
    "y, sr = librosa.load(fn)\n",
    "\n",
    "# Print the sample rate\n",
    "print(f\"Sample Rate,sr: {sr}\")\n",
    "\n",
    "\n",
    "# Calculate the number of samples\n",
    "num_samples = len(y)\n",
    "\n",
    "# Print the result\n",
    "print(f\"Number of Samples,y: {num_samples}\")\n",
    "\n",
    "# y, sr = ..."
   ]
  },
  {
   "cell_type": "markdown",
   "metadata": {
    "id": "ety1-U0HK1uH"
   },
   "source": [
    "Extracting features from audio files is an entire subject on its own right.  A commonly used set of features are called the Mel Frequency Cepstral Coefficients (MFCCs).  These are derived from the so-called mel spectrogram which is something like a regular spectrogram, but the power and frequency are represented in log scale, which more naturally aligns with human perceptual processing.  You can run the code below to display the mel spectrogram from the audio sample.\n",
    "\n",
    "You can easily see the four notes played in the audio track.  You also see the 'harmonics' of each notes, which are other tones at integer multiples of the fundamental frequency of each note."
   ]
  },
  {
   "cell_type": "code",
   "execution_count": null,
   "metadata": {
    "colab": {
     "base_uri": "https://localhost:8080/",
     "height": 487
    },
    "id": "wHOSuDWTK1uH",
    "outputId": "89e2e00c-7bb6-4336-ec48-c10d6de02393"
   },
   "outputs": [
    {
     "data": {
      "image/png": "[encoded data removed]",
      "text/plain": [
       "<Figure size 640x480 with 2 Axes>"
      ]
     },
     "metadata": {},
     "output_type": "display_data"
    }
   ],
   "source": [
    "S = librosa.feature.melspectrogram(y=y, sr=sr, n_mels=128, fmax=8000)\n",
    "librosa.display.specshow(librosa.amplitude_to_db(S),\n",
    "                         y_axis='mel', fmax=8000, x_axis='time')\n",
    "plt.colorbar(format='%+2.0f dB')\n",
    "plt.title('Mel spectrogram')\n",
    "plt.tight_layout()"
   ]
  },
  {
   "cell_type": "markdown",
   "metadata": {
    "id": "gAK_ZMIMK1uH"
   },
   "source": [
    "## Downloading the Data\n",
    "\n",
    "Using the MFCC features described above, Eric Humphrey and Juan Bellow have created a complete data set that can used for instrument classification.  Essentially, they collected a number of data files from the website above.  For each audio file, the segmented the track into notes and then extracted 120 MFCCs for each note.  The goal is to recognize the instrument from the 120 MFCCs.  The process of feature extraction is quite involved.  So, we will just use their processed data provided at:\n",
    "\n",
    "https://github.com/marl/dl4mir-tutorial/blob/master/README.md\n",
    "\n",
    "Note the password.  Load the four files into some directory, say  `instrument_dataset`.  Then, load them with the commands."
   ]
  },
  {
   "cell_type": "code",
   "execution_count": null,
   "metadata": {
    "id": "11d7ac7SK1uH"
   },
   "outputs": [],
   "source": [
    "data_dir = 'instrument_dataset/'\n",
    "Xtr = np.load('uiowa_train_data.npy')\n",
    "ytr = np.load('uiowa_train_labels.npy')\n",
    "Xts = np.load('uiowa_test_data.npy')\n",
    "yts = np.load('uiowa_test_labels.npy')"
   ]
  },
  {
   "cell_type": "markdown",
   "metadata": {
    "id": "lDsYbVxEK1uH"
   },
   "source": [
    "Looking at the data files:\n",
    "* What are the number of training and test samples?\n",
    "* What is the number of features for each sample?\n",
    "* How many classes (i.e. instruments) are there per class?\n"
   ]
  },
  {
   "cell_type": "code",
   "execution_count": null,
   "metadata": {
    "colab": {
     "base_uri": "https://localhost:8080/"
    },
    "id": "qB4Zfy2iK1uH",
    "outputId": "ed3a20f1-0b9a-400b-b286-8f1fb4e9ec00"
   },
   "outputs": [
    {
     "name": "stdout",
     "output_type": "stream",
     "text": [
      "Number of Training Samples: 66247\n",
      "Number of Test Samples: 14904\n",
      "Number of Features for Each Sample: 120\n",
      "Number of Classes (Instruments): 10\n"
     ]
    }
   ],
   "source": [
    "# TODO 3\n",
    "import numpy as np\n",
    "\n",
    "num_training_samples = Xtr.shape[0]\n",
    "num_test_samples = Xts.shape[0]\n",
    "num_features = Xtr.shape[1]\n",
    "num_classes = len(np.unique(ytr))\n",
    "print(f\"Number of Training Samples: {num_training_samples}\")\n",
    "print(f\"Number of Test Samples: {num_test_samples}\")\n",
    "print(f\"Number of Features for Each Sample: {num_features}\")\n",
    "print(f\"Number of Classes (Instruments): {num_classes}\")\n"
   ]
  },
  {
   "cell_type": "markdown",
   "metadata": {
    "id": "YDWzl11WK1uH"
   },
   "source": [
    "Before continuing, you must scale the training and test data, `Xtr` and `Xts`.  Compute the mean and std deviation of each feature in `Xtr` and create a new training data set, `Xtr_scale`, by subtracting the mean and dividing by the std deviation.  Also compute a scaled test data set, `Xts_scale` using the mean and std deviation learned from the training data set."
   ]
  },
  {
   "cell_type": "code",
   "execution_count": null,
   "metadata": {
    "colab": {
     "base_uri": "https://localhost:8080/"
    },
    "id": "SrKvvogLK1uI",
    "outputId": "3bb9aded-6c82-499a-f7af-b6cb40ae3046"
   },
   "outputs": [
    {
     "name": "stdout",
     "output_type": "stream",
     "text": [
      "Feature 1: Mean = 0.000311396769229421, Std Dev = 0.00040639504064489125\n",
      "Feature 2: Mean = 0.0012518733210245118, Std Dev = 0.0016359706486663481\n",
      "Feature 3: Mean = 0.005739698137129118, Std Dev = 0.007470869381074944\n",
      "Feature 4: Mean = 0.003683702080221069, Std Dev = 0.0047717254023178736\n",
      "Feature 5: Mean = 0.00035321099061597793, Std Dev = 0.000649247639861341\n",
      "Feature 6: Mean = 0.0008786922331258713, Std Dev = 0.0016046035484330301\n",
      "Feature 7: Mean = 0.0017007975004097412, Std Dev = 0.0034562010180033\n",
      "Feature 8: Mean = 0.00182722101337871, Std Dev = 0.003237513938224512\n",
      "Feature 9: Mean = 0.0015340753467888112, Std Dev = 0.0022034658107452413\n",
      "Feature 10: Mean = 0.00111329502869382, Std Dev = 0.0014700238157937357\n",
      "Feature 11: Mean = 0.0002936499993631473, Std Dev = 0.0003513330150665423\n",
      "Feature 12: Mean = 0.0002758750291924995, Std Dev = 0.0003160420057477934\n",
      "Feature 13: Mean = 0.0003151550051505951, Std Dev = 0.0004078948575726842\n",
      "Feature 14: Mean = 0.0012610805276376251, Std Dev = 0.0016403110814976146\n",
      "Feature 15: Mean = 0.0057592563440583945, Std Dev = 0.007481516839327951\n",
      "Feature 16: Mean = 0.003779471094349054, Std Dev = 0.004848610578552358\n",
      "Feature 17: Mean = 0.001851499820915151, Std Dev = 0.003733581037026553\n",
      "Feature 18: Mean = 0.002326713224084295, Std Dev = 0.003830305527730013\n",
      "Feature 19: Mean = 0.0016600519921083645, Std Dev = 0.0021801339004888006\n",
      "Feature 20: Mean = 0.0010722338301560367, Std Dev = 0.0013330959795030582\n",
      "Feature 21: Mean = 0.0009381129859177971, Std Dev = 0.0012891168899776657\n",
      "Feature 22: Mean = 0.0007540062118058538, Std Dev = 0.0010486593984402686\n",
      "Feature 23: Mean = 0.0002475808081459753, Std Dev = 0.0003033922491731679\n",
      "Feature 24: Mean = 0.00026747632898197485, Std Dev = 0.0003127869301644979\n",
      "Feature 25: Mean = 0.00032318303399204854, Std Dev = 0.00041242071153900126\n",
      "Feature 26: Mean = 0.0012782508780003574, Std Dev = 0.0016503408021406496\n",
      "Feature 27: Mean = 0.005822657146738516, Std Dev = 0.007510343750979729\n",
      "Feature 28: Mean = 0.004904532657355201, Std Dev = 0.005937988664408307\n",
      "Feature 29: Mean = 0.002612424555317668, Std Dev = 0.004110879845944677\n",
      "Feature 30: Mean = 0.0015485628239274914, Std Dev = 0.001977993186502998\n",
      "Feature 31: Mean = 0.001062957530846752, Std Dev = 0.001419456870774953\n",
      "Feature 32: Mean = 0.0007566651452682394, Std Dev = 0.0009765605710845602\n",
      "Feature 33: Mean = 0.0007405286747822823, Std Dev = 0.003463956063081315\n",
      "Feature 34: Mean = 0.0006844555898969061, Std Dev = 0.00600561063249584\n",
      "Feature 35: Mean = 0.0002624929121796849, Std Dev = 0.0020678452122317227\n",
      "Feature 36: Mean = 0.00027773303999549265, Std Dev = 0.0005237428874371532\n",
      "Feature 37: Mean = 0.0003732662800138055, Std Dev = 0.0005038739987362332\n",
      "Feature 38: Mean = 0.0013465690854532876, Std Dev = 0.0017407653442693223\n",
      "Feature 39: Mean = 0.006265896507429347, Std Dev = 0.007820573458374802\n",
      "Feature 40: Mean = 0.005564236299702798, Std Dev = 0.00638209984132825\n",
      "Feature 41: Mean = 0.0019996602176906167, Std Dev = 0.002768667247830578\n",
      "Feature 42: Mean = 0.0014869223856708441, Std Dev = 0.004382030197972624\n",
      "Feature 43: Mean = 0.002292761377699467, Std Dev = 0.011587461957492228\n",
      "Feature 44: Mean = 0.004542458296271169, Std Dev = 0.02302176793270845\n",
      "Feature 45: Mean = 0.006857455207049204, Std Dev = 0.03841864006147066\n",
      "Feature 46: Mean = 0.004465203647375712, Std Dev = 0.026479487374836557\n",
      "Feature 47: Mean = 0.0010931356101381883, Std Dev = 0.006523408312320888\n",
      "Feature 48: Mean = 0.0005690432202311486, Std Dev = 0.002026578862804948\n",
      "Feature 49: Mean = 0.0006502461641367714, Std Dev = 0.0012886849488245753\n",
      "Feature 50: Mean = 0.0017856219262885932, Std Dev = 0.002626621789419288\n",
      "Feature 51: Mean = 0.007524880644851471, Std Dev = 0.009451404263172486\n",
      "Feature 52: Mean = 0.006094353097389329, Std Dev = 0.007214769189204942\n",
      "Feature 53: Mean = 0.004548086026894463, Std Dev = 0.014934801539823883\n",
      "Feature 54: Mean = 0.01020570938814577, Std Dev = 0.04028376854390529\n",
      "Feature 55: Mean = 0.019011367720093212, Std Dev = 0.06287884368708248\n",
      "Feature 56: Mean = 0.03663922936406821, Std Dev = 0.11883798766080533\n",
      "Feature 57: Mean = 0.049811062133937024, Std Dev = 0.16721848696073452\n",
      "Feature 58: Mean = 0.0316471126800333, Std Dev = 0.11720811190693925\n",
      "Feature 59: Mean = 0.007066178639395115, Std Dev = 0.02692912413691749\n",
      "Feature 60: Mean = 0.003068441624608164, Std Dev = 0.00950201593143194\n",
      "Feature 61: Mean = 0.0016464531709426513, Std Dev = 0.0028330322370367983\n",
      "Feature 62: Mean = 0.0034519814328661316, Std Dev = 0.0053345789004732354\n",
      "Feature 63: Mean = 0.010592441532703672, Std Dev = 0.014133624787761449\n",
      "Feature 64: Mean = 0.012760636162184558, Std Dev = 0.027719584538119416\n",
      "Feature 65: Mean = 0.030823819012017053, Std Dev = 0.08370906416222695\n",
      "Feature 66: Mean = 0.06792104945677038, Std Dev = 0.18016007289173516\n",
      "Feature 67: Mean = 0.08668014235498148, Std Dev = 0.18753625560723985\n",
      "Feature 68: Mean = 0.10457362285247745, Std Dev = 0.2035580964018604\n",
      "Feature 69: Mean = 0.13837530262467346, Std Dev = 0.2934528407242002\n",
      "Feature 70: Mean = 0.10160402592986294, Std Dev = 0.2555266542924642\n",
      "Feature 71: Mean = 0.022841940872902703, Std Dev = 0.06486945962720905\n",
      "Feature 72: Mean = 0.009643340763889304, Std Dev = 0.020873328231636578\n",
      "Feature 73: Mean = 0.003952720762866292, Std Dev = 0.0053218946438314246\n",
      "Feature 74: Mean = 0.007716699931419308, Std Dev = 0.010514128255061284\n",
      "Feature 75: Mean = 0.020872456904079694, Std Dev = 0.029385483771856943\n",
      "Feature 76: Mean = 0.05634364518095409, Std Dev = 0.12801483616407935\n",
      "Feature 77: Mean = 0.12297187877184687, Std Dev = 0.2395486485067916\n",
      "Feature 78: Mean = 0.19423590631617776, Std Dev = 0.32097600665261333\n",
      "Feature 79: Mean = 0.2389646133997495, Std Dev = 0.3805925492166691\n",
      "Feature 80: Mean = 0.21918523807885518, Std Dev = 0.2952241566598412\n",
      "Feature 81: Mean = 0.22635999128363002, Std Dev = 0.3326480660198443\n",
      "Feature 82: Mean = 0.15007437522353892, Std Dev = 0.2701685423155584\n",
      "Feature 83: Mean = 0.034802059858287215, Std Dev = 0.06607241891303556\n",
      "Feature 84: Mean = 0.01660917977725553, Std Dev = 0.023793583821865943\n",
      "Feature 85: Mean = 0.008266726823506751, Std Dev = 0.010174682724942574\n",
      "Feature 86: Mean = 0.0181379252983375, Std Dev = 0.024995564195450674\n",
      "Feature 87: Mean = 0.05731863597057501, Std Dev = 0.08743870963376203\n",
      "Feature 88: Mean = 0.17658229791812846, Std Dev = 0.2900223146703629\n",
      "Feature 89: Mean = 0.31971895913020815, Std Dev = 0.44451410335645836\n",
      "Feature 90: Mean = 0.3609601370306811, Std Dev = 0.4018780014712252\n",
      "Feature 91: Mean = 0.37756816457567965, Std Dev = 0.5267775288620964\n",
      "Feature 92: Mean = 0.3626789976088831, Std Dev = 0.5676862627798128\n",
      "Feature 93: Mean = 0.2920707490142066, Std Dev = 0.4324942654291931\n",
      "Feature 94: Mean = 0.17774842156191115, Std Dev = 0.3028861563525236\n",
      "Feature 95: Mean = 0.044826708708531074, Std Dev = 0.07688163272543634\n",
      "Feature 96: Mean = 0.024093617642807645, Std Dev = 0.029670862828872907\n",
      "Feature 97: Mean = 0.013773887406600023, Std Dev = 0.015443944793854905\n",
      "Feature 98: Mean = 0.03459150581230184, Std Dev = 0.042537075886046334\n",
      "Feature 99: Mean = 0.14843414160501167, Std Dev = 0.21472479635808076\n",
      "Feature 100: Mean = 0.40841336040418913, Std Dev = 0.49538452070068584\n",
      "Feature 101: Mean = 0.5475656355842535, Std Dev = 0.6257584950100844\n",
      "Feature 102: Mean = 0.47479012234450846, Std Dev = 0.6667480650420692\n",
      "Feature 103: Mean = 0.32970266036149426, Std Dev = 0.510159530598439\n",
      "Feature 104: Mean = 0.21392692454020235, Std Dev = 0.3500075901616581\n",
      "Feature 105: Mean = 0.1226250861433303, Std Dev = 0.19932285263342478\n",
      "Feature 106: Mean = 0.06949770875196622, Std Dev = 0.11775136029067026\n",
      "Feature 107: Mean = 0.026151252752579852, Std Dev = 0.03494978050142828\n",
      "Feature 108: Mean = 0.0189834190067075, Std Dev = 0.022207713948765858\n",
      "Feature 109: Mean = 0.02016771748913776, Std Dev = 0.02153661488894984\n",
      "Feature 110: Mean = 0.059734250213526435, Std Dev = 0.06908714930681291\n",
      "Feature 111: Mean = 0.33450028243484436, Std Dev = 0.4173303038634999\n",
      "Feature 112: Mean = 0.6978061891490636, Std Dev = 0.7629307220935556\n",
      "Feature 113: Mean = 0.552986077520673, Std Dev = 0.7694415325410582\n",
      "Feature 114: Mean = 0.2678544245418904, Std Dev = 0.4379444615989003\n",
      "Feature 115: Mean = 0.10430745438525815, Std Dev = 0.17527920747487555\n",
      "Feature 116: Mean = 0.049508112901865686, Std Dev = 0.08227447508081245\n",
      "Feature 117: Mean = 0.03161837672212778, Std Dev = 0.04692959253690212\n",
      "Feature 118: Mean = 0.025430424198947834, Std Dev = 0.03281257117423299\n",
      "Feature 119: Mean = 0.019596308733505013, Std Dev = 0.023538764418767455\n",
      "Feature 120: Mean = 0.020463797057093357, Std Dev = 0.022607686990297263\n"
     ]
    }
   ],
   "source": [
    "# TODO 4: Scale the training and test matrices\n",
    "from sklearn.preprocessing import StandardScaler\n",
    "scaler = StandardScaler()\n",
    "Xtr_scale = scaler.fit_transform(Xtr)\n",
    "Xts_scale = scaler.transform(Xts)\n",
    "mean_values = scaler.mean_\n",
    "std_dev_values = scaler.scale_\n",
    "for feature_idx, (mean, std_dev) in enumerate(zip(mean_values, std_dev_values)):\n",
    "    print(f\"Feature {feature_idx + 1}: Mean = {mean}, Std Dev = {std_dev}\")\n",
    "\n",
    "# Xtr_scale = ...\n",
    "# Xts_scale = ..."
   ]
  },
  {
   "cell_type": "markdown",
   "metadata": {
    "collapsed": true,
    "id": "hGvhUV1kK1uI"
   },
   "source": [
    "## Building a Neural Network Classifier\n",
    "\n",
    "Following the example in [MNIST neural network demo](./mnist_neural.ipynb), clear the keras session.  Then, create a neural network `model` with:\n",
    "* `nh=256` hidden units\n",
    "* `sigmoid` activation\n",
    "* select the input and output shapes correctly\n",
    "* print the model summary"
   ]
  },
  {
   "cell_type": "code",
   "execution_count": null,
   "metadata": {
    "id": "c-hdTIDiK1uI"
   },
   "outputs": [],
   "source": [
    "from tensorflow.keras.models import Model, Sequential\n",
    "from tensorflow.keras.layers import Dense, Activation\n",
    "import tensorflow.keras.backend as K\n"
   ]
  },
  {
   "cell_type": "code",
   "execution_count": null,
   "metadata": {
    "id": "KP4zvq-7K1uI"
   },
   "outputs": [],
   "source": [
    "# TODO 5 clear session\n",
    "import tensorflow as tf\n",
    "from tensorflow.keras import layers, models\n",
    "tf.keras.backend.clear_session()\n"
   ]
  },
  {
   "cell_type": "code",
   "execution_count": null,
   "metadata": {
    "id": "D3QihKINK1uI"
   },
   "outputs": [],
   "source": [
    "# TODO 6: construct the model\n",
    "nh = 256\n",
    "model = models.Sequential()\n",
    "model.add(layers.Dense(nh, activation='sigmoid', input_shape=(num_features,)))\n",
    "model.add(layers.Dense(num_classes, activation='softmax'))\n"
   ]
  },
  {
   "cell_type": "code",
   "execution_count": null,
   "metadata": {
    "colab": {
     "base_uri": "https://localhost:8080/"
    },
    "id": "csDRnFfhK1uI",
    "outputId": "a144f4b0-a277-4270-b7f6-916f36404c07"
   },
   "outputs": [
    {
     "name": "stdout",
     "output_type": "stream",
     "text": [
      "Model: \"sequential\"\n",
      "_________________________________________________________________\n",
      " Layer (type)                Output Shape              Param #   \n",
      "=================================================================\n",
      " dense (Dense)               (None, 256)               30976     \n",
      "                                                                 \n",
      " dense_1 (Dense)             (None, 10)                2570      \n",
      "                                                                 \n",
      "=================================================================\n",
      "Total params: 33546 (131.04 KB)\n",
      "Trainable params: 33546 (131.04 KB)\n",
      "Non-trainable params: 0 (0.00 Byte)\n",
      "_________________________________________________________________\n"
     ]
    }
   ],
   "source": [
    "# TODO 7:  Print the model summary\n",
    "model.summary()"
   ]
  },
  {
   "cell_type": "markdown",
   "metadata": {
    "id": "TDx5D4NfK1uI"
   },
   "source": [
    "Create an optimizer and compile the model.  Select the appropriate loss function and metrics.  For the optimizer, use the Adam optimizer with a learning rate of 0.001"
   ]
  },
  {
   "cell_type": "code",
   "execution_count": null,
   "metadata": {
    "colab": {
     "base_uri": "https://localhost:8080/"
    },
    "id": "06FyKWoOK1uI",
    "outputId": "0de86575-fbd0-486d-d8f2-b96c2f570113",
    "scrolled": true
   },
   "outputs": [
    {
     "name": "stdout",
     "output_type": "stream",
     "text": [
      "Model: \"sequential\"\n",
      "_________________________________________________________________\n",
      " Layer (type)                Output Shape              Param #   \n",
      "=================================================================\n",
      " dense (Dense)               (None, 256)               30976     \n",
      "                                                                 \n",
      " dense_1 (Dense)             (None, 10)                2570      \n",
      "                                                                 \n",
      "=================================================================\n",
      "Total params: 33546 (131.04 KB)\n",
      "Trainable params: 33546 (131.04 KB)\n",
      "Non-trainable params: 0 (0.00 Byte)\n",
      "_________________________________________________________________\n"
     ]
    }
   ],
   "source": [
    "# TODO 8\n",
    "from tensorflow.keras import optimizers\n",
    "optimizer = optimizers.Adam(learning_rate=0.001)\n",
    "model.compile(optimizer=optimizer,\n",
    "              loss='sparse_categorical_crossentropy',  # Assuming a classification problem\n",
    "              metrics=['accuracy'])\n",
    "model.summary()\n",
    "\n",
    "# opt = ...\n",
    "# model.compile(...)"
   ]
  },
  {
   "cell_type": "markdown",
   "metadata": {
    "id": "6RPvAeYWK1uI"
   },
   "source": [
    "Fit the model for 10 epochs using the scaled data for both the training and validation.  Use the `validation_data` option to pass the test data.  Also, pass the callback class create above.  Use a batch size of 100.  Your final accuracy should be >99%."
   ]
  },
  {
   "cell_type": "code",
   "execution_count": null,
   "metadata": {
    "colab": {
     "base_uri": "https://localhost:8080/"
    },
    "id": "qYOno1M5K1uI",
    "outputId": "e7cfbc5a-62c2-4554-a5d4-57bf092ad9cb",
    "scrolled": true
   },
   "outputs": [
    {
     "name": "stdout",
     "output_type": "stream",
     "text": [
      "Epoch 1/10\n",
      "663/663 [==============================] - 4s 4ms/step - loss: 0.3612 - accuracy: 0.9020 - val_loss: 0.1729 - val_accuracy: 0.9621\n",
      "Epoch 2/10\n",
      "663/663 [==============================] - 2s 4ms/step - loss: 0.1019 - accuracy: 0.9752 - val_loss: 0.0950 - val_accuracy: 0.9781\n",
      "Epoch 3/10\n",
      "663/663 [==============================] - 3s 4ms/step - loss: 0.0597 - accuracy: 0.9858 - val_loss: 0.0637 - val_accuracy: 0.9847\n",
      "Epoch 4/10\n",
      "663/663 [==============================] - 3s 5ms/step - loss: 0.0422 - accuracy: 0.9897 - val_loss: 0.0492 - val_accuracy: 0.9865\n",
      "Epoch 5/10\n",
      "663/663 [==============================] - 2s 4ms/step - loss: 0.0319 - accuracy: 0.9919 - val_loss: 0.0404 - val_accuracy: 0.9899\n",
      "Epoch 6/10\n",
      "663/663 [==============================] - 2s 4ms/step - loss: 0.0250 - accuracy: 0.9936 - val_loss: 0.0482 - val_accuracy: 0.9845\n",
      "Epoch 7/10\n",
      "663/663 [==============================] - 2s 3ms/step - loss: 0.0208 - accuracy: 0.9945 - val_loss: 0.0363 - val_accuracy: 0.9890\n",
      "Epoch 8/10\n",
      "654/663 [============================>.] - ETA: 0s - loss: 0.0171 - accuracy: 0.9957\n",
      "Reached target accuracy (99.00%), stopping training!\n",
      "663/663 [==============================] - 2s 3ms/step - loss: 0.0171 - accuracy: 0.9957 - val_loss: 0.0280 - val_accuracy: 0.9918\n",
      "466/466 [==============================] - 1s 2ms/step - loss: 0.0280 - accuracy: 0.9918\n",
      "Final Test Accuracy: 99.18%\n"
     ]
    }
   ],
   "source": [
    "# TODO 9\n",
    "from tensorflow.keras.callbacks import Callback\n",
    "\n",
    "tf.keras.backend.clear_session()\n",
    "nh = 256\n",
    "model = models.Sequential()\n",
    "model.add(layers.Dense(nh, activation='sigmoid', input_shape=(num_features,)))\n",
    "model.add(layers.Dense(num_classes, activation='softmax'))\n",
    "\n",
    "# Create an instance of the Adam optimizer with a learning rate of 0.001\n",
    "optimizer = optimizers.Adam(learning_rate=0.001)\n",
    "\n",
    "# Compile the model\n",
    "model.compile(optimizer=optimizer,\n",
    "              loss='sparse_categorical_crossentropy',\n",
    "              metrics=['accuracy'])\n",
    "\n",
    "# Create an instance of your custom callback class\n",
    "my_callback_instance = MyCustomCallback(target_accuracy=0.99)\n",
    "\n",
    "# Fit the model\n",
    "history = model.fit(\n",
    "    Xtr_scale, ytr,\n",
    "    epochs=10,\n",
    "    batch_size=100,\n",
    "    validation_data=(Xts_scale, yts),\n",
    "    callbacks=[my_callback_instance]\n",
    ")\n",
    "\n",
    "# Evaluate the model on the test set\n",
    "test_loss, test_accuracy = model.evaluate(Xts_scale, yts)\n",
    "\n",
    "# Print the final accuracy\n",
    "print(f\"Final Test Accuracy: {test_accuracy * 100:.2f}%\")\n"
   ]
  },
  {
   "cell_type": "markdown",
   "metadata": {
    "id": "O1EIeIpSK1uI"
   },
   "source": [
    "Plot the validation accuracy saved in `hist.history` dictionary. This gives one accuracy value per epoch.  You should see that the validation accuracy saturates at a little higher than 99%.  After that it \"bounces around\" due to the noise in the stochastic gradient descent."
   ]
  },
  {
   "cell_type": "code",
   "execution_count": null,
   "metadata": {
    "colab": {
     "base_uri": "https://localhost:8080/",
     "height": 638
    },
    "id": "jafVfK3eK1uJ",
    "outputId": "8869f413-07d6-4ea1-8ce5-bdd872bcb861"
   },
   "outputs": [
    {
     "name": "stdout",
     "output_type": "stream",
     "text": [
      "Epoch 1/10\n",
      "652/663 [============================>.] - ETA: 0s - loss: 0.0144 - accuracy: 0.9964\n",
      "Reached target accuracy (99.00%), stopping training!\n",
      "663/663 [==============================] - 3s 5ms/step - loss: 0.0145 - accuracy: 0.9963 - val_loss: 0.0233 - val_accuracy: 0.9921\n"
     ]
    },
    {
     "data": {
      "image/png": "[encoded data removed]",
      "text/plain": [
       "<Figure size 800x600 with 1 Axes>"
      ]
     },
     "metadata": {},
     "output_type": "display_data"
    }
   ],
   "source": [
    "# TODO 10\n",
    "import matplotlib.pyplot as plt\n",
    "history = model.fit(\n",
    "    Xtr_scale, ytr,\n",
    "    epochs=10,\n",
    "    batch_size=100,\n",
    "    validation_data=(Xts_scale, yts),\n",
    "    callbacks=[my_callback_instance]\n",
    ")\n",
    "plt.figure(figsize=(8, 6))\n",
    "plt.plot(history.history['val_accuracy'], label='Validation Accuracy')\n",
    "plt.axhline(y=0.99, color='r', linestyle='--', label='Target Accuracy')\n",
    "plt.title('Validation Accuracy Over Epochs')\n",
    "plt.xlabel('Epochs')\n",
    "plt.ylabel('Accuracy')\n",
    "plt.legend()\n",
    "plt.grid(True)\n",
    "plt.show()\n"
   ]
  },
  {
   "cell_type": "markdown",
   "metadata": {
    "id": "cHC7LOZkK1uJ"
   },
   "source": [
    "Plot the loss values saved in the `hist.history` dictionary.  You should see that the loss is steadily decreasing.  Use the `semilogy` plot."
   ]
  },
  {
   "cell_type": "code",
   "execution_count": null,
   "metadata": {
    "colab": {
     "base_uri": "https://localhost:8080/",
     "height": 638
    },
    "id": "TrwNIMM1K1uJ",
    "outputId": "b22f07f5-ff5c-43f1-be11-b768cbfc8637"
   },
   "outputs": [
    {
     "name": "stdout",
     "output_type": "stream",
     "text": [
      "Epoch 1/10\n",
      "661/663 [============================>.] - ETA: 0s - loss: 0.0127 - accuracy: 0.9968\n",
      "Reached target accuracy (99.00%), stopping training!\n",
      "663/663 [==============================] - 4s 6ms/step - loss: 0.0127 - accuracy: 0.9968 - val_loss: 0.0231 - val_accuracy: 0.9921\n"
     ]
    },
    {
     "data": {
      "image/png": "[encoded data removed]",
      "text/plain": [
       "<Figure size 800x600 with 1 Axes>"
      ]
     },
     "metadata": {},
     "output_type": "display_data"
    }
   ],
   "source": [
    "# TODO 11\n",
    "import matplotlib.pyplot as plt\n",
    "history = model.fit(\n",
    "    Xtr_scale, ytr,\n",
    "    epochs=10,\n",
    "    batch_size=100,\n",
    "    validation_data=(Xts_scale, yts),\n",
    "    callbacks=[my_callback_instance]\n",
    ")\n",
    "plt.figure(figsize=(8, 6))\n",
    "plt.semilogy(history.history['loss'], label='Training Loss')\n",
    "plt.semilogy(history.history['val_loss'], label='Validation Loss')\n",
    "plt.title('Training and Validation Loss Over Epochs')\n",
    "plt.xlabel('Epochs')\n",
    "plt.ylabel('Logarithmic Loss')\n",
    "plt.legend()\n",
    "plt.grid(True)\n",
    "plt.show()\n"
   ]
  },
  {
   "cell_type": "markdown",
   "metadata": {
    "id": "iQDH6xqhK1uJ"
   },
   "source": [
    "## Optimizing the Learning Rate\n",
    "\n",
    "One challenge in training neural networks is the selection of the learning rate.  Rerun the above code, trying four learning rates as shown in the vector `rates`.  For each learning rate:\n",
    "* clear the session\n",
    "* construct the network\n",
    "* select the optimizer.  Use the Adam optimizer with the appropriate learrning rate.\n",
    "* train the model for 20 epochs\n",
    "* save the accuracy and losses"
   ]
  },
  {
   "cell_type": "code",
   "execution_count": null,
   "metadata": {
    "id": "uDzCi2gPK1uJ"
   },
   "outputs": [],
   "source": [
    "rates = [0.01,0.001,0.0001]\n",
    "batch_size = 100\n",
    "loss_hist = []\n",
    "\n",
    "# TODO 12\n",
    "# for lr in rate:\n",
    "#    ...\n"
   ]
  },
  {
   "cell_type": "markdown",
   "metadata": {
    "id": "wE3SSaeVK1uJ"
   },
   "source": [
    "Plot the loss funciton vs. the epoch number for all three learning rates on one graph.  You should see that the lower learning rates are more stable, but converge slower."
   ]
  },
  {
   "cell_type": "code",
   "execution_count": null,
   "metadata": {
    "id": "ZcOpKuRlK1uJ"
   },
   "outputs": [],
   "source": [
    "# TODO 13"
   ]
  },
  {
   "cell_type": "code",
   "execution_count": null,
   "metadata": {
    "id": "hagqsatsK1uJ"
   },
   "outputs": [],
   "source": []
  },
  {
   "cell_type": "code",
   "execution_count": null,
   "metadata": {
    "id": "VTb4Whi4K1uJ"
   },
   "outputs": [],
   "source": []
  }
 ],
 "metadata": {
  "anaconda-cloud": {},
  "colab": {
   "provenance": []
  },
  "kernelspec": {
   "display_name": "Python 3 (ipykernel)",
   "language": "python",
   "name": "python3"
  },
  "language_info": {
   "codemirror_mode": {
    "name": "ipython",
    "version": 3
   },
   "file_extension": ".py",
   "mimetype": "text/x-python",
   "name": "python",
   "nbconvert_exporter": "python",
   "pygments_lexer": "ipython3",
   "version": "3.11.5"
  }
 },
 "nbformat": 4,
 "nbformat_minor": 1
}
