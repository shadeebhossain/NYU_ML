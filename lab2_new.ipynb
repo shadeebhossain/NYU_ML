{
  "nbformat": 4,
  "nbformat_minor": 0,
  "metadata": {
    "colab": {
      "provenance": []
    },
    "kernelspec": {
      "name": "python3",
      "display_name": "Python 3"
    },
    "language_info": {
      "name": "python"
    }
  },
  "cells": [
    {
      "cell_type": "markdown",
      "source": [
        "***Homework 2***\n",
        "\n",
        "*The Boston housing data set was collected in the 1970s to study the relationship between house price and various factors such as the house size, crime rate, socio-economic status, etc. Since the variables are easy to understand, the data set is ideal for learning basic concepts in machine learning.*"
      ],
      "metadata": {
        "id": "CxJszZLItPCC"
      }
    },
    {
      "cell_type": "code",
      "source": [
        "# Importing data\n",
        "import pandas as pd\n",
        "import numpy as np\n",
        "\n",
        "names =[\n",
        "    'CRIM', 'ZN', 'INDUS', 'CHAS', 'NOX', 'RM',\n",
        "    'AGE',  'DIS', 'RAD', 'TAX', 'PTRATIO', 'B', 'LSTAT', 'PRICE'\n",
        "]\n",
        "# To do 1: Complete the code\n",
        "df=pd.read_csv(\"https://archive.ics.uci.edu/ml/machine-learning-databases/housing/housing.data\",header=None,delim_whitespace=True, names=names,na_values='?')"
      ],
      "metadata": {
        "id": "EO374imItVUa"
      },
      "execution_count": 1,
      "outputs": []
    },
    {
      "cell_type": "code",
      "source": [
        "# To do 2 : Display the first six rows of the data frame\n",
        "\n",
        "df.head(6)"
      ],
      "metadata": {
        "colab": {
          "base_uri": "https://localhost:8080/",
          "height": 238
        },
        "id": "QpvU74EpvdWy",
        "outputId": "263424dc-7d71-4eec-ed8c-b070ac44b28a"
      },
      "execution_count": 2,
      "outputs": [
        {
          "output_type": "execute_result",
          "data": {
            "text/plain": [
              "      CRIM    ZN  INDUS  CHAS    NOX     RM   AGE     DIS  RAD    TAX  \\\n",
              "0  0.00632  18.0   2.31     0  0.538  6.575  65.2  4.0900    1  296.0   \n",
              "1  0.02731   0.0   7.07     0  0.469  6.421  78.9  4.9671    2  242.0   \n",
              "2  0.02729   0.0   7.07     0  0.469  7.185  61.1  4.9671    2  242.0   \n",
              "3  0.03237   0.0   2.18     0  0.458  6.998  45.8  6.0622    3  222.0   \n",
              "4  0.06905   0.0   2.18     0  0.458  7.147  54.2  6.0622    3  222.0   \n",
              "5  0.02985   0.0   2.18     0  0.458  6.430  58.7  6.0622    3  222.0   \n",
              "\n",
              "   PTRATIO       B  LSTAT  PRICE  \n",
              "0     15.3  396.90   4.98   24.0  \n",
              "1     17.8  396.90   9.14   21.6  \n",
              "2     17.8  392.83   4.03   34.7  \n",
              "3     18.7  394.63   2.94   33.4  \n",
              "4     18.7  396.90   5.33   36.2  \n",
              "5     18.7  394.12   5.21   28.7  "
            ],
            "text/html": [
              "\n",
              "  <div id=\"df-71ca4c4f-c764-44c9-aa65-bb650632feff\" class=\"colab-df-container\">\n",
              "    <div>\n",
              "<style scoped>\n",
              "    .dataframe tbody tr th:only-of-type {\n",
              "        vertical-align: middle;\n",
              "    }\n",
              "\n",
              "    .dataframe tbody tr th {\n",
              "        vertical-align: top;\n",
              "    }\n",
              "\n",
              "    .dataframe thead th {\n",
              "        text-align: right;\n",
              "    }\n",
              "</style>\n",
              "<table border=\"1\" class=\"dataframe\">\n",
              "  <thead>\n",
              "    <tr style=\"text-align: right;\">\n",
              "      <th></th>\n",
              "      <th>CRIM</th>\n",
              "      <th>ZN</th>\n",
              "      <th>INDUS</th>\n",
              "      <th>CHAS</th>\n",
              "      <th>NOX</th>\n",
              "      <th>RM</th>\n",
              "      <th>AGE</th>\n",
              "      <th>DIS</th>\n",
              "      <th>RAD</th>\n",
              "      <th>TAX</th>\n",
              "      <th>PTRATIO</th>\n",
              "      <th>B</th>\n",
              "      <th>LSTAT</th>\n",
              "      <th>PRICE</th>\n",
              "    </tr>\n",
              "  </thead>\n",
              "  <tbody>\n",
              "    <tr>\n",
              "      <th>0</th>\n",
              "      <td>0.00632</td>\n",
              "      <td>18.0</td>\n",
              "      <td>2.31</td>\n",
              "      <td>0</td>\n",
              "      <td>0.538</td>\n",
              "      <td>6.575</td>\n",
              "      <td>65.2</td>\n",
              "      <td>4.0900</td>\n",
              "      <td>1</td>\n",
              "      <td>296.0</td>\n",
              "      <td>15.3</td>\n",
              "      <td>396.90</td>\n",
              "      <td>4.98</td>\n",
              "      <td>24.0</td>\n",
              "    </tr>\n",
              "    <tr>\n",
              "      <th>1</th>\n",
              "      <td>0.02731</td>\n",
              "      <td>0.0</td>\n",
              "      <td>7.07</td>\n",
              "      <td>0</td>\n",
              "      <td>0.469</td>\n",
              "      <td>6.421</td>\n",
              "      <td>78.9</td>\n",
              "      <td>4.9671</td>\n",
              "      <td>2</td>\n",
              "      <td>242.0</td>\n",
              "      <td>17.8</td>\n",
              "      <td>396.90</td>\n",
              "      <td>9.14</td>\n",
              "      <td>21.6</td>\n",
              "    </tr>\n",
              "    <tr>\n",
              "      <th>2</th>\n",
              "      <td>0.02729</td>\n",
              "      <td>0.0</td>\n",
              "      <td>7.07</td>\n",
              "      <td>0</td>\n",
              "      <td>0.469</td>\n",
              "      <td>7.185</td>\n",
              "      <td>61.1</td>\n",
              "      <td>4.9671</td>\n",
              "      <td>2</td>\n",
              "      <td>242.0</td>\n",
              "      <td>17.8</td>\n",
              "      <td>392.83</td>\n",
              "      <td>4.03</td>\n",
              "      <td>34.7</td>\n",
              "    </tr>\n",
              "    <tr>\n",
              "      <th>3</th>\n",
              "      <td>0.03237</td>\n",
              "      <td>0.0</td>\n",
              "      <td>2.18</td>\n",
              "      <td>0</td>\n",
              "      <td>0.458</td>\n",
              "      <td>6.998</td>\n",
              "      <td>45.8</td>\n",
              "      <td>6.0622</td>\n",
              "      <td>3</td>\n",
              "      <td>222.0</td>\n",
              "      <td>18.7</td>\n",
              "      <td>394.63</td>\n",
              "      <td>2.94</td>\n",
              "      <td>33.4</td>\n",
              "    </tr>\n",
              "    <tr>\n",
              "      <th>4</th>\n",
              "      <td>0.06905</td>\n",
              "      <td>0.0</td>\n",
              "      <td>2.18</td>\n",
              "      <td>0</td>\n",
              "      <td>0.458</td>\n",
              "      <td>7.147</td>\n",
              "      <td>54.2</td>\n",
              "      <td>6.0622</td>\n",
              "      <td>3</td>\n",
              "      <td>222.0</td>\n",
              "      <td>18.7</td>\n",
              "      <td>396.90</td>\n",
              "      <td>5.33</td>\n",
              "      <td>36.2</td>\n",
              "    </tr>\n",
              "    <tr>\n",
              "      <th>5</th>\n",
              "      <td>0.02985</td>\n",
              "      <td>0.0</td>\n",
              "      <td>2.18</td>\n",
              "      <td>0</td>\n",
              "      <td>0.458</td>\n",
              "      <td>6.430</td>\n",
              "      <td>58.7</td>\n",
              "      <td>6.0622</td>\n",
              "      <td>3</td>\n",
              "      <td>222.0</td>\n",
              "      <td>18.7</td>\n",
              "      <td>394.12</td>\n",
              "      <td>5.21</td>\n",
              "      <td>28.7</td>\n",
              "    </tr>\n",
              "  </tbody>\n",
              "</table>\n",
              "</div>\n",
              "    <div class=\"colab-df-buttons\">\n",
              "\n",
              "  <div class=\"colab-df-container\">\n",
              "    <button class=\"colab-df-convert\" onclick=\"convertToInteractive('df-71ca4c4f-c764-44c9-aa65-bb650632feff')\"\n",
              "            title=\"Convert this dataframe to an interactive table.\"\n",
              "            style=\"display:none;\">\n",
              "\n",
              "  <svg xmlns=\"http://www.w3.org/2000/svg\" height=\"24px\" viewBox=\"0 -960 960 960\">\n",
              "    <path d=\"M120-120v-720h720v720H120Zm60-500h600v-160H180v160Zm220 220h160v-160H400v160Zm0 220h160v-160H400v160ZM180-400h160v-160H180v160Zm440 0h160v-160H620v160ZM180-180h160v-160H180v160Zm440 0h160v-160H620v160Z\"/>\n",
              "  </svg>\n",
              "    </button>\n",
              "\n",
              "  <style>\n",
              "    .colab-df-container {\n",
              "      display:flex;\n",
              "      gap: 12px;\n",
              "    }\n",
              "\n",
              "    .colab-df-convert {\n",
              "      background-color: #E8F0FE;\n",
              "      border: none;\n",
              "      border-radius: 50%;\n",
              "      cursor: pointer;\n",
              "      display: none;\n",
              "      fill: #1967D2;\n",
              "      height: 32px;\n",
              "      padding: 0 0 0 0;\n",
              "      width: 32px;\n",
              "    }\n",
              "\n",
              "    .colab-df-convert:hover {\n",
              "      background-color: #E2EBFA;\n",
              "      box-shadow: 0px 1px 2px rgba(60, 64, 67, 0.3), 0px 1px 3px 1px rgba(60, 64, 67, 0.15);\n",
              "      fill: #174EA6;\n",
              "    }\n",
              "\n",
              "    .colab-df-buttons div {\n",
              "      margin-bottom: 4px;\n",
              "    }\n",
              "\n",
              "    [theme=dark] .colab-df-convert {\n",
              "      background-color: #3B4455;\n",
              "      fill: #D2E3FC;\n",
              "    }\n",
              "\n",
              "    [theme=dark] .colab-df-convert:hover {\n",
              "      background-color: #434B5C;\n",
              "      box-shadow: 0px 1px 3px 1px rgba(0, 0, 0, 0.15);\n",
              "      filter: drop-shadow(0px 1px 2px rgba(0, 0, 0, 0.3));\n",
              "      fill: #FFFFFF;\n",
              "    }\n",
              "  </style>\n",
              "\n",
              "    <script>\n",
              "      const buttonEl =\n",
              "        document.querySelector('#df-71ca4c4f-c764-44c9-aa65-bb650632feff button.colab-df-convert');\n",
              "      buttonEl.style.display =\n",
              "        google.colab.kernel.accessAllowed ? 'block' : 'none';\n",
              "\n",
              "      async function convertToInteractive(key) {\n",
              "        const element = document.querySelector('#df-71ca4c4f-c764-44c9-aa65-bb650632feff');\n",
              "        const dataTable =\n",
              "          await google.colab.kernel.invokeFunction('convertToInteractive',\n",
              "                                                    [key], {});\n",
              "        if (!dataTable) return;\n",
              "\n",
              "        const docLinkHtml = 'Like what you see? Visit the ' +\n",
              "          '<a target=\"_blank\" href=https://colab.research.google.com/notebooks/data_table.ipynb>data table notebook</a>'\n",
              "          + ' to learn more about interactive tables.';\n",
              "        element.innerHTML = '';\n",
              "        dataTable['output_type'] = 'display_data';\n",
              "        await google.colab.output.renderOutput(dataTable, element);\n",
              "        const docLink = document.createElement('div');\n",
              "        docLink.innerHTML = docLinkHtml;\n",
              "        element.appendChild(docLink);\n",
              "      }\n",
              "    </script>\n",
              "  </div>\n",
              "\n",
              "\n",
              "<div id=\"df-3399a622-879e-4b82-91f4-6ac4c6282690\">\n",
              "  <button class=\"colab-df-quickchart\" onclick=\"quickchart('df-3399a622-879e-4b82-91f4-6ac4c6282690')\"\n",
              "            title=\"Suggest charts.\"\n",
              "            style=\"display:none;\">\n",
              "\n",
              "<svg xmlns=\"http://www.w3.org/2000/svg\" height=\"24px\"viewBox=\"0 0 24 24\"\n",
              "     width=\"24px\">\n",
              "    <g>\n",
              "        <path d=\"M19 3H5c-1.1 0-2 .9-2 2v14c0 1.1.9 2 2 2h14c1.1 0 2-.9 2-2V5c0-1.1-.9-2-2-2zM9 17H7v-7h2v7zm4 0h-2V7h2v10zm4 0h-2v-4h2v4z\"/>\n",
              "    </g>\n",
              "</svg>\n",
              "  </button>\n",
              "\n",
              "<style>\n",
              "  .colab-df-quickchart {\n",
              "      --bg-color: #E8F0FE;\n",
              "      --fill-color: #1967D2;\n",
              "      --hover-bg-color: #E2EBFA;\n",
              "      --hover-fill-color: #174EA6;\n",
              "      --disabled-fill-color: #AAA;\n",
              "      --disabled-bg-color: #DDD;\n",
              "  }\n",
              "\n",
              "  [theme=dark] .colab-df-quickchart {\n",
              "      --bg-color: #3B4455;\n",
              "      --fill-color: #D2E3FC;\n",
              "      --hover-bg-color: #434B5C;\n",
              "      --hover-fill-color: #FFFFFF;\n",
              "      --disabled-bg-color: #3B4455;\n",
              "      --disabled-fill-color: #666;\n",
              "  }\n",
              "\n",
              "  .colab-df-quickchart {\n",
              "    background-color: var(--bg-color);\n",
              "    border: none;\n",
              "    border-radius: 50%;\n",
              "    cursor: pointer;\n",
              "    display: none;\n",
              "    fill: var(--fill-color);\n",
              "    height: 32px;\n",
              "    padding: 0;\n",
              "    width: 32px;\n",
              "  }\n",
              "\n",
              "  .colab-df-quickchart:hover {\n",
              "    background-color: var(--hover-bg-color);\n",
              "    box-shadow: 0 1px 2px rgba(60, 64, 67, 0.3), 0 1px 3px 1px rgba(60, 64, 67, 0.15);\n",
              "    fill: var(--button-hover-fill-color);\n",
              "  }\n",
              "\n",
              "  .colab-df-quickchart-complete:disabled,\n",
              "  .colab-df-quickchart-complete:disabled:hover {\n",
              "    background-color: var(--disabled-bg-color);\n",
              "    fill: var(--disabled-fill-color);\n",
              "    box-shadow: none;\n",
              "  }\n",
              "\n",
              "  .colab-df-spinner {\n",
              "    border: 2px solid var(--fill-color);\n",
              "    border-color: transparent;\n",
              "    border-bottom-color: var(--fill-color);\n",
              "    animation:\n",
              "      spin 1s steps(1) infinite;\n",
              "  }\n",
              "\n",
              "  @keyframes spin {\n",
              "    0% {\n",
              "      border-color: transparent;\n",
              "      border-bottom-color: var(--fill-color);\n",
              "      border-left-color: var(--fill-color);\n",
              "    }\n",
              "    20% {\n",
              "      border-color: transparent;\n",
              "      border-left-color: var(--fill-color);\n",
              "      border-top-color: var(--fill-color);\n",
              "    }\n",
              "    30% {\n",
              "      border-color: transparent;\n",
              "      border-left-color: var(--fill-color);\n",
              "      border-top-color: var(--fill-color);\n",
              "      border-right-color: var(--fill-color);\n",
              "    }\n",
              "    40% {\n",
              "      border-color: transparent;\n",
              "      border-right-color: var(--fill-color);\n",
              "      border-top-color: var(--fill-color);\n",
              "    }\n",
              "    60% {\n",
              "      border-color: transparent;\n",
              "      border-right-color: var(--fill-color);\n",
              "    }\n",
              "    80% {\n",
              "      border-color: transparent;\n",
              "      border-right-color: var(--fill-color);\n",
              "      border-bottom-color: var(--fill-color);\n",
              "    }\n",
              "    90% {\n",
              "      border-color: transparent;\n",
              "      border-bottom-color: var(--fill-color);\n",
              "    }\n",
              "  }\n",
              "</style>\n",
              "\n",
              "  <script>\n",
              "    async function quickchart(key) {\n",
              "      const quickchartButtonEl =\n",
              "        document.querySelector('#' + key + ' button');\n",
              "      quickchartButtonEl.disabled = true;  // To prevent multiple clicks.\n",
              "      quickchartButtonEl.classList.add('colab-df-spinner');\n",
              "      try {\n",
              "        const charts = await google.colab.kernel.invokeFunction(\n",
              "            'suggestCharts', [key], {});\n",
              "      } catch (error) {\n",
              "        console.error('Error during call to suggestCharts:', error);\n",
              "      }\n",
              "      quickchartButtonEl.classList.remove('colab-df-spinner');\n",
              "      quickchartButtonEl.classList.add('colab-df-quickchart-complete');\n",
              "    }\n",
              "    (() => {\n",
              "      let quickchartButtonEl =\n",
              "        document.querySelector('#df-3399a622-879e-4b82-91f4-6ac4c6282690 button');\n",
              "      quickchartButtonEl.style.display =\n",
              "        google.colab.kernel.accessAllowed ? 'block' : 'none';\n",
              "    })();\n",
              "  </script>\n",
              "</div>\n",
              "    </div>\n",
              "  </div>\n"
            ]
          },
          "metadata": {},
          "execution_count": 2
        }
      ]
    },
    {
      "cell_type": "markdown",
      "source": [
        "***Basic Manipulations of the data***"
      ],
      "metadata": {
        "id": "W3r7nnfOxJ3a"
      }
    },
    {
      "cell_type": "code",
      "source": [
        "# TODO 3: What is the shape of the data? How many attributes are there? How many samples?\n",
        "df.shape\n"
      ],
      "metadata": {
        "colab": {
          "base_uri": "https://localhost:8080/"
        },
        "id": "t6qD87CkxPOp",
        "outputId": "dd0b551d-d613-41d3-e175-4a2e73cbabe0"
      },
      "execution_count": 3,
      "outputs": [
        {
          "output_type": "execute_result",
          "data": {
            "text/plain": [
              "(506, 14)"
            ]
          },
          "metadata": {},
          "execution_count": 3
        }
      ]
    },
    {
      "cell_type": "code",
      "source": [
        "d=len(df.columns)\n"
      ],
      "metadata": {
        "id": "PMICZbEWyAEv"
      },
      "execution_count": 4,
      "outputs": []
    },
    {
      "cell_type": "code",
      "source": [
        "e=len(df.index)"
      ],
      "metadata": {
        "id": "VvLGq9BQyP68"
      },
      "execution_count": 5,
      "outputs": []
    },
    {
      "cell_type": "code",
      "source": [
        "print(\"num samples={0:5.1f}, num attributes={1:5.1f}\".format(d,e))"
      ],
      "metadata": {
        "colab": {
          "base_uri": "https://localhost:8080/"
        },
        "id": "vyFTLMYK-sAh",
        "outputId": "3a6ac889-e1a4-49c3-ee81-0175fb317afc"
      },
      "execution_count": 6,
      "outputs": [
        {
          "output_type": "stream",
          "name": "stdout",
          "text": [
            "num samples= 14.0, num attributes=506.0\n"
          ]
        }
      ]
    },
    {
      "cell_type": "markdown",
      "source": [
        "The shape of the data is (506,14)\n",
        "The number of samples is 506 and the number of attributes is 14"
      ],
      "metadata": {
        "id": "kYBpzMlFxdjd"
      }
    },
    {
      "cell_type": "code",
      "source": [
        "# TODO 4: Create a response vector y with the values in the column PRICE\n",
        "\n",
        "y=df['PRICE']\n",
        "y.head(15)\n"
      ],
      "metadata": {
        "colab": {
          "base_uri": "https://localhost:8080/"
        },
        "id": "sW67M3UFyhHN",
        "outputId": "891d17d8-c74c-4525-e7ae-c6174898c79b"
      },
      "execution_count": 7,
      "outputs": [
        {
          "output_type": "execute_result",
          "data": {
            "text/plain": [
              "0     24.0\n",
              "1     21.6\n",
              "2     34.7\n",
              "3     33.4\n",
              "4     36.2\n",
              "5     28.7\n",
              "6     22.9\n",
              "7     27.1\n",
              "8     16.5\n",
              "9     18.9\n",
              "10    15.0\n",
              "11    18.9\n",
              "12    21.7\n",
              "13    20.4\n",
              "14    18.2\n",
              "Name: PRICE, dtype: float64"
            ]
          },
          "metadata": {},
          "execution_count": 7
        }
      ]
    },
    {
      "cell_type": "code",
      "source": [
        "# TODO 5: Use the response vector y to find the mean house price in thousands and the fraction of homes that are above $40k\n",
        "ny=np.mean(y)\n",
        "ny_mean=np.array(df['PRICE'])  # converting into an array\n",
        "ny_40k=(np.mean(y>40))*100\n",
        "print(\"The mean house price is{0:7.2f} thousands of dollars, Only {1:7.2f} percent are above $40k\".format(ny,ny_40k))"
      ],
      "metadata": {
        "colab": {
          "base_uri": "https://localhost:8080/"
        },
        "id": "K050kuz75x4H",
        "outputId": "7441697c-8c10-4bb3-8927-0e64cff9b2e9"
      },
      "execution_count": 8,
      "outputs": [
        {
          "output_type": "stream",
          "name": "stdout",
          "text": [
            "The mean house price is  22.53 thousands of dollars, Only    6.13 percent are above $40k\n"
          ]
        }
      ]
    },
    {
      "cell_type": "markdown",
      "source": [
        "***Visualizing the data***"
      ],
      "metadata": {
        "id": "SXDqTBmX73EZ"
      }
    },
    {
      "cell_type": "code",
      "source": [
        "import matplotlib\n",
        "import matplotlib.pyplot as plt\n",
        "\n",
        "# TODO 6: create a predictor vector x containing the values in the RM column\n",
        "\n",
        "x=np.array(df['RM'])\n",
        "y=np.array(df['PRICE'])\n",
        " #TODO 7: Create a scatter plot of the price vs. the RM attribute. Make sure your plot has grid lines and label the axes with\n",
        "x=np.array(df['RM'])\n",
        "y=np.array(df['PRICE'])\n",
        "plt.plot(x,y,'o')\n",
        "plt.xlabel('RM')\n",
        "plt.ylabel('Price')\n",
        "plt.title('Correlation between number of rooms and price')\n",
        "plt.grid(True)\n"
      ],
      "metadata": {
        "id": "-JatXWLB78l-",
        "colab": {
          "base_uri": "https://localhost:8080/",
          "height": 472
        },
        "outputId": "9bd7643b-d75e-4fee-ab8d-20d1bc526b3d"
      },
      "execution_count": 9,
      "outputs": [
        {
          "output_type": "display_data",
          "data": {
            "text/plain": [
              "<Figure size 640x480 with 1 Axes>"
            ],
            "image/png": "[encoded data removed]"
          },
          "metadata": {}
        }
      ]
    },
    {
      "cell_type": "markdown",
      "source": [
        "***Fitting a Simple Linear Model***\n",
        "![image.png](data:image/png;base64,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)"
      ],
      "metadata": {
        "id": "6S2Peq4__m2U"
      }
    },
    {
      "cell_type": "code",
      "source": [
        " # TODO 8: complete the following code\n",
        "    # beta0 = ...\n",
        "    # beta1 = ...\n",
        "    # rsq = ...\n",
        "def fit_linear(x,y):\n",
        "  xm=np.mean(x)\n",
        "  ym=np.mean(y)\n",
        "  syy=np.mean((y-ym)**2)\n",
        "  syx=np.mean((y-ym)*(x-xm))\n",
        "  sxx=np.mean((x-xm)**2)\n",
        "  beta1=syx/sxx\n",
        "  beta0=ym-beta1*xm\n",
        "  yhat=beta0+beta1*x\n",
        "  rsq=np.mean((y-yhat)**2)\n",
        "  return beta0, beta1,rsq"
      ],
      "metadata": {
        "id": "0olSVtW8_U46"
      },
      "execution_count": 10,
      "outputs": []
    },
    {
      "cell_type": "code",
      "source": [
        "# TODO 9: print the values beta0, beta1 and rsq for the linear model of price vs. number of rooms.\n",
        "result=fit_linear(x,y)\n",
        "print(\"The value of beta0 is={0:7.2f}, The value of beta 1 is={1:7.2f}, The value of RSS is={2:7.2f}\".format(result[0],result[1],result[2]))"
      ],
      "metadata": {
        "colab": {
          "base_uri": "https://localhost:8080/"
        },
        "id": "z15zPanVPorI",
        "outputId": "ae469f28-74ad-4e29-e643-54634ed6e42e"
      },
      "execution_count": 11,
      "outputs": [
        {
          "output_type": "stream",
          "name": "stdout",
          "text": [
            "The value of beta0 is= -34.67, The value of beta 1 is=   9.10, The value of RSS is=  43.60\n"
          ]
        }
      ]
    },
    {
      "cell_type": "code",
      "source": [
        "# TODO 10: Replot the scatter plot above, but now with the regression line.\n"
      ],
      "metadata": {
        "id": "JGUeup2NZpqN"
      },
      "execution_count": 12,
      "outputs": []
    },
    {
      "cell_type": "code",
      "source": [
        "import matplotlib\n",
        "import matplotlib.pyplot as plt\n",
        "result=fit_linear(x,y)\n",
        "xp=np.linspace(4,9)\n",
        "yp=result[1]*xp+result[0]\n",
        "plt.plot(x,y,'o')\n",
        "plt.plot(xp,yp,'-',linewidth=3)\n",
        "plt.xlabel('RM')\n",
        "plt.ylabel('Price')\n",
        "plt.title('Scatter plot and regression line to show correlation between number of rooms RM and Price')\n",
        "plt.grid(True)\n",
        "plt.legend(['Data','Linear Regression'])"
      ],
      "metadata": {
        "colab": {
          "base_uri": "https://localhost:8080/",
          "height": 489
        },
        "outputId": "09cacd00-3326-49f4-882a-edc5883f13f1",
        "id": "EZBXvlkVb81y"
      },
      "execution_count": 13,
      "outputs": [
        {
          "output_type": "execute_result",
          "data": {
            "text/plain": [
              "<matplotlib.legend.Legend at 0x7aea6568de70>"
            ]
          },
          "metadata": {},
          "execution_count": 13
        },
        {
          "output_type": "display_data",
          "data": {
            "text/plain": [
              "<Figure size 640x480 with 1 Axes>"
            ],
            "image/png": "[encoded data removed]"
          },
          "metadata": {}
        }
      ]
    },
    {
      "cell_type": "markdown",
      "source": [
        "***Another Approach of Linear Regression***"
      ],
      "metadata": {
        "id": "gZZu6HqKam2O"
      }
    },
    {
      "cell_type": "markdown",
      "source": [
        "![image.png](data:image/png;base64,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)"
      ],
      "metadata": {
        "id": "m4ZW3wCtYrZ2"
      }
    },
    {
      "cell_type": "code",
      "source": [
        "from sklearn.linear_model import LinearRegression\n",
        "model=LinearRegression()\n",
        "x_new=np.array([x]).reshape((-1,1))\n",
        "model.fit(x_new,y)"
      ],
      "metadata": {
        "colab": {
          "base_uri": "https://localhost:8080/",
          "height": 75
        },
        "id": "t97sEXPzYvix",
        "outputId": "7bf684ee-414b-41e6-f3b4-dbc775f2baac"
      },
      "execution_count": 14,
      "outputs": [
        {
          "output_type": "execute_result",
          "data": {
            "text/plain": [
              "LinearRegression()"
            ],
            "text/html": [
              "<style>#sk-container-id-1 {color: black;background-color: white;}#sk-container-id-1 pre{padding: 0;}#sk-container-id-1 div.sk-toggleable {background-color: white;}#sk-container-id-1 label.sk-toggleable__label {cursor: pointer;display: block;width: 100%;margin-bottom: 0;padding: 0.3em;box-sizing: border-box;text-align: center;}#sk-container-id-1 label.sk-toggleable__label-arrow:before {content: \"▸\";float: left;margin-right: 0.25em;color: #696969;}#sk-container-id-1 label.sk-toggleable__label-arrow:hover:before {color: black;}#sk-container-id-1 div.sk-estimator:hover label.sk-toggleable__label-arrow:before {color: black;}#sk-container-id-1 div.sk-toggleable__content {max-height: 0;max-width: 0;overflow: hidden;text-align: left;background-color: #f0f8ff;}#sk-container-id-1 div.sk-toggleable__content pre {margin: 0.2em;color: black;border-radius: 0.25em;background-color: #f0f8ff;}#sk-container-id-1 input.sk-toggleable__control:checked~div.sk-toggleable__content {max-height: 200px;max-width: 100%;overflow: auto;}#sk-container-id-1 input.sk-toggleable__control:checked~label.sk-toggleable__label-arrow:before {content: \"▾\";}#sk-container-id-1 div.sk-estimator input.sk-toggleable__control:checked~label.sk-toggleable__label {background-color: #d4ebff;}#sk-container-id-1 div.sk-label input.sk-toggleable__control:checked~label.sk-toggleable__label {background-color: #d4ebff;}#sk-container-id-1 input.sk-hidden--visually {border: 0;clip: rect(1px 1px 1px 1px);clip: rect(1px, 1px, 1px, 1px);height: 1px;margin: -1px;overflow: hidden;padding: 0;position: absolute;width: 1px;}#sk-container-id-1 div.sk-estimator {font-family: monospace;background-color: #f0f8ff;border: 1px dotted black;border-radius: 0.25em;box-sizing: border-box;margin-bottom: 0.5em;}#sk-container-id-1 div.sk-estimator:hover {background-color: #d4ebff;}#sk-container-id-1 div.sk-parallel-item::after {content: \"\";width: 100%;border-bottom: 1px solid gray;flex-grow: 1;}#sk-container-id-1 div.sk-label:hover label.sk-toggleable__label {background-color: #d4ebff;}#sk-container-id-1 div.sk-serial::before {content: \"\";position: absolute;border-left: 1px solid gray;box-sizing: border-box;top: 0;bottom: 0;left: 50%;z-index: 0;}#sk-container-id-1 div.sk-serial {display: flex;flex-direction: column;align-items: center;background-color: white;padding-right: 0.2em;padding-left: 0.2em;position: relative;}#sk-container-id-1 div.sk-item {position: relative;z-index: 1;}#sk-container-id-1 div.sk-parallel {display: flex;align-items: stretch;justify-content: center;background-color: white;position: relative;}#sk-container-id-1 div.sk-item::before, #sk-container-id-1 div.sk-parallel-item::before {content: \"\";position: absolute;border-left: 1px solid gray;box-sizing: border-box;top: 0;bottom: 0;left: 50%;z-index: -1;}#sk-container-id-1 div.sk-parallel-item {display: flex;flex-direction: column;z-index: 1;position: relative;background-color: white;}#sk-container-id-1 div.sk-parallel-item:first-child::after {align-self: flex-end;width: 50%;}#sk-container-id-1 div.sk-parallel-item:last-child::after {align-self: flex-start;width: 50%;}#sk-container-id-1 div.sk-parallel-item:only-child::after {width: 0;}#sk-container-id-1 div.sk-dashed-wrapped {border: 1px dashed gray;margin: 0 0.4em 0.5em 0.4em;box-sizing: border-box;padding-bottom: 0.4em;background-color: white;}#sk-container-id-1 div.sk-label label {font-family: monospace;font-weight: bold;display: inline-block;line-height: 1.2em;}#sk-container-id-1 div.sk-label-container {text-align: center;}#sk-container-id-1 div.sk-container {/* jupyter's `normalize.less` sets `[hidden] { display: none; }` but bootstrap.min.css set `[hidden] { display: none !important; }` so we also need the `!important` here to be able to override the default hidden behavior on the sphinx rendered scikit-learn.org. See: https://github.com/scikit-learn/scikit-learn/issues/21755 */display: inline-block !important;position: relative;}#sk-container-id-1 div.sk-text-repr-fallback {display: none;}</style><div id=\"sk-container-id-1\" class=\"sk-top-container\"><div class=\"sk-text-repr-fallback\"><pre>LinearRegression()</pre><b>In a Jupyter environment, please rerun this cell to show the HTML representation or trust the notebook. <br />On GitHub, the HTML representation is unable to render, please try loading this page with nbviewer.org.</b></div><div class=\"sk-container\" hidden><div class=\"sk-item\"><div class=\"sk-estimator sk-toggleable\"><input class=\"sk-toggleable__control sk-hidden--visually\" id=\"sk-estimator-id-1\" type=\"checkbox\" checked><label for=\"sk-estimator-id-1\" class=\"sk-toggleable__label sk-toggleable__label-arrow\">LinearRegression</label><div class=\"sk-toggleable__content\"><pre>LinearRegression()</pre></div></div></div></div></div>"
            ]
          },
          "metadata": {},
          "execution_count": 14
        }
      ]
    },
    {
      "cell_type": "code",
      "source": [
        "model=LinearRegression().fit(x_new,y)\n",
        "r_sq=model.score(x_new,y)\n",
        "print(f\"Coefficient of determination:{r_sq}\")"
      ],
      "metadata": {
        "colab": {
          "base_uri": "https://localhost:8080/"
        },
        "id": "_9eY9mA0aJc4",
        "outputId": "7d9e2d0b-3418-4b34-dfd8-42a5a28996ca"
      },
      "execution_count": 15,
      "outputs": [
        {
          "output_type": "stream",
          "name": "stdout",
          "text": [
            "Coefficient of determination:0.48352545599133423\n"
          ]
        }
      ]
    },
    {
      "cell_type": "code",
      "source": [
        "print(f\"intercept:{model.intercept_}\")\n"
      ],
      "metadata": {
        "colab": {
          "base_uri": "https://localhost:8080/"
        },
        "id": "WKYruG3lbDXY",
        "outputId": "afa28b37-b023-44c2-fda7-c69856237aa7"
      },
      "execution_count": 16,
      "outputs": [
        {
          "output_type": "stream",
          "name": "stdout",
          "text": [
            "intercept:-34.67062077643857\n"
          ]
        }
      ]
    },
    {
      "cell_type": "code",
      "source": [
        "print(f\"slope:{model.coef_}\")"
      ],
      "metadata": {
        "colab": {
          "base_uri": "https://localhost:8080/"
        },
        "id": "yoaLP5cLbPq2",
        "outputId": "6c3d3c6b-d376-4938-d83f-af1dfd35ca67"
      },
      "execution_count": 17,
      "outputs": [
        {
          "output_type": "stream",
          "name": "stdout",
          "text": [
            "slope:[9.10210898]\n"
          ]
        }
      ]
    },
    {
      "cell_type": "code",
      "source": [
        "# Predictor Response\n",
        "y_pred=model.predict(x_new)\n",
        "print(f\"predicted response:\\n{y_pred}\")"
      ],
      "metadata": {
        "colab": {
          "base_uri": "https://localhost:8080/"
        },
        "id": "7QSFjObYbwE7",
        "outputId": "d6f0a14e-dad4-4c01-c2fa-86442f6a4043"
      },
      "execution_count": 18,
      "outputs": [
        {
          "output_type": "stream",
          "name": "stdout",
          "text": [
            "predicted response:\n",
            "[25.17574577 23.77402099 30.72803225 29.02593787 30.38215211 23.85593997\n",
            " 20.05125842 21.50759586 16.5833549  19.97844155 23.3735282  20.02395209\n",
            " 18.93169901 19.47782555 20.81583557 18.43108302 19.35039603 19.85101202\n",
            " 14.99048582 17.45715736 16.02812625 19.6234593  21.23453259 18.23993873\n",
            " 19.25027283 16.29208741 18.23993873 20.36983223 24.44757706 26.07685456\n",
            " 17.32972783 20.59738496 19.48692766 17.22050253 20.81583557 19.33219181\n",
            " 18.49479778 18.57671676 19.63256141 25.35778795 29.26259271 26.95065703\n",
            " 21.48028953 21.86257811 20.57007863 17.04756245 17.99418179 20.21509638\n",
            " 14.47166561 16.31939374 19.60525508 20.98877564 24.5932108  19.92382889\n",
            " 18.9225969  31.31056723 23.42814085 27.36935404 21.26183891 19.27757916\n",
            " 17.58458688 19.63256141 24.09259481 26.87784015 29.99076143 22.58164472\n",
            " 18.0032839  18.83157581 16.24657686 18.89529058 23.73761256 19.58705086\n",
            " 20.53367019 22.17204981 22.42690886 22.54523628 22.48152152 21.21632837\n",
            " 22.05372239 18.79516738 26.55926634 25.57623857 22.69087002 21.46208531\n",
            " 23.4827535  25.67636177 20.07856475 21.0433883  29.10785685 29.7632087\n",
            " 23.73761256 23.62838725 23.96516528 21.86257811 22.20845825 25.63085122\n",
            " 21.42567687 38.77429659 36.50787146 32.83061943 26.55926634 27.05078022\n",
            " 23.62838725 21.18902204 21.46208531 18.58581887 18.44928724 21.09800095\n",
            " 24.25643277 22.02641607 21.71694436 26.45004103 19.15014963 20.77942714\n",
            " 22.25396879 19.28668126 21.54400429 20.1331774  18.77696316 17.49356579\n",
            " 18.75875894 19.97844155 19.58705086 18.63132942 18.84067792 19.81460358\n",
            " 16.41951693 17.14768565 23.86504208 16.63796755 24.11079902 22.90932064\n",
            " 23.32801765 18.32185771 17.73022063 22.99123962 19.41411079 24.07439059\n",
            " 18.64043153 21.31645157 21.52580007 11.0128642  14.50807405 15.09971113\n",
            "  9.95701956 21.12530728 16.55604857 10.16636806 12.5329164  16.27388319\n",
            " 21.05249041 14.51717616 10.94914944 17.2933194  21.11620517 21.32555368\n",
            " 13.31569777 28.52532188 20.5427723  24.58410869 22.21756036 33.49507338\n",
            " 36.34403349 41.55954194 18.6131252  20.86134612 37.50000134 18.82247371\n",
            " 22.84560588 23.60108092 18.80426949 18.84978003 16.04633047 23.72851045\n",
            " 18.65863574 24.91178461 20.12407529 22.80919744 27.76984683 28.86209991\n",
            " 36.00725546 21.2527368  30.45496898 25.06652047 16.33759795 21.33465578\n",
            " 36.60799466 27.05988233 25.0028057  30.72803225 28.59813875 26.66849165\n",
            " 30.66431749 27.2237203  25.43970694 37.00848745 31.65644737 30.01806775\n",
            " 31.53811995 28.81658937 30.2729268  21.41657477 34.59642857 36.80824105\n",
            " 38.45572278 18.94990323 22.90932064 17.96687546 20.52456809 13.97104962\n",
            " 19.57794875 14.51717616 18.18532608 23.35532398 14.58999303 21.59861695\n",
            " 18.9225969  25.78558708 19.49602977 23.33711976 28.59813875 21.43477898\n",
            " 27.94278691 25.56713646 40.56741206 44.74528008 38.51033543 30.52778586\n",
            " 35.28818885 24.96639727 19.76909304 32.79421099 41.2136618  40.39447199\n",
            " 26.55016423 20.72481448 25.68546388 32.30269711 24.32014753 25.45791115\n",
            " 28.10662487 20.80673346 23.20058813 23.51916194 16.23747476 16.34670006\n",
            " 20.92506088 21.99910974 23.8832463  26.47734736 24.37476018 23.92875684\n",
            " 28.65275141 40.5036973  20.92506088 18.8133716  33.17649957 44.5541358\n",
            " 32.07514438 27.60600887 30.89187022 33.77723876 41.76889045 32.02053173\n",
            " 30.91917654 15.93710516 29.17157162 40.84957744 33.32213331 19.21386439\n",
            " 18.63132942 22.12653927 24.83896774 35.3336994  26.84143172 27.71523418\n",
            " 31.47440519 27.46037513 24.32924964 27.3329456  36.50787146 28.7528746\n",
            " 34.91500238 37.44538868 29.84512768 24.06528848 22.03551818 21.84437389\n",
            " 22.80919744 25.08472469 27.77894894 30.39125422 25.67636177 21.09800095\n",
            " 20.02395209 26.113263   24.93909094 18.03059022 23.08226071 29.41732856\n",
            " 27.86997003 25.31227741 24.44757706 28.88030413 31.19223981 25.54893224\n",
            " 32.86702786 27.66972364 25.72187231 19.68717406 10.59416719 21.05249041\n",
            " 20.15138162 22.3631941  25.1029289  17.25691096 19.15925174 17.95777335\n",
            " 23.41903874 20.97057143 23.81953154 23.36442609 20.31521958 17.28421729\n",
            " 23.71940834 23.86504208 22.78189111 20.69750816 18.74055473 22.9730354\n",
            " 21.2527368  17.26601307 20.22419849 22.81829955 22.76368689 20.27881114\n",
            " 18.74965683 18.98631167 20.47905754 19.80550148 19.65076562 31.23775036\n",
            " 24.85717196 26.27710096 27.89727636 20.06946264 19.01361799 24.63872134\n",
            " 25.72187231 28.48891344 24.40206651 25.21215421 18.88618847 26.56836845\n",
            " 16.87462238 19.35949814 21.87168021 23.53736616 21.09800095 20.96146932\n",
            " 23.56467249 22.22666246 14.13488758 18.14891764 45.24589608 -2.25801069\n",
            " 10.5031461   0.49082622 10.56686086 26.15877354 29.18977584 21.90808865\n",
            " 18.80426949  9.98432589  2.99390619 31.8931022  25.84930184 27.16910764\n",
            " 23.40083452 21.97180341 28.7528746  24.90268251 15.71865454 15.5730208\n",
            "  5.08739125 13.36120832  7.6723902  10.83992413  9.74767105 14.38974663\n",
            " 17.32972783 20.40624067 11.16760005 21.69874014 18.9134948  24.22912644\n",
            " 23.62838725 17.63919954 14.9631795  18.59492098 19.82370569 23.06405649\n",
            " 23.61928514 14.01656016 15.673144   17.05666456  2.99390619 16.37400639\n",
            " 16.45592537 27.69702996 17.73022063 25.92211871  7.45393959 12.25075102\n",
            "  6.46180971 23.89234841 27.05988233 13.60696526 19.55064242 27.44217091\n",
            " 23.6829999  19.99664576 16.73809075 20.87955034 15.9826157  18.99541378\n",
            " 18.45838935 21.78065912 21.69874014 23.40083452 23.10956704 27.52408989\n",
            " 23.81042943 23.91055263 21.83527178 25.66725966 24.13810535 21.32555368\n",
            " 19.35039603 16.54694646 18.28544928 23.63748936 21.93539498 24.35655597\n",
            " 18.6131252  24.11990113 23.04585227 22.22666246 21.62592327 23.73761256\n",
            " 26.75951274 25.90391449 22.64535948 32.62127092 26.56836845 24.72064033\n",
            " 19.7235825  19.35949814 22.68176791 20.67930394 26.32261151 23.36442609\n",
            " 22.82740166 24.61141502 21.84437389 17.74842485 19.50513188 19.96933944\n",
            " 19.26847705 17.32972783 21.46208531 22.02641607 23.91965474 28.86209991\n",
            " 14.72652466 21.41657477 24.34745386 13.60696526 21.62592327 22.02641607\n",
            " 22.14474348 26.76861485 29.59937074 17.77573117 18.76786105 22.78189111\n",
            " 20.97967353 19.07733276 14.97228161 14.60819725 11.68642026 19.78729726\n",
            " 19.78729726 17.27511518 19.26847705 16.93833715 14.38974663 18.06699866\n",
            " 20.11497318 16.01902414 20.18779005 25.33958374 21.03428619 28.82569148\n",
            " 27.16910764 20.21509638]\n"
          ]
        }
      ]
    },
    {
      "cell_type": "markdown",
      "source": [
        "**Compute Coefficients of Determination**"
      ],
      "metadata": {
        "id": "zY99vEBVQoH4"
      }
    },
    {
      "cell_type": "code",
      "source": [
        "# TODO 11:  compute the 𝑅^2 values for all the predictors and output the values in a table.\n",
        "\n",
        "df.iloc[1]\n",
        "\n",
        "# assigning the np.array\n",
        "x1=np.array(df['CRIM'])\n",
        "x2=np.array(df['ZN'])\n",
        "x3=np.array(df['INDUS'])\n",
        "x4=np.array(df['CHAS'])\n",
        "x5=np.array(df['NOX'])\n",
        "x6=np.array(df['AGE'])\n",
        "x7=np.array(df['DIS'])\n",
        "x8=np.array(df['RAD'])\n",
        "x9=np.array(df['TAX'])\n",
        "x10=np.array(df['PTRATIO'])\n",
        "x11=np.array(df['B'])\n",
        "x12=np.array(df['LSTAT'])\n",
        "\n",
        "# defining the r_square function\n",
        "def r_square(x1,y):\n",
        "  xm1=np.mean(x1)\n",
        "  ym=np.mean(y)\n",
        "  syy1=np.mean((y-ym)**2)\n",
        "  syx1=np.mean((y-ym)*(x1-xm1))\n",
        "  sxx1=np.mean((x1-xm1)**2)\n",
        "  beta11=syx1/sxx1\n",
        "  beta01=ym-beta11*xm1\n",
        "  yhat1=beta01+beta11*x1\n",
        "  rsq1=np.mean((y-yhat1)**2)\n",
        "  return beta01, beta11,rsq1\n",
        "\n",
        "r_sq_1=r_square(x1,y)\n",
        "r_sq_2=r_square(x2,y)\n",
        "r_sq_3=r_square(x3,y)\n",
        "r_sq_4=r_square(x4,y)\n",
        "r_sq_5=r_square(x5,y)\n",
        "r_sq_6=r_square(x6,y)\n",
        "r_sq_7=r_square(x7,y)\n",
        "r_sq_8=r_square(x8,y)\n",
        "r_sq_9=r_square(x9,y)\n",
        "r_sq_10=r_square(x10,y)\n",
        "r_sq_11=r_square(x11,y)\n",
        "r_sq_12=r_square(x12,y)\n",
        "\n",
        "\n",
        "print(\"The r_square of CM1 is:{0:7.2f}\".format(r_sq_1[2]))\n",
        "print(\"The r_square of ZN is:{0:7.2f}\".format(r_sq_2[2]))\n",
        "print(\"The r_square of INDUS is:{0:7.2f}\".format(r_sq_3[2]))\n",
        "print(\"The r_square of CHAS is:{0:7.2f}\".format(r_sq_4[2]))\n",
        "print(\"The r_square of NOX is:{0:7.2f}\".format(r_sq_5[2]))\n",
        "print(\"The r_square of AGE is:{0:7.2f}\".format(r_sq_6[2]))\n",
        "print(\"The r_square of DIS is:{0:7.2f}\".format(r_sq_7[2]))\n",
        "print(\"The r_square of RAD is:{0:7.2f}\".format(r_sq_8[2]))\n",
        "print(\"The r_square of TAX is:{0:7.2f}\".format(r_sq_9[2]))\n",
        "print(\"The r_square of PTRATIO is:{0:7.2f}\".format(r_sq_10[2]))\n",
        "print(\"The r_square of B is:{0:7.2f}\".format(r_sq_11[2]))\n",
        "print(\"The r_square of LSTAT is:{0:7.2f}\".format(r_sq_12[2]))\n",
        "\n",
        "\n",
        "#df.iloc[1]"
      ],
      "metadata": {
        "colab": {
          "base_uri": "https://localhost:8080/"
        },
        "id": "V83p6MrYSq9L",
        "outputId": "970b3f2c-ac8d-4234-fae8-1297479af091"
      },
      "execution_count": 19,
      "outputs": [
        {
          "output_type": "stream",
          "name": "stdout",
          "text": [
            "The r_square of CM1 is:  71.69\n",
            "The r_square of ZN is:  73.45\n",
            "The r_square of INDUS is:  64.67\n",
            "The r_square of CHAS is:  81.83\n",
            "The r_square of NOX is:  69.00\n",
            "The r_square of AGE is:  72.42\n",
            "The r_square of DIS is:  79.15\n",
            "The r_square of RAD is:  72.12\n",
            "The r_square of TAX is:  65.89\n",
            "The r_square of PTRATIO is:  62.65\n",
            "The r_square of B is:  75.03\n",
            "The r_square of LSTAT is:  38.48\n"
          ]
        }
      ]
    }
  ]
}