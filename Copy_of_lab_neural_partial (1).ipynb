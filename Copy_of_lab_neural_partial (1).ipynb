{
  "cells": [
    {
      "cell_type": "markdown",
      "metadata": {
        "id": "mhBzcS1QHjPC"
      },
      "source": [
        "\n",
        "# Name : Shadeeb Hossain\n",
        "# ID: sh7492\n",
        "\n",
        "# Lab:  Model Order Selection for Neural Data\n",
        "\n",
        "Machine learning is a key tool for neuroscientists to understand how sensory and motor signals are encoded in the brain.  In addition to improving our scientific understanding of neural phenomena, understanding neural encoding is critical for brain machine interfaces.  In this lab, you will use model selection for performing some simple analysis on real neural signals.  \n",
        "\n",
        "Before doing this lab, you should review the ideas in the [polynomial model selection demo](./polyfit.ipynb).  In addition to the concepts in that demo, you will learn to:\n",
        "* Represent neural time-series data in arrays\n",
        "* Load data from a pickle file\n",
        "* Describe and fit memoryless linear models\n",
        "* Describe and fit linear time-series models with delays\n",
        "* Fit linear models with multiple target outputs\n",
        "* Select the optimal delay via cross-validation"
      ]
    },
    {
      "cell_type": "markdown",
      "metadata": {
        "id": "0Z2_psGdHjPD"
      },
      "source": [
        "## Loading the data\n",
        "\n",
        "The data in this lab comes from neural recordings described in:\n",
        "\n",
        "<a href=\"http://jn.physiology.org/content/106/2/764.short\">\n",
        "Stevenson, Ian H., et al. \"Statistical assessment of the stability of neural movement representations.\" Journal of neurophysiology 106.2 (2011): 764-774</a>\n",
        "\n",
        "Neurons are the basic information processing units in the brain.  Neurons communicate with one another via *spikes* or *action potentials* which are brief events where voltage in the neuron rapidly rises then falls.  These spikes trigger the electro-chemical signals between one neuron and another.  In this experiment, the spikes were recorded from 196 neurons in the primary motor cortex (M1) of a monkey using an electrode array implanted onto the surface of a monkey's brain.  During the recording, the monkey performed several reaching tasks and the position and velocity of the hand was recorded as well.  \n",
        "\n",
        "The goal of the experiment is to try to *read the monkey's brain*:  That is, predict the hand motion from the neural signals from the motor cortex.\n",
        "\n",
        "We first load the key packages."
      ]
    },
    {
      "cell_type": "code",
      "execution_count": null,
      "metadata": {
        "id": "eJPkfDClHjPD"
      },
      "outputs": [],
      "source": [
        "import numpy as np\n",
        "import matplotlib.pyplot as plt\n",
        "import pickle\n",
        "\n",
        "from sklearn.linear_model import LinearRegression\n",
        "from sklearn.metrics import r2_score"
      ]
    },
    {
      "cell_type": "markdown",
      "metadata": {
        "id": "p1shHaYAHjPE"
      },
      "source": [
        "The full data is available on the CRCNS website  http://crcns.org/data-sets/movements/dream.  This website has a large number of great datasets and can be used for projects as well.  However, the raw data files can be quite large.  To make the lab easier, the [Kording lab](http://kordinglab.com/) at UPenn has put together an excellent [repository](https://github.com/KordingLab/Neural_Decoding) where they have created simple pre-processed versions of the data.  You can download the file `example_data_s1.pickle` from the [Dropbox link](https://www.dropbox.com/sh/n4924ipcfjqc0t6/AADOv9JYMUBK1tlg9P71gSSra/example_data_s1.pickle?dl=0).  Alternatively, you can directly run the following code.  This may take a little while to download since the file is 26 MB."
      ]
    },
    {
      "cell_type": "code",
      "execution_count": null,
      "metadata": {
        "id": "jR0zlmdrHjPE",
        "colab": {
          "base_uri": "https://localhost:8080/"
        },
        "outputId": "5609e460-f0e7-4a03-d2eb-bd8b34bd6853"
      },
      "outputs": [
        {
          "output_type": "stream",
          "name": "stdout",
          "text": [
            "File example_data_s1.pickle is already downloaded\n"
          ]
        }
      ],
      "source": [
        "fn_src = 'https://www.dropbox.com/sh/n4924ipcfjqc0t6/AADOv9JYMUBK1tlg9P71gSSra/example_data_s1.pickle?dl=1'\n",
        "fn_dst = 'example_data_s1.pickle'\n",
        "\n",
        "import os\n",
        "from six.moves import urllib\n",
        "\n",
        "if os.path.isfile(fn_dst):\n",
        "    print('File %s is already downloaded' % fn_dst)\n",
        "else:\n",
        "    urllib.request.urlretrieve(fn_src, fn_dst)"
      ]
    },
    {
      "cell_type": "markdown",
      "metadata": {
        "id": "4755h_1THjPE"
      },
      "source": [
        "The file is a *pickle* data structure, which is a package to serialize python objects into data files.  Once you have downloaded the file, you can run the following command to retrieve the data from the pickle file."
      ]
    },
    {
      "cell_type": "code",
      "execution_count": null,
      "metadata": {
        "id": "8cVFyq8uHjPE"
      },
      "outputs": [],
      "source": [
        "with open('example_data_s1.pickle', 'rb') as fp:\n",
        "    X,y = pickle.load(fp)"
      ]
    },
    {
      "cell_type": "markdown",
      "metadata": {
        "id": "-CYB14TFHjPE"
      },
      "source": [
        "The matrix `X` is matrix of spike counts where `X[i,j]` is the number of spikes from neuron `j` in time bin `i`.\n",
        "The matrix `y` has two columns:\n",
        "* `y[i,0] = ` velocity of the monkey's hand in the x-direction\n",
        "* `y[i,1] = ` velocity of the monkey's hand in the y-direction\n",
        "Our goal will be to predict `y` from `X`.  \n",
        "\n",
        "Each time bin represent `tsamp=0.05` seconds of time.  Using `X.shape` and `y.shape` compute and print:\n",
        "* `nt = ` the total number of time bins\n",
        "* `nneuron = ` the total number of neurons\n",
        "* `nout = ` the total number of output variables to track = number of columns in `y`\n",
        "* `ttotal = ` total time of the experiment is seconds."
      ]
    },
    {
      "cell_type": "code",
      "execution_count": null,
      "metadata": {
        "id": "9Q4K712aHjPE",
        "colab": {
          "base_uri": "https://localhost:8080/"
        },
        "outputId": "8ea5c14b-ce74-4181-e050-83eaa779f022"
      },
      "outputs": [
        {
          "output_type": "stream",
          "name": "stdout",
          "text": [
            " nt=61339,            nneuron=52\n",
            "nout=61339,           \n",
            "ttotal 3066.9500000000003\n"
          ]
        }
      ],
      "source": [
        "tsamp = 0.05  # sampling time in seconds\n",
        "\n",
        "# TODO 1\n",
        "nt,nneuron=X.shape\n",
        "nout,s=y.shape\n",
        "ttotal=tsamp*nout\n",
        "print(\" nt={0:d},            nneuron={1:d}\".format(nt,nneuron))\n",
        "print(\"nout={0:d},           \".format(nout))\n",
        "print(\"ttotal\",ttotal)\n",
        "# nt = ...\n",
        "# nneuron = ..\n",
        "# nout = ...\n",
        "# ttotal = ..."
      ]
    },
    {
      "cell_type": "markdown",
      "metadata": {
        "id": "mGXKATkgHjPF"
      },
      "source": [
        "## Fitting a Memoryless Linear Model\n",
        "\n",
        "Let's first try a simple linear regression model to fit the data.\n",
        "\n",
        "First, use the `train_test_split` function to split the data into training and test.  Let `Xtr,ytr` be the training data set and `Xts,yts` be the test data set.  Use `test_size=0.33` so `1/3` of the data is used for test."
      ]
    },
    {
      "cell_type": "code",
      "execution_count": null,
      "metadata": {
        "id": "8mRWlhcnHjPF"
      },
      "outputs": [],
      "source": [
        "from sklearn.model_selection import train_test_split\n",
        "\n",
        "# TODO 2\n",
        "import numpy.polynomial.polynomial as poly\n",
        "Xtr, Xts, ytr, yts = train_test_split(X,y,test_size=0.33)"
      ]
    },
    {
      "cell_type": "markdown",
      "metadata": {
        "id": "3vCAaw9ZHjPF"
      },
      "source": [
        "Now, fit a linear model using `Xtr,ytr`.  Make a prediction  `yhat` using `Xts`.  Compare `yhat` to `yts` to measure `rsq`, the  `R^2`.  You can use the `r2_score` method. Print the `rsq` value.  You should get `rsq` of around `0.45`."
      ]
    },
    {
      "cell_type": "code",
      "execution_count": null,
      "metadata": {
        "id": "dXPqpYo9HjPF",
        "colab": {
          "base_uri": "https://localhost:8080/"
        },
        "outputId": "ec439b34-90a5-4283-8f21-d0a2ddc2fbbc"
      },
      "outputs": [
        {
          "output_type": "stream",
          "name": "stdout",
          "text": [
            "R^2=  0.466059\n"
          ]
        }
      ],
      "source": [
        "# TODO 3\n",
        "from sklearn import linear_model\n",
        "regr=linear_model.LinearRegression()\n",
        "regr.fit(Xtr,ytr)\n",
        "#regr.intercept_\n",
        "#regr.coef_\n",
        "yhat=regr.predict(Xtr)\n",
        "RSS_tr=np.mean((yhat-ytr)**2)/(np.std(ytr)**2)\n",
        "Rsq_tr=1-RSS_tr\n",
        "print(\"R^2=  {0:f}\".format(Rsq_tr))"
      ]
    },
    {
      "cell_type": "markdown",
      "metadata": {
        "id": "u_WH7GnaHjPF"
      },
      "source": [
        "It is useful to plot the predicted vs. true values.  Since we have two outputs, create two `subplots` using the `plt.subplot()` command.  In plot `i=0,1`, plot `yhat[:,i]` vs. `yts[:,i]` with a scatter plot.   Label the axes of the plots.  You may also use the command:\n",
        "\n",
        "    plt.figure(figsize=(10,5))\n",
        "    \n",
        "to make the figures a little larger."
      ]
    },
    {
      "cell_type": "code",
      "execution_count": null,
      "metadata": {
        "id": "-NMz3cVNHjPF",
        "colab": {
          "base_uri": "https://localhost:8080/",
          "height": 482
        },
        "outputId": "5b768256-8055-415e-92ee-b088be78cc63"
      },
      "outputs": [
        {
          "output_type": "execute_result",
          "data": {
            "text/plain": [
              "<matplotlib.legend.Legend at 0x7af74dbb8580>"
            ]
          },
          "metadata": {},
          "execution_count": 84
        },
        {
          "output_type": "display_data",
          "data": {
            "text/plain": [
              "<Figure size 1000x500 with 2 Axes>"
            ],
            "image/png": "[encoded data removed]"
          },
          "metadata": {}
        }
      ],
      "source": [
        "# TODO 4\n",
        "plt.figure(figsize=(10,5))\n",
        "plt.subplot(1,4,1)\n",
        "plt.scatter(Xtr[:,0],yhat[:,0])\n",
        "plt.scatter(Xtr[:,0],ytr[:,0])\n",
        "plt.xlabel(\"Number of spike counts along x direction\")\n",
        "plt.ylabel(\"Predicted Vs Actual Velocity of monkey's hand along x direction\")\n",
        "plt.legend([\"Predicted i=0\",\"Actual i=0\"],loc='upper left')\n",
        "plt.subplot(1,4,3)\n",
        "plt.scatter(Xtr[:,1],yhat[:,1])\n",
        "plt.scatter(Xtr[:,1],ytr[:,1])\n",
        "plt.xlabel(\"Number of spike along y direction\")\n",
        "plt.ylabel(\"Predicted Vs velocity of monkey's hand along y direction\")\n",
        "plt.legend([\"Predicted i=1\",\"Actual i=1\"],loc='upper left')\n",
        "\n",
        "\n"
      ]
    },
    {
      "cell_type": "markdown",
      "metadata": {
        "id": "IpuRGx1yHjPF"
      },
      "source": [
        "## Fitting Models with Delay\n",
        "\n",
        "One way we can improve the model accuracy is to used delayed version of the features.  Specifically, the model we used above mapped the features\n",
        "\n",
        "    yhat[i,k] = \\sum_{j=0}^{p-1} X[i,j]*w[j,k] + b[k]\n",
        "    \n",
        "where `p` is the number of features and `w[j,k]` is a matrix of coefficients.  In this model,  `yhat[i,:]` at time `i` was only dependent on the inputs  `X[i,:]` at time `i`.  In signal processing, this is called a *memoryless* model.  However, in many physical systems, such as those that arise in neuroscience, there is a delay between the inputs `X[i,:]` and the outputs `y[i]`.  For such cases, we can use a model of the form,\n",
        "\n",
        "    yhat[i+d,k] = \\sum_{j=0}^{p-1} \\sum_{m=0}^d X[i+m,j]*W[j,m,k] + b[k]\n",
        "    \n",
        "where `W` is a 3-dim array of coefficients where:\n",
        "\n",
        "    W[j,m,k] is the influence of the input X[i+m,j] onto output y[i+d,k]\n",
        "\n",
        "\n",
        "In signal processing, this model is called an *FIR* filter and `W[j,:,k]` is the *impulse response* from the `j`-th input to the `k`-th output.  The point is that the output at time `i+d` depends on the inputs at times `i,i+1,...,i+d`.  Hence, it depends on the last `d+1` time steps, not just the most recent time.\n",
        "\n",
        "To translate this into a linear regression problem, complete the following function that creates a new feature and target matrix where:\n",
        "\n",
        "    Xdly[i,:] has the rows X[i,:], X[i++1,:], ..., X[i+dly,:]\n",
        "    ydly[i,:] = y[i+dly,:]\n",
        "    \n",
        "Thus, `Xdly[i,:]` contains all the delayed fetaures for the target `yhat`.  Note that if `X` is `n x p` then `Xdly` will be `n-dly x (dly+1)*p`.  \n"
      ]
    },
    {
      "cell_type": "code",
      "execution_count": null,
      "metadata": {
        "id": "TOKKjyShHjPF"
      },
      "outputs": [],
      "source": [
        "#TODO5\n",
        "def create_dly_data(X,y,dly):\n",
        "  n,p=X.shape\n",
        "  k=y.shape[1]\n",
        "  Xdly=np.zeros((n-dly,(dly+1)*p))\n",
        "  ydly=np.zeros((n-dly,k))\n",
        "  for i in range(n-dly):\n",
        "    for j in range(dly+1):\n",
        "      Xdly[i,j*p:(j+1)*p]=X[i+j,:]\n",
        "    ydly[i,:]=y[1+dly,:]\n",
        "\n",
        "  return Xdly,ydly\n"
      ]
    },
    {
      "cell_type": "markdown",
      "metadata": {
        "id": "4I8cjNi4HjPG"
      },
      "source": [
        "Now fit an linear delayed model with `dly=6` additional delay lags.  That is,\n",
        "* Create delayed data `Xdly,ydly=create_dly_data(X,y,dly=6)`\n",
        "* Split the data into training and test as before\n",
        "* Fit the model on the training data\n",
        "* Measure the `R^2` score on the test data\n",
        "\n",
        "If you did this correctly, you should get a new `R^2` score around 0.69.  This is significantly better than the memoryless models."
      ]
    },
    {
      "cell_type": "code",
      "execution_count": null,
      "metadata": {
        "id": "4roEbgTIHjPG",
        "colab": {
          "base_uri": "https://localhost:8080/"
        },
        "outputId": "75c1c2ee-78ed-4e86-dc69-266df520aa40"
      },
      "outputs": [
        {
          "output_type": "stream",
          "name": "stdout",
          "text": [
            "[[-0.82960782  1.30957964]\n",
            " [-0.82960782  1.30957964]\n",
            " [-0.82960782  1.30957964]\n",
            " ...\n",
            " [-0.82960782  1.30957964]\n",
            " [-0.82960782  1.30957964]\n",
            " [-0.82960782  1.30957964]]\n",
            "[[-0.82960782  1.30957964]\n",
            " [-0.82960782  1.30957964]\n",
            " [-0.82960782  1.30957964]\n",
            " ...\n",
            " [-0.82960782  1.30957964]\n",
            " [-0.82960782  1.30957964]\n",
            " [-0.82960782  1.30957964]]\n",
            "The revised R^2 is =1.000000\n"
          ]
        }
      ],
      "source": [
        "# TODO 6\n",
        "Xdly,ydly=create_dly_data(X,y,dly=6)\n",
        "\n",
        "Xtr_dl,Xts_dl,ytr_dl,yts_dl=train_test_split(Xdly,ydly,test_size=0.33)\n",
        "\n",
        "regr_dl=linear_model.LinearRegression()\n",
        "regr_dl.fit(Xtr_dl,ytr_dl)\n",
        "yhat_dl=regr_dl.predict(Xtr_dl)\n",
        "print(yhat_dl)\n",
        "print(ytr_dl)\n",
        "RSS_tr_dl=np.mean((yhat_dl-ytr_dl)**2)/(np.std(ytr_dl)**2)\n",
        "\n",
        "Rsq_tr_dl=1-RSS_tr_dl\n",
        "print(\"The revised R^2 is ={0:f}\".format(Rsq_tr_dl) )"
      ]
    },
    {
      "cell_type": "markdown",
      "metadata": {
        "id": "c0XWTne1HjPG"
      },
      "source": [
        "Plot the predicted vs. true values as before. You should visually see a better fit."
      ]
    },
    {
      "cell_type": "code",
      "execution_count": null,
      "metadata": {
        "id": "rqA8BDiqHjPG",
        "colab": {
          "base_uri": "https://localhost:8080/",
          "height": 497
        },
        "outputId": "044718a1-6137-42db-f3f4-65e67ee1a1de"
      },
      "outputs": [
        {
          "output_type": "execute_result",
          "data": {
            "text/plain": [
              "<matplotlib.legend.Legend at 0x7af74dbb98d0>"
            ]
          },
          "metadata": {},
          "execution_count": 87
        },
        {
          "output_type": "display_data",
          "data": {
            "text/plain": [
              "<Figure size 1000x500 with 2 Axes>"
            ],
            "image/png": "[encoded data removed]"
          },
          "metadata": {}
        }
      ],
      "source": [
        "# TODO 7\n",
        "plt.figure(figsize=(10,5))\n",
        "plt.subplot(1,4,1)\n",
        "plt.scatter(Xtr_dl[:,0],yhat_dl[:,0])\n",
        "plt.scatter(Xtr_dl[:,0],ytr_dl[:,0])\n",
        "plt.xlabel(\"Number of spike counts along x direction\")\n",
        "plt.ylabel(\"Predicted Vs Actual Velocity of monkey's hand along x direction\")\n",
        "plt.legend([\"Predicted i=0\",\"Actual i=0\"],loc='upper left')\n",
        "plt.subplot(1,4,3)\n",
        "plt.scatter(Xtr_dl[:,1],yhat_dl[:,1])\n",
        "plt.scatter(Xtr_dl[:,1],ytr_dl[:,1])\n",
        "plt.xlabel(\"Number of spike along y direction\")\n",
        "plt.ylabel(\"Predicted Vs velocity of monkey's hand along y direction\")\n",
        "plt.legend([\"Predicted i=1\",\"Actual i=1\"],loc='upper left')\n",
        "\n"
      ]
    },
    {
      "cell_type": "markdown",
      "metadata": {
        "id": "PoX5iTjeHjPG"
      },
      "source": [
        "*Note*:  Fitting an FIR model with the above method is very inefficient when the number of delays, `dly` is large.  In the above method, the number of columns of `X` grows from `p` to `(dly+1)*p` and the computations become expensive with `dly` is large.  We will describe a much faster way to fit such models using gradient descent when we talk about convolutional neural networks."
      ]
    },
    {
      "cell_type": "markdown",
      "metadata": {
        "id": "qeCRqdNlHjPG"
      },
      "source": [
        "## Selecting the Optimal Delay via Model Order Selection\n",
        "\n",
        "In the previous example, we fixed `dly=6`.  We can now select the optimal delay using model order selection.  Since we have a large number of data samples, it turns out that the optimal model order uses a very high delay.  Using the above fitting method, the computations take too long.  So, to simplify the lab, we will first just pretent that we have a very limited data set.\n",
        "\n",
        "Compute `Xred` and `yred` by taking the first `nred=6000` samples of the data `X` and `y`.  This is about 10% of the overall data."
      ]
    },
    {
      "cell_type": "code",
      "execution_count": null,
      "metadata": {
        "id": "WAaKpuFAHjPG"
      },
      "outputs": [],
      "source": [
        "import numpy as np\n",
        "nred = 6000\n",
        "\n",
        "# TODO 8\n",
        "Xred = X[:nred,:]\n",
        "yred = y[:nred,:]\n"
      ]
    },
    {
      "cell_type": "markdown",
      "metadata": {
        "id": "lO6pdXMKHjPH"
      },
      "source": [
        "Now complete the following code to implement K-fold cross validation with `nfold=5` and values of delays `dtest = [0,1,...,dmax]`.  \n",
        "\n",
        "The code also includes a progress bar using the `tqdm` package.  This is very useful when you have a long computation.\n",
        "\n",
        "Note:  Some students appeared to use the `mse` metric (i.e. RSS per sample) instead of `R^2`.  That is fine.  For the solution, I have computed both."
      ]
    },
    {
      "cell_type": "markdown",
      "metadata": {
        "id": "onQdETTlHjPH"
      },
      "source": [
        "You may have an issue with tqdm, make sure you have the necessary tools installed:\n",
        "Check https://ipywidgets.readthedocs.io/en/stable/user_install.html"
      ]
    },
    {
      "cell_type": "code",
      "execution_count": null,
      "metadata": {
        "id": "LBQ0hhqNHjPH",
        "colab": {
          "base_uri": "https://localhost:8080/",
          "height": 424,
          "referenced_widgets": [
            "b92f2576036c44f38efaf541cf16a047",
            "4a1d26107a71421ab2d34862db4048f3",
            "219c6837c1ee465186c685f7d5fc3b2e",
            "b739977e51fc47d38631f8265e52c854",
            "3a2a9c404bb344e087557cda72a91e10",
            "f820301e4a5746ca93de0f6a6f0281c6",
            "87d3643126354dbea816480d017db156",
            "4ccd88f91ab5416986d85334550a4208",
            "c8144f85e2994b038b27c4b8256839e4",
            "953ce6ddcf4f475da2047321ac90f9a4",
            "dff5659edc9844e4ba172368a2fd01fd"
          ]
        },
        "outputId": "9d59c0b1-8e7c-46b8-c362-2cdee8bfef72"
      },
      "outputs": [
        {
          "output_type": "display_data",
          "data": {
            "text/plain": [
              "Model order test:   0%|          | 0/75 [00:00<?, ?fits/s]"
            ],
            "application/vnd.jupyter.widget-view+json": {
              "version_major": 2,
              "version_minor": 0,
              "model_id": "b92f2576036c44f38efaf541cf16a047"
            }
          },
          "metadata": {}
        },
        {
          "output_type": "error",
          "ename": "TypeError",
          "evalue": "ignored",
          "traceback": [
            "\u001b[0;31m---------------------------------------------------------------------------\u001b[0m",
            "\u001b[0;31mTypeError\u001b[0m                                 Traceback (most recent call last)",
            "\u001b[0;32m<ipython-input-89-09f01e614457>\u001b[0m in \u001b[0;36m<cell line: 46>\u001b[0;34m()\u001b[0m\n\u001b[1;32m     46\u001b[0m \u001b[0;32mfor\u001b[0m \u001b[0mit\u001b[0m\u001b[0;34m,\u001b[0m\u001b[0md\u001b[0m \u001b[0;32min\u001b[0m \u001b[0menumerate\u001b[0m\u001b[0;34m(\u001b[0m\u001b[0mdtest\u001b[0m\u001b[0;34m)\u001b[0m\u001b[0;34m:\u001b[0m\u001b[0;34m\u001b[0m\u001b[0;34m\u001b[0m\u001b[0m\n\u001b[1;32m     47\u001b[0m         \u001b[0;31m# TODO 14:  Fit data on training data\u001b[0m\u001b[0;34m\u001b[0m\u001b[0;34m\u001b[0m\u001b[0m\n\u001b[0;32m---> 48\u001b[0;31m         \u001b[0mbeta_hat\u001b[0m\u001b[0;34m=\u001b[0m\u001b[0mpoly\u001b[0m\u001b[0;34m.\u001b[0m\u001b[0mpolyfit\u001b[0m\u001b[0;34m(\u001b[0m\u001b[0mXtr_1\u001b[0m\u001b[0;34m,\u001b[0m\u001b[0mytr_1\u001b[0m\u001b[0;34m,\u001b[0m\u001b[0mdly\u001b[0m\u001b[0;34m)\u001b[0m\u001b[0;34m\u001b[0m\u001b[0;34m\u001b[0m\u001b[0m\n\u001b[0m\u001b[1;32m     49\u001b[0m         \u001b[0;31m# TODO 15:  Measure the R^2 vale on test data and store in the matrix Rsq\u001b[0m\u001b[0;34m\u001b[0m\u001b[0;34m\u001b[0m\u001b[0m\n\u001b[1;32m     50\u001b[0m         \u001b[0my_hat_dl\u001b[0m\u001b[0;34m=\u001b[0m\u001b[0mpoly\u001b[0m\u001b[0;34m.\u001b[0m\u001b[0mpolyval\u001b[0m\u001b[0;34m(\u001b[0m\u001b[0mXts\u001b[0m\u001b[0;34m,\u001b[0m\u001b[0mbeta_hat\u001b[0m\u001b[0;34m)\u001b[0m\u001b[0;34m\u001b[0m\u001b[0;34m\u001b[0m\u001b[0m\n",
            "\u001b[0;32m/usr/local/lib/python3.10/dist-packages/numpy/polynomial/polynomial.py\u001b[0m in \u001b[0;36mpolyfit\u001b[0;34m(x, y, deg, rcond, full, w)\u001b[0m\n\u001b[1;32m   1360\u001b[0m \u001b[0;34m\u001b[0m\u001b[0m\n\u001b[1;32m   1361\u001b[0m     \"\"\"\n\u001b[0;32m-> 1362\u001b[0;31m     \u001b[0;32mreturn\u001b[0m \u001b[0mpu\u001b[0m\u001b[0;34m.\u001b[0m\u001b[0m_fit\u001b[0m\u001b[0;34m(\u001b[0m\u001b[0mpolyvander\u001b[0m\u001b[0;34m,\u001b[0m \u001b[0mx\u001b[0m\u001b[0;34m,\u001b[0m \u001b[0my\u001b[0m\u001b[0;34m,\u001b[0m \u001b[0mdeg\u001b[0m\u001b[0;34m,\u001b[0m \u001b[0mrcond\u001b[0m\u001b[0;34m,\u001b[0m \u001b[0mfull\u001b[0m\u001b[0;34m,\u001b[0m \u001b[0mw\u001b[0m\u001b[0;34m)\u001b[0m\u001b[0;34m\u001b[0m\u001b[0;34m\u001b[0m\u001b[0m\n\u001b[0m\u001b[1;32m   1363\u001b[0m \u001b[0;34m\u001b[0m\u001b[0m\n\u001b[1;32m   1364\u001b[0m \u001b[0;34m\u001b[0m\u001b[0m\n",
            "\u001b[0;32m/usr/local/lib/python3.10/dist-packages/numpy/polynomial/polyutils.py\u001b[0m in \u001b[0;36m_fit\u001b[0;34m(vander_f, x, y, deg, rcond, full, w)\u001b[0m\n\u001b[1;32m    620\u001b[0m         \u001b[0;32mraise\u001b[0m \u001b[0mTypeError\u001b[0m\u001b[0;34m(\u001b[0m\u001b[0;34m\"expected 1D or 2D array for y\"\u001b[0m\u001b[0;34m)\u001b[0m\u001b[0;34m\u001b[0m\u001b[0;34m\u001b[0m\u001b[0m\n\u001b[1;32m    621\u001b[0m     \u001b[0;32mif\u001b[0m \u001b[0mlen\u001b[0m\u001b[0;34m(\u001b[0m\u001b[0mx\u001b[0m\u001b[0;34m)\u001b[0m \u001b[0;34m!=\u001b[0m \u001b[0mlen\u001b[0m\u001b[0;34m(\u001b[0m\u001b[0my\u001b[0m\u001b[0;34m)\u001b[0m\u001b[0;34m:\u001b[0m\u001b[0;34m\u001b[0m\u001b[0;34m\u001b[0m\u001b[0m\n\u001b[0;32m--> 622\u001b[0;31m         \u001b[0;32mraise\u001b[0m \u001b[0mTypeError\u001b[0m\u001b[0;34m(\u001b[0m\u001b[0;34m\"expected x and y to have same length\"\u001b[0m\u001b[0;34m)\u001b[0m\u001b[0;34m\u001b[0m\u001b[0;34m\u001b[0m\u001b[0m\n\u001b[0m\u001b[1;32m    623\u001b[0m \u001b[0;34m\u001b[0m\u001b[0m\n\u001b[1;32m    624\u001b[0m     \u001b[0;32mif\u001b[0m \u001b[0mdeg\u001b[0m\u001b[0;34m.\u001b[0m\u001b[0mndim\u001b[0m \u001b[0;34m==\u001b[0m \u001b[0;36m0\u001b[0m\u001b[0;34m:\u001b[0m\u001b[0;34m\u001b[0m\u001b[0;34m\u001b[0m\u001b[0m\n",
            "\u001b[0;31mTypeError\u001b[0m: expected x and y to have same length"
          ]
        }
      ],
      "source": [
        "import  sklearn.model_selection\n",
        "import tqdm.notebook\n",
        "\n",
        "nfold = 5  # Number of folds\n",
        "dmax = 15  # maximum number of delays\n",
        "\n",
        "# TODO 9:  Create a k-fold object\n",
        "kf = sklearn.model_selection.KFold(n_splits=nfold, shuffle=True, random_state=23)\n",
        "\n",
        "# TODO 10:  Model orders to be tested\n",
        "dtest = np.arange(0,dmax)\n",
        "nd = len(dtest)\n",
        "\n",
        "# TODO 11.\n",
        "# Initialize a matrix Rsq to hold values of the R^2 across the model orders and folds.\n",
        "# Alternatively, you can also create an RSS matrix\n",
        "Rsq=np.zeros((nd,nfold))\n",
        "# Create a progress bar.  Note there are nd*nfold total fits.\n",
        "pbar = tqdm.notebook.tqdm(\n",
        "    total=nfold*nd, initial=0,\n",
        "    unit='fits', unit_divisor=nd, desc='Model order test')\n",
        "dly=6\n",
        "\n",
        "for it, d in enumerate(dtest):\n",
        "    # TODO 12:\n",
        "    # Create the delayed data using the create_dly_function from the reduced\n",
        "    # data Xred, yred\n",
        "    Xdly, ydly = create_dly_data(Xred,yred,dly)\n",
        "\n",
        "    # Loop over the folds\n",
        "    for isplit, Ind in enumerate(kf.split(Xdly)):\n",
        "\n",
        "        # Get the training data in the split\n",
        "        Itr, Its = Ind\n",
        "\n",
        "        # TODO 13\n",
        "        # Split the data (Xdly,ydly) into training and test\n",
        "        Xtr = Xdly[Itr]\n",
        "        ytr = ydly[Itr]\n",
        "        Xts = Xdly[Its]\n",
        "        yts =ydly[Its]\n",
        "        Xtr_1=Xtr.flatten()\n",
        "        ytr_1=ytr.flatten()\n",
        "        Xts_1=Xts.flatten()\n",
        "        yts_1=yts.flatten()\n",
        "for it,d in enumerate(dtest):\n",
        "        # TODO 14:  Fit data on training data\n",
        "        beta_hat=poly.polyfit(Xtr_1,ytr_1,dly)\n",
        "        # TODO 15:  Measure the R^2 vale on test data and store in the matrix Rsq\n",
        "        y_hat_dl=poly.polyval(Xts,beta_hat)\n",
        "        Rsq[it,isplit]=np.mean((yhat_dl-yts)**2)\n",
        "        pbar.update(1)\n",
        "pbar.close()"
      ]
    },
    {
      "cell_type": "markdown",
      "metadata": {
        "id": "onhVlgVgHjPH"
      },
      "source": [
        "Compute the mean and standard error of the `R^2` values as a function of the model order `d`.  Use a `plt.errorbar` plot.  Label your axes."
      ]
    },
    {
      "cell_type": "code",
      "execution_count": null,
      "metadata": {
        "id": "4ida4G9eHjPH",
        "colab": {
          "base_uri": "https://localhost:8080/",
          "height": 466
        },
        "outputId": "2f17ee6f-d2d9-4a73-eefb-69588f46d82b"
      },
      "outputs": [
        {
          "output_type": "stream",
          "name": "stdout",
          "text": [
            "The selected delay is 0\n"
          ]
        },
        {
          "output_type": "display_data",
          "data": {
            "text/plain": [
              "<Figure size 640x480 with 1 Axes>"
            ],
            "image/png": "[encoded data removed]"
          },
          "metadata": {}
        }
      ],
      "source": [
        "# TODO 16\n",
        "RSS_mean=np.mean(Rsq,axis=1)\n",
        "RSS_std=np.std(Rsq,axis=1)*np.sqrt(nfold)/np.sqrt(nfold-1)\n",
        "plt.errorbar(dtest,RSS_mean,yerr=RSS_std,fmt='_')\n",
        "plt.xlabel('Model Order')\n",
        "plt.ylabel('Test RSS')\n",
        "plt.grid()\n",
        "imin=np.argmin(RSS_mean)\n",
        "print(\"The selected delay is {0:d}\".format(dtest[imin]))"
      ]
    },
    {
      "cell_type": "markdown",
      "metadata": {
        "id": "Vmmy0Y6mHjPH"
      },
      "source": [
        "Find the optimal order `d` with the normal rule (i.e. highest test `R^2`)"
      ]
    },
    {
      "cell_type": "code",
      "execution_count": null,
      "metadata": {
        "id": "2wIQKrNFHjPH"
      },
      "outputs": [],
      "source": [
        "# TODO 17\n",
        "imin=np.argmin(RSS_mean)\n",
        "RSS_tgt=RSS_mean[imin]+RSS_std[imin]"
      ]
    },
    {
      "cell_type": "markdown",
      "metadata": {
        "id": "7DLhEQv-HjPH"
      },
      "source": [
        "Now find the optimal model order via the one SE rule (i.e. the lowest order model which has test `R^2` score within on SE)"
      ]
    },
    {
      "cell_type": "code",
      "execution_count": null,
      "metadata": {
        "id": "I3OmAmTHHjPH"
      },
      "outputs": [],
      "source": [
        "# TODO 18"
      ]
    },
    {
      "cell_type": "code",
      "execution_count": null,
      "metadata": {
        "id": "QJEvlfhHHjPH",
        "colab": {
          "base_uri": "https://localhost:8080/",
          "height": 466
        },
        "outputId": "9c77943a-827c-4909-bfcf-4dc2a4080547"
      },
      "outputs": [
        {
          "output_type": "stream",
          "name": "stdout",
          "text": [
            "The optimal model order is 0\n"
          ]
        },
        {
          "output_type": "display_data",
          "data": {
            "text/plain": [
              "<Figure size 640x480 with 1 Axes>"
            ],
            "image/png": "[encoded data removed]"
          },
          "metadata": {}
        }
      ],
      "source": [
        "I=np.where(RSS_mean<=RSS_tgt)[0]\n",
        "iopt=I[0]\n",
        "dopt=dtest[iopt]\n",
        "plt.errorbar(dtest,RSS_mean,yerr=RSS_std,fmt='_')\n",
        "# Plotting the line at the RSS target\n",
        "plt.plot([dtest[0],dtest[imin]],[RSS_tgt,RSS_tgt],'--')\n",
        "#Plot the line at the optimal modal line\n",
        "plt.plot([dopt,dopt],[0,0.5],'g--')\n",
        "plt.xlabel('Model order')\n",
        "plt.ylabel('Test RSS')\n",
        "plt.grid()\n",
        "\n",
        "print(\"The optimal model order is %d\" % dopt)"
      ]
    }
  ],
  "metadata": {
    "kernelspec": {
      "display_name": "Python 3",
      "language": "python",
      "name": "python3"
    },
    "language_info": {
      "codemirror_mode": {
        "name": "ipython",
        "version": 3
      },
      "file_extension": ".py",
      "mimetype": "text/x-python",
      "name": "python",
      "nbconvert_exporter": "python",
      "pygments_lexer": "ipython3",
      "version": "3.8.5"
    },
    "colab": {
      "provenance": []
    },
    "widgets": {
      "application/vnd.jupyter.widget-state+json": {
        "b92f2576036c44f38efaf541cf16a047": {
          "model_module": "@jupyter-widgets/controls",
          "model_name": "HBoxModel",
          "model_module_version": "1.5.0",
          "state": {
            "_dom_classes": [],
            "_model_module": "@jupyter-widgets/controls",
            "_model_module_version": "1.5.0",
            "_model_name": "HBoxModel",
            "_view_count": null,
            "_view_module": "@jupyter-widgets/controls",
            "_view_module_version": "1.5.0",
            "_view_name": "HBoxView",
            "box_style": "",
            "children": [
              "IPY_MODEL_4a1d26107a71421ab2d34862db4048f3",
              "IPY_MODEL_219c6837c1ee465186c685f7d5fc3b2e",
              "IPY_MODEL_b739977e51fc47d38631f8265e52c854"
            ],
            "layout": "IPY_MODEL_3a2a9c404bb344e087557cda72a91e10"
          }
        },
        "4a1d26107a71421ab2d34862db4048f3": {
          "model_module": "@jupyter-widgets/controls",
          "model_name": "HTMLModel",
          "model_module_version": "1.5.0",
          "state": {
            "_dom_classes": [],
            "_model_module": "@jupyter-widgets/controls",
            "_model_module_version": "1.5.0",
            "_model_name": "HTMLModel",
            "_view_count": null,
            "_view_module": "@jupyter-widgets/controls",
            "_view_module_version": "1.5.0",
            "_view_name": "HTMLView",
            "description": "",
            "description_tooltip": null,
            "layout": "IPY_MODEL_f820301e4a5746ca93de0f6a6f0281c6",
            "placeholder": "​",
            "style": "IPY_MODEL_87d3643126354dbea816480d017db156",
            "value": "Model order test:   0%"
          }
        },
        "219c6837c1ee465186c685f7d5fc3b2e": {
          "model_module": "@jupyter-widgets/controls",
          "model_name": "FloatProgressModel",
          "model_module_version": "1.5.0",
          "state": {
            "_dom_classes": [],
            "_model_module": "@jupyter-widgets/controls",
            "_model_module_version": "1.5.0",
            "_model_name": "FloatProgressModel",
            "_view_count": null,
            "_view_module": "@jupyter-widgets/controls",
            "_view_module_version": "1.5.0",
            "_view_name": "ProgressView",
            "bar_style": "",
            "description": "",
            "description_tooltip": null,
            "layout": "IPY_MODEL_4ccd88f91ab5416986d85334550a4208",
            "max": 75,
            "min": 0,
            "orientation": "horizontal",
            "style": "IPY_MODEL_c8144f85e2994b038b27c4b8256839e4",
            "value": 0
          }
        },
        "b739977e51fc47d38631f8265e52c854": {
          "model_module": "@jupyter-widgets/controls",
          "model_name": "HTMLModel",
          "model_module_version": "1.5.0",
          "state": {
            "_dom_classes": [],
            "_model_module": "@jupyter-widgets/controls",
            "_model_module_version": "1.5.0",
            "_model_name": "HTMLModel",
            "_view_count": null,
            "_view_module": "@jupyter-widgets/controls",
            "_view_module_version": "1.5.0",
            "_view_name": "HTMLView",
            "description": "",
            "description_tooltip": null,
            "layout": "IPY_MODEL_953ce6ddcf4f475da2047321ac90f9a4",
            "placeholder": "​",
            "style": "IPY_MODEL_dff5659edc9844e4ba172368a2fd01fd",
            "value": " 0/75 [00:00&lt;?, ?fits/s]"
          }
        },
        "3a2a9c404bb344e087557cda72a91e10": {
          "model_module": "@jupyter-widgets/base",
          "model_name": "LayoutModel",
          "model_module_version": "1.2.0",
          "state": {
            "_model_module": "@jupyter-widgets/base",
            "_model_module_version": "1.2.0",
            "_model_name": "LayoutModel",
            "_view_count": null,
            "_view_module": "@jupyter-widgets/base",
            "_view_module_version": "1.2.0",
            "_view_name": "LayoutView",
            "align_content": null,
            "align_items": null,
            "align_self": null,
            "border": null,
            "bottom": null,
            "display": null,
            "flex": null,
            "flex_flow": null,
            "grid_area": null,
            "grid_auto_columns": null,
            "grid_auto_flow": null,
            "grid_auto_rows": null,
            "grid_column": null,
            "grid_gap": null,
            "grid_row": null,
            "grid_template_areas": null,
            "grid_template_columns": null,
            "grid_template_rows": null,
            "height": null,
            "justify_content": null,
            "justify_items": null,
            "left": null,
            "margin": null,
            "max_height": null,
            "max_width": null,
            "min_height": null,
            "min_width": null,
            "object_fit": null,
            "object_position": null,
            "order": null,
            "overflow": null,
            "overflow_x": null,
            "overflow_y": null,
            "padding": null,
            "right": null,
            "top": null,
            "visibility": null,
            "width": null
          }
        },
        "f820301e4a5746ca93de0f6a6f0281c6": {
          "model_module": "@jupyter-widgets/base",
          "model_name": "LayoutModel",
          "model_module_version": "1.2.0",
          "state": {
            "_model_module": "@jupyter-widgets/base",
            "_model_module_version": "1.2.0",
            "_model_name": "LayoutModel",
            "_view_count": null,
            "_view_module": "@jupyter-widgets/base",
            "_view_module_version": "1.2.0",
            "_view_name": "LayoutView",
            "align_content": null,
            "align_items": null,
            "align_self": null,
            "border": null,
            "bottom": null,
            "display": null,
            "flex": null,
            "flex_flow": null,
            "grid_area": null,
            "grid_auto_columns": null,
            "grid_auto_flow": null,
            "grid_auto_rows": null,
            "grid_column": null,
            "grid_gap": null,
            "grid_row": null,
            "grid_template_areas": null,
            "grid_template_columns": null,
            "grid_template_rows": null,
            "height": null,
            "justify_content": null,
            "justify_items": null,
            "left": null,
            "margin": null,
            "max_height": null,
            "max_width": null,
            "min_height": null,
            "min_width": null,
            "object_fit": null,
            "object_position": null,
            "order": null,
            "overflow": null,
            "overflow_x": null,
            "overflow_y": null,
            "padding": null,
            "right": null,
            "top": null,
            "visibility": null,
            "width": null
          }
        },
        "87d3643126354dbea816480d017db156": {
          "model_module": "@jupyter-widgets/controls",
          "model_name": "DescriptionStyleModel",
          "model_module_version": "1.5.0",
          "state": {
            "_model_module": "@jupyter-widgets/controls",
            "_model_module_version": "1.5.0",
            "_model_name": "DescriptionStyleModel",
            "_view_count": null,
            "_view_module": "@jupyter-widgets/base",
            "_view_module_version": "1.2.0",
            "_view_name": "StyleView",
            "description_width": ""
          }
        },
        "4ccd88f91ab5416986d85334550a4208": {
          "model_module": "@jupyter-widgets/base",
          "model_name": "LayoutModel",
          "model_module_version": "1.2.0",
          "state": {
            "_model_module": "@jupyter-widgets/base",
            "_model_module_version": "1.2.0",
            "_model_name": "LayoutModel",
            "_view_count": null,
            "_view_module": "@jupyter-widgets/base",
            "_view_module_version": "1.2.0",
            "_view_name": "LayoutView",
            "align_content": null,
            "align_items": null,
            "align_self": null,
            "border": null,
            "bottom": null,
            "display": null,
            "flex": null,
            "flex_flow": null,
            "grid_area": null,
            "grid_auto_columns": null,
            "grid_auto_flow": null,
            "grid_auto_rows": null,
            "grid_column": null,
            "grid_gap": null,
            "grid_row": null,
            "grid_template_areas": null,
            "grid_template_columns": null,
            "grid_template_rows": null,
            "height": null,
            "justify_content": null,
            "justify_items": null,
            "left": null,
            "margin": null,
            "max_height": null,
            "max_width": null,
            "min_height": null,
            "min_width": null,
            "object_fit": null,
            "object_position": null,
            "order": null,
            "overflow": null,
            "overflow_x": null,
            "overflow_y": null,
            "padding": null,
            "right": null,
            "top": null,
            "visibility": null,
            "width": null
          }
        },
        "c8144f85e2994b038b27c4b8256839e4": {
          "model_module": "@jupyter-widgets/controls",
          "model_name": "ProgressStyleModel",
          "model_module_version": "1.5.0",
          "state": {
            "_model_module": "@jupyter-widgets/controls",
            "_model_module_version": "1.5.0",
            "_model_name": "ProgressStyleModel",
            "_view_count": null,
            "_view_module": "@jupyter-widgets/base",
            "_view_module_version": "1.2.0",
            "_view_name": "StyleView",
            "bar_color": null,
            "description_width": ""
          }
        },
        "953ce6ddcf4f475da2047321ac90f9a4": {
          "model_module": "@jupyter-widgets/base",
          "model_name": "LayoutModel",
          "model_module_version": "1.2.0",
          "state": {
            "_model_module": "@jupyter-widgets/base",
            "_model_module_version": "1.2.0",
            "_model_name": "LayoutModel",
            "_view_count": null,
            "_view_module": "@jupyter-widgets/base",
            "_view_module_version": "1.2.0",
            "_view_name": "LayoutView",
            "align_content": null,
            "align_items": null,
            "align_self": null,
            "border": null,
            "bottom": null,
            "display": null,
            "flex": null,
            "flex_flow": null,
            "grid_area": null,
            "grid_auto_columns": null,
            "grid_auto_flow": null,
            "grid_auto_rows": null,
            "grid_column": null,
            "grid_gap": null,
            "grid_row": null,
            "grid_template_areas": null,
            "grid_template_columns": null,
            "grid_template_rows": null,
            "height": null,
            "justify_content": null,
            "justify_items": null,
            "left": null,
            "margin": null,
            "max_height": null,
            "max_width": null,
            "min_height": null,
            "min_width": null,
            "object_fit": null,
            "object_position": null,
            "order": null,
            "overflow": null,
            "overflow_x": null,
            "overflow_y": null,
            "padding": null,
            "right": null,
            "top": null,
            "visibility": null,
            "width": null
          }
        },
        "dff5659edc9844e4ba172368a2fd01fd": {
          "model_module": "@jupyter-widgets/controls",
          "model_name": "DescriptionStyleModel",
          "model_module_version": "1.5.0",
          "state": {
            "_model_module": "@jupyter-widgets/controls",
            "_model_module_version": "1.5.0",
            "_model_name": "DescriptionStyleModel",
            "_view_count": null,
            "_view_module": "@jupyter-widgets/base",
            "_view_module_version": "1.2.0",
            "_view_name": "StyleView",
            "description_width": ""
          }
        }
      }
    }
  },
  "nbformat": 4,
  "nbformat_minor": 0
}