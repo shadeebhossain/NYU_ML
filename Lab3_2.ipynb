{
  "nbformat": 4,
  "nbformat_minor": 0,
  "metadata": {
    "colab": {
      "provenance": []
    },
    "kernelspec": {
      "name": "python3",
      "display_name": "Python 3"
    },
    "language_info": {
      "name": "python"
    }
  },
  "cells": [
    {
      "cell_type": "markdown",
      "source": [
        "Numpy Array Operations : Axis and broadcasting"
      ],
      "metadata": {
        "id": "2BCFkFUxV3KB"
      }
    },
    {
      "cell_type": "code",
      "source": [
        "import numpy as np\n",
        "X=np.array([[2,3,4],\n",
        "           [3,4,5],\n",
        "           [3,5,6]])\n",
        "print(X)\n"
      ],
      "metadata": {
        "colab": {
          "base_uri": "https://localhost:8080/"
        },
        "id": "A7VViRVJWC0V",
        "outputId": "429039c3-b48e-410a-c579-fea02333f5c1"
      },
      "execution_count": 10,
      "outputs": [
        {
          "output_type": "stream",
          "name": "stdout",
          "text": [
            "[[2 3 4]\n",
            " [3 4 5]\n",
            " [3 5 6]]\n"
          ]
        }
      ]
    },
    {
      "cell_type": "code",
      "source": [
        "X=np.arange(6).reshape(3,2) # np.arange- returns evenly spaced values with a given interval, .reshape (gives a shape without changing the data)\n",
        "print(X)"
      ],
      "metadata": {
        "colab": {
          "base_uri": "https://localhost:8080/"
        },
        "id": "Bq30zZ15Xn8X",
        "outputId": "86af0b8f-6f03-483c-ebac-1b6186053e20"
      },
      "execution_count": 13,
      "outputs": [
        {
          "output_type": "stream",
          "name": "stdout",
          "text": [
            "[[0 1]\n",
            " [2 3]\n",
            " [4 5]]\n"
          ]
        }
      ]
    },
    {
      "cell_type": "code",
      "source": [
        "print(np.mean(X))\n",
        "print(np.sum(X))"
      ],
      "metadata": {
        "colab": {
          "base_uri": "https://localhost:8080/"
        },
        "id": "Tb78hr-rZ79r",
        "outputId": "1891b024-95a3-485e-fe1b-70f92bbd24be"
      },
      "execution_count": 14,
      "outputs": [
        {
          "output_type": "stream",
          "name": "stdout",
          "text": [
            "2.5\n",
            "15\n"
          ]
        }
      ]
    },
    {
      "cell_type": "markdown",
      "source": [
        "**To find sum along each column**"
      ],
      "metadata": {
        "id": "jIGQL4Oebvn-"
      }
    },
    {
      "cell_type": "code",
      "source": [
        "print(np.sum(X,axis=0))"
      ],
      "metadata": {
        "colab": {
          "base_uri": "https://localhost:8080/"
        },
        "id": "9KYHAfl3bzqC",
        "outputId": "0443d67c-f24d-4b5d-ef1b-d9f4592809e5"
      },
      "execution_count": 15,
      "outputs": [
        {
          "output_type": "stream",
          "name": "stdout",
          "text": [
            "[6 9]\n"
          ]
        }
      ]
    },
    {
      "cell_type": "markdown",
      "source": [
        "**To find sum along each row**"
      ],
      "metadata": {
        "id": "0n_9-8aNb7Nd"
      }
    },
    {
      "cell_type": "code",
      "source": [
        "print(np.sum(X,axis=1))"
      ],
      "metadata": {
        "colab": {
          "base_uri": "https://localhost:8080/"
        },
        "id": "Xs4pdStcb-Zz",
        "outputId": "fe7ce9e1-6dd5-42d4-9c9c-11db2addc775"
      },
      "execution_count": 16,
      "outputs": [
        {
          "output_type": "stream",
          "name": "stdout",
          "text": [
            "[1 5 9]\n"
          ]
        }
      ]
    },
    {
      "cell_type": "code",
      "source": [
        "X=np.arange(24).reshape(2,3,4)\n",
        "print(X)"
      ],
      "metadata": {
        "colab": {
          "base_uri": "https://localhost:8080/"
        },
        "id": "HZYucRZTcNwJ",
        "outputId": "23aa52e5-0712-4c42-cff4-c8c8aed1c820"
      },
      "execution_count": 18,
      "outputs": [
        {
          "output_type": "stream",
          "name": "stdout",
          "text": [
            "[[[ 0  1  2  3]\n",
            "  [ 4  5  6  7]\n",
            "  [ 8  9 10 11]]\n",
            "\n",
            " [[12 13 14 15]\n",
            "  [16 17 18 19]\n",
            "  [20 21 22 23]]]\n"
          ]
        }
      ]
    },
    {
      "cell_type": "code",
      "source": [
        "Y1=np.sum(X,axis=0)\n",
        "Y2=np.sum(X,axis=1)\n",
        "print('Y1=')\n",
        "print(Y1)\n",
        "print('Y2=')\n",
        "print(Y2)"
      ],
      "metadata": {
        "colab": {
          "base_uri": "https://localhost:8080/"
        },
        "id": "2Kpr_XpJcqMB",
        "outputId": "82122ca1-9c5f-4b32-9a4a-e3ee56b96f08"
      },
      "execution_count": 20,
      "outputs": [
        {
          "output_type": "stream",
          "name": "stdout",
          "text": [
            "Y1=\n",
            "[[12 14 16 18]\n",
            " [20 22 24 26]\n",
            " [28 30 32 34]]\n",
            "Y2=\n",
            "[[12 15 18 21]\n",
            " [48 51 54 57]]\n"
          ]
        }
      ]
    },
    {
      "cell_type": "markdown",
      "source": [
        "**Broadcasting -It is a powerful tool in Python that is used for performing operations in matrices**\n",
        "\n",
        "\n",
        "\n",
        "![image.png](data:image/png;base64,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)"
      ],
      "metadata": {
        "id": "axvxDmWAg4Yh"
      }
    },
    {
      "cell_type": "code",
      "source": [
        "n=100\n",
        "p=5\n",
        "X=np.random.rand(n,p)\n",
        "# Compute the mean per column using the axis command\n",
        "Xm=np.mean(X,axis=0) # This is a p-dim matrix\n",
        "\n",
        "# Subtract the mean\n",
        "X_demean=X-Xm[None,:]\n",
        "\n",
        "print(Xm)\n",
        "print(X_demean)"
      ],
      "metadata": {
        "colab": {
          "base_uri": "https://localhost:8080/"
        },
        "id": "MRU7BzFaiKal",
        "outputId": "7ef95a80-b8b3-4d6c-dc28-a7031b6542e4"
      },
      "execution_count": 25,
      "outputs": [
        {
          "output_type": "stream",
          "name": "stdout",
          "text": [
            "[0.53943164 0.50627671 0.51254681 0.50139519 0.45737039]\n",
            "[[ 0.09632332  0.47295034  0.12231058  0.07458976  0.08568887]\n",
            " [-0.26524663 -0.22986766 -0.08097422  0.40016894  0.42627052]\n",
            " [ 0.40675522  0.09309492  0.48002338  0.19958869 -0.11677717]\n",
            " [ 0.41553797 -0.1341764  -0.46635625 -0.31626835  0.31793209]\n",
            " [-0.20029524  0.04789168 -0.19934683  0.20926419  0.36558462]\n",
            " [ 0.43212087 -0.0460183  -0.27695437 -0.16886123 -0.32869417]\n",
            " [-0.41026978  0.41678373  0.19394773  0.12174868  0.11278198]\n",
            " [-0.33908946 -0.47290276  0.37417902 -0.06402053  0.21449331]\n",
            " [ 0.35072259  0.16124306 -0.46274264 -0.34687301  0.03716531]\n",
            " [ 0.10142301 -0.22153219 -0.15552803 -0.02435051  0.05743369]\n",
            " [ 0.1662997   0.02765801 -0.0367142   0.33058504 -0.31146588]\n",
            " [ 0.07686771 -0.01401649 -0.1997381  -0.00186375 -0.4075606 ]\n",
            " [ 0.43354448 -0.3922615  -0.0009066   0.37661022  0.30518036]\n",
            " [-0.35670597 -0.16475889  0.11188883 -0.012702   -0.09967573]\n",
            " [-0.20252398  0.48310843 -0.35381875 -0.32864171  0.29358356]\n",
            " [ 0.4085636  -0.3173699  -0.32356873  0.44159728 -0.34536738]\n",
            " [-0.39747958  0.13832071  0.05782068 -0.26194757 -0.40201491]\n",
            " [-0.42684836  0.0640849  -0.16156909  0.4074366   0.18817933]\n",
            " [ 0.38926818 -0.4148858   0.39031611 -0.35596995 -0.2912738 ]\n",
            " [ 0.3087156  -0.04033313  0.43878669  0.0265931   0.12646   ]\n",
            " [ 0.19234459 -0.44497695  0.17893428 -0.02752587  0.50579719]\n",
            " [-0.06839358  0.34294095  0.33276598  0.15136232  0.51543111]\n",
            " [-0.47723438 -0.08058559 -0.12923421  0.10659217 -0.0271433 ]\n",
            " [-0.38482832  0.46930595  0.0958223   0.09350084 -0.36387927]\n",
            " [ 0.32472541 -0.02014922  0.39985714  0.01947266  0.12387499]\n",
            " [ 0.06174079  0.15207469  0.25572301  0.18997795 -0.04703472]\n",
            " [-0.38263865 -0.3321242   0.15876518  0.24957055 -0.45719712]\n",
            " [ 0.32491939 -0.17740683 -0.50590985 -0.14042505 -0.16214962]\n",
            " [-0.32387284 -0.13983491  0.43752564  0.0702818   0.32466911]\n",
            " [ 0.40208353 -0.48707816  0.0077945  -0.16161846  0.13042365]\n",
            " [ 0.21919134  0.46949432 -0.29808369  0.03163967 -0.19584577]\n",
            " [-0.42384682 -0.26494078 -0.14991004 -0.08776254 -0.18769281]\n",
            " [ 0.20347242  0.32793115 -0.32694147  0.03730058  0.47734515]\n",
            " [ 0.40453719 -0.33225182 -0.48169664  0.27927428  0.14593367]\n",
            " [ 0.20200031 -0.32957533  0.40719521  0.02771328 -0.18412095]\n",
            " [ 0.16544482 -0.19689606 -0.1156303  -0.27178357  0.19035952]\n",
            " [ 0.24520873 -0.39135542  0.36121247 -0.12026671 -0.00809804]\n",
            " [ 0.36223708  0.2949578   0.30041304 -0.09176023 -0.38557638]\n",
            " [-0.01145674 -0.34778969  0.23246227 -0.26320283  0.17925658]\n",
            " [-0.34068333  0.20326403  0.115325   -0.17976334 -0.44756831]\n",
            " [-0.28012016  0.22958346 -0.31937056 -0.36306438 -0.09902893]\n",
            " [ 0.26746116 -0.42652399 -0.49055748 -0.22997546  0.19233518]\n",
            " [-0.27573936  0.39780339 -0.24681676  0.03905248 -0.03241556]\n",
            " [-0.39353969  0.46294151  0.2524579   0.40959318  0.51986408]\n",
            " [ 0.36027791  0.32823599 -0.29823098 -0.16962513  0.2743159 ]\n",
            " [ 0.16572167 -0.0477831   0.24892284 -0.1969503  -0.16209753]\n",
            " [ 0.15779109  0.09109534 -0.22382118  0.2821755   0.32886789]\n",
            " [ 0.42842416 -0.17229416  0.11080399 -0.12871639 -0.44213809]\n",
            " [-0.18866064 -0.12762751 -0.09642909  0.32951754  0.21058933]\n",
            " [ 0.22852339  0.17241087  0.1231176  -0.40262574  0.45580341]\n",
            " [-0.30840339 -0.31988815 -0.46962996  0.48788734 -0.06193438]\n",
            " [-0.53526428 -0.03067006  0.34867762 -0.16475699 -0.03566567]\n",
            " [ 0.38268626 -0.02634668 -0.00684578 -0.36510952  0.01453702]\n",
            " [-0.36426302 -0.17356563  0.25889275 -0.48807496 -0.0922024 ]\n",
            " [ 0.23731436  0.07333553  0.28029224 -0.45912613  0.1215258 ]\n",
            " [ 0.04168955  0.0564785   0.25817036  0.40507998  0.16296959]\n",
            " [-0.04662148 -0.4755746   0.44339646 -0.47286133  0.02213198]\n",
            " [-0.50490466 -0.48301364 -0.1326561  -0.0844159  -0.42722718]\n",
            " [ 0.19649272 -0.23433429  0.2308565  -0.02674231  0.05269931]\n",
            " [-0.39018994  0.31508733 -0.47070549  0.06257112  0.45090962]\n",
            " [-0.04114589 -0.20838882 -0.35285721  0.44196034  0.45189208]\n",
            " [-0.4443487   0.34467764  0.23815242 -0.27754721  0.46716672]\n",
            " [-0.4178613  -0.18197075  0.35003816  0.44237163 -0.04983295]\n",
            " [ 0.2342144  -0.24307086  0.05223657 -0.1541542  -0.28197343]\n",
            " [ 0.03352931 -0.12166316 -0.20210891  0.48137453 -0.00654243]\n",
            " [ 0.31553083 -0.26660254  0.37995939  0.39552617 -0.05453058]\n",
            " [ 0.03537918  0.45762163 -0.3996155  -0.02301054 -0.17340414]\n",
            " [ 0.35113908  0.47373375 -0.03087507 -0.25879723  0.25831541]\n",
            " [-0.38204912  0.29759161  0.33090863 -0.08387125 -0.3793399 ]\n",
            " [ 0.1874994   0.10199777 -0.15626338 -0.27489629  0.22966763]\n",
            " [-0.35762925  0.13504805  0.32086981  0.43038618 -0.31694077]\n",
            " [ 0.19545118  0.46436216 -0.24239148 -0.08244946 -0.33076591]\n",
            " [-0.20022385 -0.00784694 -0.07984811  0.07874857  0.48454921]\n",
            " [ 0.35346764  0.27942365 -0.30360247  0.44832948 -0.21075701]\n",
            " [-0.27015976  0.27324484 -0.30217525 -0.33232067 -0.10523696]\n",
            " [-0.03955295 -0.48872848 -0.36617224 -0.30876122 -0.45301443]\n",
            " [ 0.2413471  -0.34831419 -0.40878792 -0.46063782  0.11122813]\n",
            " [ 0.27623684  0.42498505 -0.27795614  0.26305411  0.0860154 ]\n",
            " [-0.11187556  0.41464219 -0.0728922  -0.0170215  -0.45065941]\n",
            " [-0.4443387   0.20215708 -0.27741048  0.24378036  0.39805214]\n",
            " [-0.36155207 -0.48666316  0.20282436 -0.39508056  0.10848023]\n",
            " [ 0.3623123  -0.13368647  0.01481085 -0.49458736  0.00962597]\n",
            " [ 0.34184801 -0.35174984  0.38003234 -0.39360859 -0.32743956]\n",
            " [-0.4349198   0.23898966 -0.15017074 -0.15585144 -0.15541696]\n",
            " [ 0.00965191  0.10340707 -0.17873382  0.26045046 -0.06592899]\n",
            " [-0.22785644  0.20407637  0.00414497  0.30895225 -0.20370152]\n",
            " [ 0.078349   -0.31739787 -0.21301933 -0.16193193 -0.27505078]\n",
            " [ 0.42229213  0.26569508 -0.05703005  0.4862601   0.24071324]\n",
            " [ 0.37061167  0.44840337 -0.20093699  0.46195471  0.19460774]\n",
            " [-0.23883826 -0.33049906  0.06814258 -0.03028592  0.42419484]\n",
            " [-0.12866035 -0.27519618  0.32887405 -0.13351277 -0.43913491]\n",
            " [-0.06266437 -0.10742737 -0.07759481 -0.03173175 -0.39344673]\n",
            " [-0.19464779  0.42716849 -0.46580949 -0.11556857  0.07461294]\n",
            " [-0.12233342  0.28227848 -0.20083257  0.31375962  0.24806963]\n",
            " [-0.49382554 -0.12736565  0.256964   -0.38218992 -0.16297706]\n",
            " [-0.06794774  0.32223451  0.22224713  0.01618617 -0.00231441]\n",
            " [ 0.38095752  0.23418973  0.46988532  0.28737642 -0.24863711]\n",
            " [ 0.16482732  0.42399857  0.17249549 -0.48274959 -0.0133751 ]\n",
            " [ 0.15496966 -0.15936698  0.47346642  0.2798718  -0.41843802]\n",
            " [-0.32849346 -0.44535525  0.2230618   0.32712892 -0.07688023]]\n"
          ]
        }
      ]
    },
    {
      "cell_type": "markdown",
      "source": [
        "![image.png](data:image/png;base64,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)"
      ],
      "metadata": {
        "id": "FoYQDqYKjW53"
      }
    },
    {
      "cell_type": "markdown",
      "source": [
        "![image.png](data:image/png;base64,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)"
      ],
      "metadata": {
        "id": "okGfpGIIlHpz"
      }
    },
    {
      "cell_type": "code",
      "source": [
        "# Standardizing the variable\n",
        "\n",
        "Xstd=np.std(X,axis=0)\n",
        "Z=(X-Xm[None,:])/Xstd[None,:]\n",
        "print(Z)"
      ],
      "metadata": {
        "colab": {
          "base_uri": "https://localhost:8080/"
        },
        "id": "Bzl_n9jsjYDP",
        "outputId": "ff9ac506-d989-4d2c-da55-17e12c3c0310"
      },
      "execution_count": 27,
      "outputs": [
        {
          "output_type": "stream",
          "name": "stdout",
          "text": [
            "[[ 0.31636766  1.57788455  0.42879779  0.26497192  0.3065327 ]\n",
            " [-0.87118521 -0.76689791 -0.28388032  1.42155615  1.52488717]\n",
            " [ 1.33596093  0.31058871  1.68287127  0.70901686 -0.41774415]\n",
            " [ 1.36480729 -0.44764714 -1.63495689 -1.12350854  1.13733074]\n",
            " [-0.65785662  0.15977902 -0.69887231  0.74338802  1.30779697]\n",
            " [ 1.41927276 -0.15352893 -0.9709497  -0.59986094 -1.17582968]\n",
            " [-1.34750427  1.39049825  0.67994408  0.43249879  0.40345222]\n",
            " [-1.11371718 -1.57772583  1.31180093 -0.22742591  0.7673017 ]\n",
            " [ 1.15192542  0.53794854 -1.62228827 -1.23222822  0.13295055]\n",
            " [ 0.33311726 -0.73908864 -0.54525189 -0.08650253  0.20545615]\n",
            " [ 0.54620048  0.09227426 -0.12871306  1.17436699 -1.11419934]\n",
            " [ 0.25246697 -0.04676262 -0.70024406 -0.00662077 -1.45795662]\n",
            " [ 1.4239485  -1.30868575 -0.00317838  1.3378664   1.0917143 ]\n",
            " [-1.17157746 -0.54967824  0.39226109 -0.04512245 -0.35656757]\n",
            " [-0.66517676  1.6117746  -1.24042168 -1.16746355  1.05022935]\n",
            " [ 1.34190043 -1.05882801 -1.13437082  1.56872576 -1.23547433]\n",
            " [-1.30549568  0.46147364  0.20270838 -0.93053994 -1.43811817]\n",
            " [-1.40195553  0.2138038  -0.5664307   1.4473737   0.67316936]\n",
            " [ 1.2785259  -1.38416627  1.36837453 -1.2645441  -1.04196668]\n",
            " [ 1.0139562  -0.13456175  1.53830324  0.09446905  0.4523823 ]\n",
            " [ 0.63174322 -1.48455811  0.62730977 -0.09778264  1.80937601]\n",
            " [-0.22463423  1.14413965  1.16661465  0.53769798  1.84383918]\n",
            " [-1.56744512 -0.26885435 -0.45307072  0.37865695 -0.09709908]\n",
            " [-1.26394346  1.56572593  0.33593488  0.33215146 -1.30169648]\n",
            " [ 1.06653938 -0.067223    1.40182358  0.06917449  0.44313498]\n",
            " [ 0.20278359  0.50736046  0.89651656  0.67487579 -0.16825617]\n",
            " [-1.25675164 -1.10805218  0.55660073  0.88657193 -1.63552016]\n",
            " [ 1.06717649 -0.59187503 -1.77362434 -0.49884454 -0.5800539 ]\n",
            " [-1.06373916 -0.4665254   1.53388223  0.24966835  1.16143091]\n",
            " [ 1.32061708 -1.62501863  0.02732605 -0.57413179  0.46656136]\n",
            " [ 0.71991962  1.5663544  -1.04502509  0.11239646 -0.70059433]\n",
            " [-1.39209719 -0.88391092 -0.52555629 -0.31176679 -0.67142893]\n",
            " [ 0.66829187  1.09406309 -1.14619503  0.13250619  1.70759522]\n",
            " [ 1.32867595 -1.10847793 -1.68873742  0.99209117  0.52204497]\n",
            " [ 0.6634568  -1.0995485   1.42754947  0.09844839 -0.65865141]\n",
            " [ 0.54339271 -0.65689616 -0.405378   -0.96548123  0.68096848]\n",
            " [ 0.80537203 -1.30566282  1.26634267 -0.42723425 -0.02896893]\n",
            " [ 1.18974401  0.98405547  1.05319137 -0.32596813 -1.37931303]\n",
            " [-0.03762891 -1.16031629  0.81496879 -0.9349991   0.64125019]\n",
            " [-1.11895214  0.67814134  0.40430766 -0.63858948 -1.60107525]\n",
            " [-0.92003634  0.76594975 -1.11965286 -1.28974627 -0.35425379]\n",
            " [ 0.87845868 -1.42299427 -1.71980184 -0.81696254  0.68803597]\n",
            " [-0.90564789  1.32717493 -0.86529293  0.13872965 -0.1159594 ]\n",
            " [-1.29255539  1.54449252  0.8850697   1.45503472  1.85969715]\n",
            " [ 1.18330923  1.09508009 -1.04554146 -0.60257461  0.98130359]\n",
            " [ 0.544302   -0.15941677  0.87267645 -0.69964427 -0.57986754]\n",
            " [ 0.51825451  0.30391758 -0.78467475  1.00239743  1.1764511 ]\n",
            " [ 1.40713113 -0.57481786  0.38845784 -0.45725083 -1.58164986]\n",
            " [-0.61964353 -0.42579836 -0.33806217  1.17057481  0.75333608]\n",
            " [ 0.75057015  0.57520723  0.43162705 -1.43028364  1.63053447]\n",
            " [-1.01293077 -1.06722954 -1.64643391  1.73316611 -0.22155634]\n",
            " [-1.75804053 -0.10232325  1.22239784 -0.58528108 -0.12758594]\n",
            " [ 1.25690802 -0.08789932 -0.02400001 -1.2970114   0.05200294]\n",
            " [-1.19639807 -0.5790598   0.90762906 -1.73383262 -0.32983342]\n",
            " [ 0.77944352  0.2446663   0.98265162 -1.63099507  0.43473129]\n",
            " [ 0.1369266   0.18842686  0.90509649  1.43900207  0.58298714]\n",
            " [-0.15312519 -1.58663979  1.55446423 -1.67978785  0.07917221]\n",
            " [-1.65832634 -1.61145835 -0.46506724 -0.29987819 -1.5283094 ]\n",
            " [ 0.64536748 -0.78179974  0.80933925 -0.09499913  0.18851997]\n",
            " [-1.28155335  1.05121278 -1.6502045   0.22227701  1.61302803]\n",
            " [-0.135141   -0.69523897 -1.23705069  1.57001549  1.61654255]\n",
            " [-1.45943425  1.14993368  0.8349174  -0.98595595  1.67118415]\n",
            " [-1.37243812 -0.60710146  1.22716766  1.57147655 -0.1782662 ]\n",
            " [ 0.76926189 -0.81094721  0.18313153 -0.54761583 -1.00869671]\n",
            " [ 0.11012482 -0.40589975 -0.70855563  1.71003006 -0.02340408]\n",
            " [ 1.03634037 -0.88945498  1.33206585  1.40506321 -0.19507093]\n",
            " [ 0.11620061  1.52674405 -1.40097644 -0.08174243 -0.6203144 ]\n",
            " [ 1.15329335  1.58049824 -0.10824217 -0.9193487   0.92406544]\n",
            " [-1.25481537  0.99284252  1.16010312 -0.29794339 -1.35700342]\n",
            " [ 0.61582952  0.34029091 -0.54782988 -0.97653882  0.82158442]\n",
            " [-1.1746099   0.45055519  1.12490893  1.52889957 -1.13378452]\n",
            " [ 0.64194663  1.5492322  -0.84977873 -0.29289262 -1.18324085]\n",
            " [-0.65762215 -0.02617941 -0.2799324   0.27974562  1.7333661 ]\n",
            " [ 1.16094134  0.93222953 -1.06437289  1.59264115 -0.75393593]\n",
            " [-0.88732208  0.9116154  -1.05936932 -1.18053261 -0.37646162]\n",
            " [-0.12990909 -1.63052451 -1.2837307  -1.09684026 -1.6205575 ]\n",
            " [ 0.79268878 -1.16206618 -1.43313319 -1.63636521  0.39789368]\n",
            " [ 0.90728185  1.41785996 -0.97446172  0.93447078  0.30770079]\n",
            " [-0.36744797  1.38335352 -0.25554629 -0.060467   -1.61213295]\n",
            " [-1.4594014   0.67444828 -0.97254872  0.8660029   1.42394225]\n",
            " [-1.18749413 -1.62363408  0.71106387 -1.40348022  0.3880637 ]\n",
            " [ 1.18999108 -0.44601263  0.05192404 -1.7569672   0.03443474]\n",
            " [ 1.12277745 -1.17352837  1.33232158 -1.39825123 -1.17134159]\n",
            " [-1.42846565  0.79733127 -0.52647024 -0.55364509 -0.55596933]\n",
            " [ 0.03170107  0.3449927  -0.62660701  0.92522162 -0.23584616]\n",
            " [-0.7483796   0.6808515   0.01453147  1.09751889 -0.72869649]\n",
            " [ 0.25733216 -1.05892132 -0.74680551 -0.57524537 -0.98393248]\n",
            " [ 1.38699089  0.88642745 -0.1999366   1.72738552  0.86109762]\n",
            " [ 1.2172498   1.49598952 -0.70444713  1.64104329  0.69616555]\n",
            " [-0.78444865 -1.1026303   0.23889501 -0.1075874   1.51746188]\n",
            " [-0.42257651 -0.91812557  1.15297029 -0.47428944 -1.57090665]\n",
            " [-0.20581704 -0.35840548 -0.27203275 -0.11272357 -1.40746744]\n",
            " [-0.63930794  1.42514448 -1.63304007 -0.41054465  0.26691107]\n",
            " [-0.40179614  0.94175397 -0.70408104  1.11459655  0.88741345]\n",
            " [-1.62193772 -0.42492472  0.90086722 -1.35768765 -0.58301386]\n",
            " [-0.22316991  1.07505762  0.77915644  0.0574996  -0.00827929]\n",
            " [ 1.25123008  0.78131746  1.64732915  1.02087313 -0.8894435 ]\n",
            " [ 0.54136456  1.41456882  0.6047366  -1.71491484 -0.04784643]\n",
            " [ 0.50898772 -0.53168943  1.65988381  0.9942138  -1.49686818]\n",
            " [-1.0789153  -1.4858202   0.78201253  1.16208952 -0.27502178]]\n"
          ]
        }
      ]
    },
    {
      "cell_type": "markdown",
      "source": [
        "**Example-3 : Distance between two vectors**\n",
        "![image.png](data:image/png;base64,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)"
      ],
      "metadata": {
        "id": "YpEE0_Wouwa8"
      }
    },
    {
      "cell_type": "code",
      "source": [
        "nx=100\n",
        "ny=10\n",
        "p=2\n",
        "\n",
        "X=np.random.rand(nx,p)\n",
        "Y=np.random.rand(ny,p)\n",
        "\n",
        "# Computing the distance in lines. No for loop\n",
        "\n",
        "DXY=X[:,None,:]-Y[None,:,:]\n",
        "d=np.sum(DXY**2,axis=2)\n",
        "print(\"The distance between X and Y is:\")\n",
        "print(d)"
      ],
      "metadata": {
        "colab": {
          "base_uri": "https://localhost:8080/"
        },
        "id": "9T5K1fVNu7pW",
        "outputId": "a2463da3-6284-47b9-f264-96258c697079"
      },
      "execution_count": 29,
      "outputs": [
        {
          "output_type": "stream",
          "name": "stdout",
          "text": [
            "The distance between X and Y is:\n",
            "[[0.4144822  0.11273947 0.06559171 1.0244797  0.0914553  0.47553444\n",
            "  0.77624444 0.83735695 0.53221502 0.58217104]\n",
            " [0.50899694 0.09336997 0.1147711  1.01117067 0.13370109 0.41406332\n",
            "  0.71032434 0.79549027 0.49694675 0.68383877]\n",
            " [0.58632826 0.02798952 0.34806428 0.38624129 0.25338437 0.03835574\n",
            "  0.15617407 0.21736962 0.08164937 0.67116505]\n",
            " [0.26427129 0.41239192 0.5376509  0.11888238 0.37236186 0.40500389\n",
            "  0.36322028 0.21660598 0.20732275 0.19756149]\n",
            " [0.10997085 0.11681738 0.02808842 0.62786846 0.0016506  0.41917904\n",
            "  0.61481815 0.5740899  0.35578668 0.19122131]\n",
            " [0.67966761 0.05697732 0.25075201 0.85855061 0.23353486 0.24333284\n",
            "  0.49271954 0.60947831 0.35760843 0.84530996]\n",
            " [0.31912419 0.15970382 0.02670174 1.06437143 0.06132305 0.57534128\n",
            "  0.88176398 0.91286449 0.59933987 0.47796131]\n",
            " [0.62015631 0.10764561 0.17207285 1.07135706 0.19264393 0.41103109\n",
            "  0.71592956 0.82544677 0.52141034 0.80819523]\n",
            " [1.00930852 0.12681109 0.55909438 0.72330397 0.4855619  0.1177027\n",
            "  0.29021634 0.44096247 0.26380077 1.15306921]\n",
            " [0.43474511 0.00767174 0.14733485 0.62922048 0.11064883 0.18931398\n",
            "  0.39464341 0.45390274 0.23692126 0.5585025 ]\n",
            " [0.36962028 0.06117707 0.0645459  0.84937284 0.06707993 0.36522528\n",
            "  0.62790801 0.67861404 0.40762511 0.51610876]\n",
            " [0.13458507 0.37994554 0.38836676 0.23667894 0.25775014 0.47908887\n",
            "  0.48847592 0.3361524  0.27888163 0.08888865]\n",
            " [0.22498016 0.05133388 0.16649511 0.31810659 0.08210008 0.1716683\n",
            "  0.28287164 0.25604157 0.11738287 0.27326363]\n",
            " [0.00515537 0.44650687 0.14076174 0.81576817 0.11882448 0.85560706\n",
            "  1.03205023 0.88822815 0.67708836 0.03840698]\n",
            " [0.56851975 0.04506228 0.38162989 0.30153275 0.27058757 0.0229427\n",
            "  0.11166614 0.15596037 0.0454501  0.63372838]\n",
            " [0.70560698 0.14820007 0.21042064 1.19221415 0.24267225 0.47037237\n",
            "  0.79726525 0.92369886 0.60103118 0.910062  ]\n",
            " [0.76710938 0.58996549 1.02732071 0.00373208 0.78487268 0.32152948\n",
            "  0.17253985 0.0650435  0.15909439 0.66672728]\n",
            " [1.06279197 0.14739023 0.61187691 0.71258821 0.53022764 0.1111097\n",
            "  0.27226538 0.42680823 0.26055847 1.20285273]\n",
            " [0.15470012 0.21694443 0.00158285 0.97370469 0.02451924 0.65271371\n",
            "  0.92630868 0.89760484 0.60832929 0.27586269]\n",
            " [0.29199595 0.38490119 0.54341082 0.09428855 0.37475244 0.35708188\n",
            "  0.31312861 0.17817236 0.17209958 0.22874695]\n",
            " [0.06952143 0.16823976 0.1234401  0.40990946 0.05366478 0.38444609\n",
            "  0.50305594 0.41768769 0.26613935 0.09884657]\n",
            " [0.71221874 0.11530705 0.22857389 1.08874185 0.24497429 0.38986656\n",
            "  0.69306253 0.82090521 0.52033318 0.90647182]\n",
            " [0.82153196 0.2976004  0.81084294 0.08393202 0.61279169 0.06178046\n",
            "  0.00717753 0.00671247 0.02435602 0.80472497]\n",
            " [0.0051992  0.48571745 0.22419224 0.67218761 0.17120891 0.82722908\n",
            "  0.95012217 0.78078605 0.61662212 0.00445675]\n",
            " [0.56787046 0.5511619  0.8680845  0.01999946 0.64717181 0.3709248\n",
            "  0.24759087 0.11227813 0.17969919 0.46851148]\n",
            " [0.94036671 0.13135154 0.62131194 0.4523013  0.50200138 0.02604663\n",
            "  0.1186362  0.2279451  0.12054961 1.03211111]\n",
            " [0.23155939 0.03605226 0.06017408 0.58172625 0.02582945 0.27443972\n",
            "  0.46944466 0.47373141 0.26065181 0.32968225]\n",
            " [0.68030709 0.12614259 0.55238263 0.19449291 0.40436636 0.00649406\n",
            "  0.03618007 0.06885502 0.01183463 0.71433157]\n",
            " [0.07867755 0.44273187 0.3561337  0.35598908 0.2443689  0.61429377\n",
            "  0.64747164 0.47607459 0.39480189 0.03649191]\n",
            " [0.47554123 0.00210974 0.222294   0.48587449 0.15683921 0.10291893\n",
            "  0.2636883  0.31935724 0.1432821  0.57773602]\n",
            " [1.07729653 0.15675692 0.64727077 0.66109643 0.55399933 0.09081392\n",
            "  0.23313565 0.38293093 0.23363816 1.20701224]\n",
            " [1.23475929 0.26560026 0.88590566 0.50457456 0.74010307 0.05999256\n",
            "  0.11874194 0.25324015 0.17978522 1.32077004]\n",
            " [0.0533723  0.29748994 0.22704648 0.36649627 0.13561231 0.49254756\n",
            "  0.56656752 0.43475362 0.31972551 0.04478483]\n",
            " [0.57065557 0.53946204 0.86209813 0.01708091 0.64178549 0.35750797\n",
            "  0.23604981 0.10456072 0.17063807 0.47360424]\n",
            " [0.08708701 0.24840527 0.23691597 0.29751984 0.13594562 0.40181801\n",
            "  0.46519722 0.348553   0.24494381 0.07946002]\n",
            " [0.76548429 0.17487918 0.24062136 1.26453641 0.27896889 0.50470501\n",
            "  0.8436747  0.98130643 0.64860529 0.97968108]\n",
            " [0.16604429 0.06393271 0.04792793 0.56174942 0.01133539 0.31737018\n",
            "  0.50295152 0.48342029 0.27661674 0.25081706]\n",
            " [0.89297763 0.08964897 0.4986259  0.61703303 0.41790776 0.0803359\n",
            "  0.23616184 0.36399493 0.19993124 1.02044123]\n",
            " [0.13120738 0.21416562 0.26159132 0.23613406 0.15005672 0.32438737\n",
            "  0.37516011 0.27207832 0.18154337 0.12303735]\n",
            " [0.61612193 0.57714375 0.91934749 0.01550929 0.69122241 0.37429675\n",
            "  0.24044363 0.10681396 0.18415233 0.5126374 ]\n",
            " [0.05536252 0.29061249 0.03262622 0.87421091 0.03576409 0.71587961\n",
            "  0.946259   0.86537141 0.61075207 0.13704793]\n",
            " [0.58123439 0.0950929  0.46733311 0.19462285 0.32989617 0.01639588\n",
            "  0.05934629 0.08097445 0.01052946 0.61705904]\n",
            " [0.7284577  0.2339394  0.20662054 1.41237435 0.2681879  0.64192801\n",
            "  1.01326977 1.13956543 0.77571041 0.95300368]\n",
            " [0.00440416 0.33953158 0.12808497 0.63352043 0.08470935 0.67260979\n",
            "  0.82023689 0.69112907 0.50819714 0.03020588]\n",
            " [1.22267162 0.21578112 0.76005762 0.71995384 0.66064792 0.11575256\n",
            "  0.25324943 0.42082847 0.27783657 1.35697998]\n",
            " [0.17862248 0.19554717 0.29506573 0.18812122 0.17342278 0.26641174\n",
            "  0.30457421 0.21229946 0.13455847 0.16885733]\n",
            " [0.13359419 0.13844395 0.18744435 0.2856891  0.09356143 0.27479664\n",
            "  0.35943589 0.28440769 0.16539137 0.15146602]\n",
            " [0.38162589 0.01835843 0.1037757  0.67873288 0.07878526 0.24276371\n",
            "  0.46345496 0.5132663  0.28108205 0.50874343]\n",
            " [0.78415966 0.0597883  0.36315562 0.73779228 0.31588655 0.14997709\n",
            "  0.35607783 0.48200629 0.27117673 0.93368098]\n",
            " [0.67614857 0.42121469 0.84341953 0.00431053 0.6267954  0.19904153\n",
            "  0.0973634  0.02205814 0.07559966 0.60947861]\n",
            " [1.16551794 0.25204192 0.86042256 0.43050032 0.70736291 0.040882\n",
            "  0.0842644  0.2015106  0.14051334 1.23798811]\n",
            " [0.77695249 0.09560442 0.29221212 0.98685857 0.28743714 0.2995858\n",
            "  0.57306462 0.71047128 0.43841136 0.96138402]\n",
            " [0.06444536 0.39273933 0.30763579 0.36128964 0.20357093 0.57532818\n",
            "  0.62338254 0.46463248 0.37088218 0.03382257]\n",
            " [0.21596344 0.13833232 0.27476577 0.1892477  0.1572282  0.19845125\n",
            "  0.24916874 0.18195144 0.09516141 0.22143998]\n",
            " [0.02994953 0.29856612 0.18472157 0.44264756 0.10890901 0.53736817\n",
            "  0.63562577 0.50592495 0.36866306 0.0331517 ]\n",
            " [0.19726414 0.37663067 0.45162903 0.16529638 0.30375231 0.41886893\n",
            "  0.40386013 0.25864557 0.22470492 0.14322186]\n",
            " [0.65068806 0.09842409 0.50150762 0.22534744 0.36446174 0.00612505\n",
            "  0.05376942 0.0916412  0.01852115 0.69483203]\n",
            " [1.40041548 0.33792419 1.01253185 0.58686584 0.86197202 0.10008368\n",
            "  0.15671117 0.31139914 0.24198912 1.49316099]\n",
            " [0.47405806 0.03065719 0.13418775 0.77558154 0.11917133 0.2618998\n",
            "  0.50393192 0.57832841 0.32890812 0.62021885]\n",
            " [0.25644283 0.06313882 0.03291581 0.7500163  0.02484956 0.36652158\n",
            "  0.6046877  0.62199286 0.37027372 0.3790883 ]\n",
            " [0.69824491 0.03567842 0.36003455 0.55528812 0.28783395 0.07827464\n",
            "  0.23951314 0.33758889 0.16544676 0.81681785]\n",
            " [0.50675748 0.13668289 0.48081766 0.11873286 0.32985615 0.05034597\n",
            "  0.06390493 0.05039896 0.00356083 0.51586919]\n",
            " [0.33515878 0.0659756  0.28578813 0.21216538 0.17232822 0.09391948\n",
            "  0.1630868  0.14444485 0.04556755 0.36751349]\n",
            " [0.01240349 0.33026461 0.16537339 0.52878161 0.10311434 0.61318383\n",
            "  0.73075615 0.59609828 0.44043457 0.02246915]\n",
            " [0.11529789 0.33391415 0.33606608 0.25168998 0.2148507  0.45024653\n",
            "  0.47676097 0.33577448 0.26380618 0.08168504]\n",
            " [0.03313647 0.25470762 0.1502619  0.45171998 0.08091411 0.49901913\n",
            "  0.61080932 0.49585632 0.34757807 0.04809329]\n",
            " [0.40471349 0.035091   0.09545954 0.77276671 0.08432031 0.2920997\n",
            "  0.53600133 0.59449814 0.34170857 0.54566053]\n",
            " [1.10451854 0.19440173 0.74959386 0.50906513 0.62196963 0.04642238\n",
            "  0.13150633 0.26105571 0.16269731 1.2005772 ]\n",
            " [0.81128179 0.10354668 0.31465247 0.99989601 0.3089538  0.29944934\n",
            "  0.57302235 0.71635437 0.44481747 0.99801477]\n",
            " [0.27486395 0.03831854 0.05402869 0.67443955 0.03351416 0.30161936\n",
            "  0.52192405 0.54329986 0.30854505 0.39096664]\n",
            " [0.3825661  0.18556503 0.04668552 1.16819331 0.0930715  0.62180696\n",
            "  0.94991468 0.99620018 0.66415258 0.55701908]\n",
            " [0.03130793 0.27343905 0.05087471 0.75121446 0.03492207 0.65335681\n",
            "  0.85186137 0.75945854 0.53317899 0.09415853]\n",
            " [0.36872657 0.14415203 0.04362901 1.07024788 0.07760632 0.54385977\n",
            "  0.85321176 0.89978714 0.5851429  0.53479024]\n",
            " [0.8861657  0.08557469 0.46494463 0.6873378  0.3981802  0.11111911\n",
            "  0.28976743 0.42413288 0.23960153 1.0264622 ]\n",
            " [0.18986323 0.09023571 0.19114195 0.27231004 0.09631295 0.20125709\n",
            "  0.29073625 0.24056728 0.11962804 0.21940481]\n",
            " [0.85422303 0.42058651 0.94256171 0.03396659 0.7189009  0.14178384\n",
            "  0.03945667 0.00387722 0.06211138 0.80240248]\n",
            " [1.15579049 0.1995249  0.74933252 0.6050377  0.63525138 0.07462885\n",
            "  0.18485265 0.33258291 0.21280987 1.27017273]\n",
            " [0.3574901  0.39688339 0.60553977 0.06130765 0.42477846 0.32756808\n",
            "  0.2669514  0.13873564 0.14879245 0.28925899]\n",
            " [1.15301088 0.1883336  0.71253685 0.6760379  0.61306614 0.09745184\n",
            "  0.23226288 0.38956914 0.24800711 1.28218607]\n",
            " [0.49884732 0.14354543 0.48399693 0.11092561 0.33136636 0.05636453\n",
            "  0.0662688  0.04831804 0.00440747 0.50460842]\n",
            " [0.436927   0.01858831 0.26889538 0.33073825 0.17558855 0.06315724\n",
            "  0.17466362 0.20260201 0.06930331 0.50622563]\n",
            " [0.26029926 0.02035602 0.0917659  0.51364246 0.04458673 0.21745024\n",
            "  0.39403054 0.40247858 0.20689435 0.35165864]\n",
            " [0.48321564 0.26857519 0.5960628  0.03734743 0.41663855 0.14659682\n",
            "  0.10374125 0.03784603 0.03786918 0.44679028]\n",
            " [0.67641484 0.04438821 0.40527043 0.41601465 0.30785304 0.03180612\n",
            "  0.14962717 0.22728826 0.0932613  0.76752955]\n",
            " [0.03854748 0.29910928 0.20255308 0.41046061 0.12011577 0.51987451\n",
            "  0.60771053 0.4765472  0.34878824 0.03646923]\n",
            " [0.10034881 0.14862659 0.15341018 0.341744   0.07108516 0.32291657\n",
            "  0.42393883 0.3443355  0.20967235 0.12390112]\n",
            " [0.8150569  0.20697012 0.70851659 0.16397471 0.53608763 0.0155163\n",
            "  0.00828254 0.04144885 0.01867795 0.83253721]\n",
            " [0.81575996 0.31791357 0.82831468 0.06857973 0.62551028 0.07616995\n",
            "  0.0121382  0.00289323 0.02836647 0.79133305]\n",
            " [0.22754757 0.10204841 0.01360568 0.83171522 0.01825112 0.4515693\n",
            "  0.70652645 0.71393749 0.44564575 0.35403082]\n",
            " [0.00274931 0.47619402 0.17253729 0.78669043 0.14199844 0.87124624\n",
            "  1.03155195 0.87550753 0.67805712 0.02402851]\n",
            " [0.16381692 0.06248419 0.0548669  0.53665313 0.01395463 0.30548877\n",
            "  0.48390524 0.46195718 0.26154156 0.24442138]\n",
            " [0.42607835 0.19245594 0.48920922 0.07461499 0.32941891 0.11449604\n",
            "  0.10515178 0.05398785 0.02448658 0.4104554 ]\n",
            " [0.01026318 0.56247599 0.23166841 0.81477514 0.1959342  0.96212121\n",
            "  1.10904296 0.93120919 0.74391225 0.01717083]\n",
            " [0.88343018 0.14640834 0.64520736 0.32446137 0.50455293 0.00456185\n",
            "  0.05757619 0.13841087 0.06474143 0.94638527]\n",
            " [0.37364558 0.14709979 0.40864164 0.1113841  0.26454497 0.10922426\n",
            "  0.12530334 0.08051644 0.02812224 0.37197503]\n",
            " [0.80930278 0.69113582 1.1250081  0.01642487 0.87036309 0.40574614\n",
            "  0.23304882 0.1049536  0.21884348 0.69032439]\n",
            " [0.29242319 0.0334242  0.19894764 0.30743934 0.10985564 0.12343109\n",
            "  0.23212313 0.22357799 0.08912872 0.34653882]\n",
            " [0.19423985 0.23477962 0.34423197 0.16173049 0.21211901 0.28514235\n",
            "  0.3046082  0.20120438 0.13963592 0.17175927]\n",
            " [0.86385883 0.07900653 0.46096246 0.64778796 0.3892096  0.0957711\n",
            "  0.26523661 0.39321096 0.21652743 0.99755752]\n",
            " [0.15394929 0.08252898 0.02975183 0.62748756 0.00405123 0.36946387\n",
            "  0.57111105 0.54975128 0.32787757 0.24530581]]\n"
          ]
        }
      ]
    },
    {
      "cell_type": "markdown",
      "source": [
        "![image.png](data:image/png;base64,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)"
      ],
      "metadata": {
        "id": "5s78g7ITvwA3"
      }
    },
    {
      "cell_type": "markdown",
      "source": [
        "![image.png](data:image/png;base64,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)"
      ],
      "metadata": {
        "id": "N1bTW170wgLx"
      }
    },
    {
      "cell_type": "code",
      "source": [
        "nx=100\n",
        "ny=10\n",
        "X=np.random.rand(nx)\n",
        "Y=np.random.rand(ny)\n",
        "\n",
        "# Compute the outer product in one line\n",
        "Z=X[:,None]*Y[None,:]\n",
        "print(Z)"
      ],
      "metadata": {
        "colab": {
          "base_uri": "https://localhost:8080/"
        },
        "id": "C-nL3XNbwmXa",
        "outputId": "95404d57-10cd-4251-88be-90be9a875c69"
      },
      "execution_count": 31,
      "outputs": [
        {
          "output_type": "stream",
          "name": "stdout",
          "text": [
            "[[0.15012134 0.14430214 0.15178323 0.07700809 0.0183741  0.09472023\n",
            "  0.05736459 0.1121095  0.03272094 0.15819102]\n",
            " [0.56104997 0.53930179 0.56726098 0.28780309 0.06866969 0.35399883\n",
            "  0.21438925 0.41898793 0.12228828 0.59120887]\n",
            " [0.14333843 0.13778215 0.14492523 0.07352864 0.0175439  0.09044049\n",
            "  0.05477269 0.10704407 0.03124251 0.1510435 ]\n",
            " [0.34148122 0.32824426 0.34526153 0.1751704  0.04179558 0.21546023\n",
            "  0.13048731 0.25501563 0.07443036 0.35983734]\n",
            " [0.57058093 0.5484633  0.57689744 0.29269221 0.06983623 0.36001246\n",
            "  0.21803123 0.42610558 0.12436568 0.60125216]\n",
            " [0.37504667 0.3605086  0.37919856 0.19238855 0.04590382 0.2366386\n",
            "  0.14331339 0.28008205 0.08174639 0.39520707]\n",
            " [0.15947964 0.15329767 0.16124513 0.08180863 0.0195195  0.10062491\n",
            "  0.0609406  0.1190982  0.0347607  0.16805237]\n",
            " [0.1334918  0.12831721 0.13496959 0.06847759 0.01633872 0.08422768\n",
            "  0.05101008 0.09969068 0.02909631 0.14066757]\n",
            " [0.26209476 0.25193509 0.26499623 0.13444735 0.03207908 0.16537072\n",
            "  0.10015204 0.19573041 0.05712703 0.2761835 ]\n",
            " [0.61438431 0.59056871 0.62118574 0.31516213 0.07519754 0.38765055\n",
            "  0.23476945 0.45881762 0.1339132  0.64741016]\n",
            " [0.53007352 0.50952609 0.53594161 0.27191303 0.06487833 0.334454\n",
            "  0.20255248 0.39585495 0.11553655 0.5585673 ]\n",
            " [0.09514215 0.09145412 0.0961954  0.04880528 0.01164492 0.06003068\n",
            "  0.03635586 0.07105144 0.02073749 0.10025645]\n",
            " [0.11838143 0.11379256 0.11969195 0.06072639 0.01448929 0.07469368\n",
            "  0.04523609 0.08840636 0.0258028  0.12474495]\n",
            " [0.60484377 0.581398   0.61153959 0.3102681  0.07402983 0.38163087\n",
            "  0.2311238  0.45169282 0.13183372 0.63735678]\n",
            " [0.27962223 0.26878313 0.28271774 0.14343845 0.03422435 0.17642981\n",
            "  0.10684966 0.20881979 0.06094737 0.29465315]\n",
            " [0.32112155 0.30867381 0.32467647 0.16472646 0.03930366 0.20261414\n",
            "  0.12270745 0.23981118 0.0699927  0.33838325]\n",
            " [0.33834556 0.32523015 0.34209115 0.1735619  0.04141179 0.21348175\n",
            "  0.12928911 0.25267394 0.0737469  0.35653312]\n",
            " [0.78537851 0.7549346  0.7940729  0.40287741 0.09612637 0.49554066\n",
            "  0.30011    0.58651481 0.17118366 0.82759605]\n",
            " [0.67281795 0.64673727 0.68026627 0.34513697 0.08234953 0.42451971\n",
            "  0.2570982  0.50245543 0.14664959 0.70898487]\n",
            " [0.03285    0.03157663 0.03321366 0.01685114 0.00402067 0.02072697\n",
            "  0.01255269 0.02453214 0.00716009 0.03461584]\n",
            " [0.67864434 0.65233781 0.68615715 0.34812574 0.08306265 0.42819591\n",
            "  0.25932459 0.50680653 0.14791953 0.71512445]\n",
            " [0.77643829 0.74634093 0.78503371 0.39829133 0.09503213 0.48989976\n",
            "  0.29669375 0.57983832 0.16923502 0.81817525]\n",
            " [0.11706248 0.11252474 0.1183584  0.06004981 0.01432786 0.07386148\n",
            "  0.04473209 0.08742138 0.02551532 0.1233551 ]\n",
            " [0.48841475 0.46948215 0.49382166 0.25054323 0.0597795  0.30816907\n",
            "  0.18663377 0.36474449 0.10645647 0.51466918]\n",
            " [0.66490554 0.63913157 0.67226626 0.34107812 0.08138109 0.41952731\n",
            "  0.25407469 0.49654649 0.14492498 0.70064713]\n",
            " [0.78565875 0.75520398 0.79435625 0.40302117 0.09616067 0.49571748\n",
            "  0.30021709 0.58672409 0.17124474 0.82789136]\n",
            " [0.79500761 0.76419045 0.8038086  0.40781687 0.09730492 0.50161622\n",
            "  0.30378949 0.59370575 0.17328245 0.83774276]\n",
            " [0.0679829  0.06534765 0.06873549 0.03487334 0.00832076 0.04289434\n",
            "  0.02597773 0.05076912 0.01481777 0.07163728]\n",
            " [0.53388883 0.51319351 0.53979915 0.27387018 0.0653453  0.3368613\n",
            "  0.20401039 0.39870419 0.11636815 0.5625877 ]\n",
            " [0.6012288  0.57792316 0.6078846  0.30841372 0.07358738 0.37934998\n",
            "  0.22974244 0.44899318 0.13104579 0.63354749]\n",
            " [0.28092432 0.27003475 0.28403424 0.14410639 0.03438372 0.17725138\n",
            "  0.10734722 0.20979218 0.06123118 0.29602523]\n",
            " [0.22197926 0.2133746  0.22443664 0.11386921 0.02716914 0.14005953\n",
            "  0.08482304 0.16577245 0.04838332 0.23391162]\n",
            " [0.38170643 0.36691021 0.38593205 0.19580482 0.04671894 0.24084063\n",
            "  0.14585823 0.28505551 0.08319798 0.40222483]\n",
            " [0.67548016 0.64929628 0.68295794 0.34650261 0.08267537 0.42619945\n",
            "  0.25811548 0.50444354 0.14722986 0.71179018]\n",
            " [0.02446428 0.02351596 0.0247351  0.0125495  0.0029943  0.01543592\n",
            "  0.00934833 0.01826974 0.00533231 0.02577934]\n",
            " [0.90142792 0.86648555 0.91140702 0.46240755 0.11033024 0.56876294\n",
            "  0.34445498 0.67317965 0.19647817 0.94988363]\n",
            " [0.66520154 0.6394161  0.67256554 0.34122996 0.08141732 0.41971407\n",
            "  0.2541878  0.49676755 0.14498949 0.70095904]\n",
            " [0.79537623 0.76454478 0.8041813  0.40800597 0.09735004 0.5018488\n",
            "  0.30393035 0.59398103 0.17336279 0.83813119]\n",
            " [0.03195405 0.03071541 0.03230779 0.01639154 0.00391102 0.02016166\n",
            "  0.01221033 0.02386305 0.00696481 0.03367172]\n",
            " [0.58737072 0.56460226 0.5938731  0.3013049  0.07189122 0.37060611\n",
            "  0.22444697 0.43864407 0.12802523 0.61894447]\n",
            " [0.22585484 0.21709995 0.22835513 0.11585727 0.02764349 0.14250486\n",
            "  0.08630399 0.16866671 0.04922806 0.23799553]\n",
            " [0.82894772 0.79681493 0.83812444 0.42522721 0.10145902 0.523031\n",
            "  0.31675874 0.61905197 0.18068015 0.8735073 ]\n",
            " [0.89507169 0.86037571 0.90498043 0.45914698 0.10955226 0.56475243\n",
            "  0.34202613 0.66843286 0.19509274 0.94318573]\n",
            " [0.46202169 0.44411218 0.46713642 0.23700432 0.05654913 0.29151617\n",
            "  0.17654841 0.34503435 0.10070375 0.48685738]\n",
            " [0.50129842 0.48186641 0.50684795 0.2571522  0.0613564  0.31629812\n",
            "  0.1915569  0.37436592 0.10926464 0.52824541]\n",
            " [0.42400472 0.40756887 0.42869859 0.21750267 0.05189604 0.26752907\n",
            "  0.16202131 0.31664356 0.09241745 0.44679683]\n",
            " [0.20551343 0.19754704 0.20778853 0.10542269 0.02515381 0.12967029\n",
            "  0.0785311  0.15347589 0.04479438 0.21656068]\n",
            " [0.48045949 0.46183527 0.48577833 0.2464624  0.05880582 0.30314964\n",
            "  0.18359389 0.35880356 0.10472251 0.50628629]\n",
            " [0.49769449 0.47840218 0.50320413 0.25530348 0.0609153  0.3140242\n",
            "  0.19017976 0.37167453 0.10847911 0.52444776]\n",
            " [0.49623043 0.47699487 0.50172386 0.25455246 0.0607361  0.31310044\n",
            "  0.18962031 0.37058118 0.10816    0.52290499]\n",
            " [0.0735236  0.07067358 0.07433753 0.03771557 0.00899892 0.04639029\n",
            "  0.02809495 0.05490688 0.01602544 0.07747582]\n",
            " [0.84164202 0.80901715 0.85095927 0.43173904 0.10301274 0.53104056\n",
            "  0.3216095  0.62853198 0.18344704 0.88688398]\n",
            " [0.29029679 0.27904392 0.29351047 0.14891421 0.03553086 0.18316501\n",
            "  0.11092864 0.21679148 0.06327403 0.30590152]\n",
            " [0.91339813 0.87799175 0.92350974 0.46854793 0.11179533 0.57631563\n",
            "  0.34902905 0.6821189  0.19908723 0.96249729]\n",
            " [0.15755323 0.15144594 0.1592974  0.08082044 0.01928372 0.09940943\n",
            "  0.06020447 0.11765958 0.03434082 0.16602241]\n",
            " [0.07335807 0.07051446 0.07417017 0.03763066 0.00897866 0.04628584\n",
            "  0.02803169 0.05478326 0.01598936 0.07730139]\n",
            " [0.33420881 0.32125376 0.33790861 0.17143986 0.04090547 0.21087164\n",
            "  0.12770837 0.24958465 0.07284524 0.352174  ]\n",
            " [0.69013116 0.66337936 0.69777114 0.35401816 0.08446858 0.43544361\n",
            "  0.26371395 0.5153848  0.15042324 0.72722874]\n",
            " [0.52005681 0.49989766 0.52581401 0.26677473 0.06365233 0.32813388\n",
            "  0.19872488 0.38837455 0.11335328 0.54801215]\n",
            " [0.56173371 0.53995903 0.56795228 0.28815383 0.06875338 0.35443024\n",
            "  0.21465052 0.41949854 0.12243731 0.59192936]\n",
            " [0.7278239  0.699611   0.73588114 0.37335349 0.08908198 0.45922613\n",
            "  0.27811715 0.54353345 0.15863887 0.76694762]\n",
            " [0.31229602 0.30019038 0.31575324 0.1601992  0.03822346 0.1970456\n",
            "  0.11933502 0.23322034 0.06806906 0.3290833 ]\n",
            " [0.72521182 0.69710018 0.73324015 0.37201357 0.08876227 0.45757803\n",
            "  0.27711902 0.54158278 0.15806953 0.76419514]\n",
            " [0.17667525 0.16982673 0.1786311  0.09062951 0.02162416 0.11147462\n",
            "  0.06751141 0.13193976 0.03850871 0.18617232]\n",
            " [0.58746424 0.56469216 0.59396766 0.30135288 0.07190266 0.37066512\n",
            "  0.22448271 0.43871391 0.12804562 0.61904303]\n",
            " [0.77002188 0.74017325 0.77854628 0.39499989 0.0942468  0.48585128\n",
            "  0.29424191 0.5750466  0.16783648 0.81141394]\n",
            " [0.44474405 0.42750428 0.44966751 0.22814138 0.05443443 0.28061471\n",
            "  0.16994626 0.33213154 0.09693786 0.468651  ]\n",
            " [0.26844355 0.25803778 0.27141531 0.1377041  0.03285614 0.16937654\n",
            "  0.10257805 0.20047164 0.05851083 0.28287357]\n",
            " [0.38919734 0.37411074 0.39350588 0.19964745 0.04763579 0.24556708\n",
            "  0.14872067 0.29064967 0.08483072 0.4101184 ]\n",
            " [0.16898071 0.16243045 0.17085138 0.08668242 0.02068239 0.10661969\n",
            "  0.06457116 0.12619353 0.03683159 0.17806416]\n",
            " [0.21415774 0.20585626 0.21652853 0.10985698 0.02621183 0.13512448\n",
            "  0.08183427 0.1599314  0.04667852 0.22566965]\n",
            " [0.51049641 0.49070786 0.51614777 0.26187051 0.06248219 0.32210167\n",
            "  0.19507165 0.38123491 0.11126946 0.53793783]\n",
            " [0.02204002 0.02118567 0.02228401 0.01130592 0.00269759 0.01390632\n",
            "  0.00842196 0.01645932 0.00480391 0.02322476]\n",
            " [0.20630471 0.19830765 0.20858857 0.1058286  0.02525066 0.13016956\n",
            "  0.07883346 0.15406682 0.04496685 0.21739449]\n",
            " [0.31381843 0.30165377 0.3172925  0.16098016 0.03840979 0.19800617\n",
            "  0.11991676 0.23435726 0.06840089 0.33068754]\n",
            " [0.47078721 0.45253792 0.47599898 0.24150079 0.05762198 0.29704684\n",
            "  0.17989791 0.35158037 0.10261431 0.49609409]\n",
            " [0.09222406 0.08864914 0.09324501 0.04730838 0.01128776 0.05818948\n",
            "  0.03524079 0.06887224 0.02010146 0.0971815 ]\n",
            " [0.69837711 0.67130567 0.70610837 0.3582481  0.08547784 0.44064645\n",
            "  0.2668649  0.52154281 0.15222055 0.73591794]\n",
            " [0.36868341 0.354392   0.37276485 0.18912437 0.04512499 0.23262366\n",
            "  0.14088185 0.27533002 0.08035944 0.38850176]\n",
            " [0.82604993 0.79402946 0.83519457 0.42374072 0.10110435 0.52120261\n",
            "  0.31565143 0.61688792 0.18004853 0.87045374]\n",
            " [0.6349536  0.61034066 0.64198274 0.3257136  0.07771512 0.4006289\n",
            "  0.24262941 0.47417861 0.13839655 0.66908514]\n",
            " [0.58517343 0.56249014 0.59165149 0.30017775 0.07162228 0.36921971\n",
            "  0.22360734 0.43700315 0.12754631 0.61662907]\n",
            " [0.78116917 0.75088843 0.78981697 0.40071814 0.09561117 0.49288475\n",
            "  0.29850153 0.58337131 0.17026618 0.82316045]\n",
            " [0.59301638 0.57002908 0.59958127 0.30420097 0.07258222 0.37416829\n",
            "  0.2266043  0.44286021 0.12925578 0.62489362]\n",
            " [0.76299    0.73341394 0.77143654 0.39139273 0.09338613 0.48141446\n",
            "  0.29155487 0.56979524 0.16630378 0.80400406]\n",
            " [0.71093938 0.68338098 0.71880971 0.3646922  0.0870154  0.44857271\n",
            "  0.27166521 0.53092422 0.15495866 0.74915549]\n",
            " [0.66425493 0.63850618 0.67160845 0.34074438 0.08130146 0.4191168\n",
            "  0.25382608 0.49606063 0.14478317 0.69996155]\n",
            " [0.67590278 0.64970252 0.68338524 0.3467194  0.08272709 0.4264661\n",
            "  0.25827698 0.50475915 0.14732197 0.71223552]\n",
            " [0.82422676 0.79227696 0.83335121 0.42280549 0.1008812  0.52005226\n",
            "  0.31495475 0.61552639 0.17965115 0.86853256]\n",
            " [0.11850415 0.11391053 0.11981603 0.06078934 0.01450431 0.07477111\n",
            "  0.04528298 0.08849801 0.02582955 0.12487427]\n",
            " [0.62177392 0.59767188 0.62865716 0.31895279 0.07610199 0.39231308\n",
            "  0.23759318 0.46433612 0.13552387 0.655197  ]\n",
            " [0.6324007  0.60788672 0.63940158 0.32440403 0.07740266 0.39901812\n",
            "  0.24165389 0.47227212 0.13784012 0.66639501]\n",
            " [0.90286088 0.86786296 0.91285584 0.46314261 0.11050562 0.56966707\n",
            "  0.34500254 0.67424976 0.1967905  0.95139361]\n",
            " [0.14738832 0.14167505 0.14901996 0.07560612 0.01803959 0.0929958\n",
            "  0.05632024 0.1100685  0.03212524 0.15531109]\n",
            " [0.11314665 0.10876071 0.11439922 0.0580411  0.01384858 0.07139076\n",
            "  0.04323577 0.08449708 0.02466181 0.11922878]\n",
            " [0.67973984 0.65339084 0.68726478 0.3486877  0.08319673 0.42888712\n",
            "  0.2597432  0.50762464 0.14815831 0.71627884]\n",
            " [0.83114922 0.79893109 0.84035031 0.42635652 0.10172848 0.52442005\n",
            "  0.31759998 0.62069604 0.18115999 0.87582714]\n",
            " [0.29346622 0.28209048 0.29671498 0.15054004 0.03591879 0.18516478\n",
            "  0.11213975 0.21915838 0.06396485 0.30924131]\n",
            " [0.85306    0.81999253 0.86250365 0.43759614 0.10441025 0.53824483\n",
            "  0.32597256 0.63705884 0.18593574 0.89891572]\n",
            " [0.31692736 0.3046422  0.32043585 0.16257496 0.03879031 0.19996778\n",
            "  0.12110476 0.23667899 0.06907852 0.3339636 ]]\n"
          ]
        }
      ]
    },
    {
      "cell_type": "markdown",
      "source": [
        "![image.png](data:image/png;base64,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)"
      ],
      "metadata": {
        "id": "6p4oKMuIxFxr"
      }
    }
  ]
}