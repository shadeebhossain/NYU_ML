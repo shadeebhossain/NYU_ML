{
  "nbformat": 4,
  "nbformat_minor": 0,
  "metadata": {
    "kernelspec": {
      "display_name": "Python 3",
      "language": "python",
      "name": "python3"
    },
    "language_info": {
      "codemirror_mode": {
        "name": "ipython",
        "version": 3
      },
      "file_extension": ".py",
      "mimetype": "text/x-python",
      "name": "python",
      "nbconvert_exporter": "python",
      "pygments_lexer": "ipython3",
      "version": "3.8.5"
    },
    "colab": {
      "name": "lab_fine_tune_partial.ipynb",
      "provenance": [],
      "collapsed_sections": []
    }
  },
  "cells": [
    {
      "cell_type": "markdown",
      "metadata": {
        "id": "-hrU2TrQhuD-"
      },
      "source": [
        " # Lab:  Transfer Learning with a Pre-Trained Deep Neural Network\n",
        "\n",
        "As we discussed earlier, state-of-the-art neural networks involve millions of parameters that are prohibitively difficult to train from scratch.  In this lab, we will illustrate a powerful technique called *fine-tuning* where we start with a large pre-trained network and then re-train only the final layers to adapt to a new task.  The method is also called *transfer learning* and can produce excellent results on very small datasets with very little computational time.  \n",
        "\n",
        "This lab is based partially on this\n",
        "[excellent blog](https://blog.keras.io/building-powerful-image-classification-models-using-very-little-data.html).  In performing the lab, you will learn to:\n",
        "* Build a custom image dataset\n",
        "* Fine tune the final layers of an existing deep neural network for a new classification task.\n",
        "* Load images with a `DataGenerator`.\n",
        "\n",
        "The lab has two versions:\n",
        "* *CPU version*:  In this version, you use lower resolution images so that the lab can be performed on your laptop.  The resulting accuracy is lower.  The code will also take considerable time to execute.\n",
        "* *GPU version*:  This version uses higher resolution images but requires a GPU instance. See the [notes](../GCP/getting_started.md) on setting up a GPU instance on Google Cloud Platform.  The GPU training is much faster (< 1 minute).  \n",
        "\n",
        "**MS students must complete the GPU version** of this lab."
      ]
    },
    {
      "cell_type": "markdown",
      "metadata": {
        "id": "CG17NJJPhuEE"
      },
      "source": [
        "## Create a Dataset\n",
        "\n",
        "In this example, we will try to develop a classifier that can discriminate between two classes:  `cars` and `bicycles`.  One could imagine this type of classifier would be useful in vehicle vision systems.   The first task is to build a dataset.  \n",
        "\n",
        "TODO:  Create training and test datasets with:\n",
        "* 1000 training images of cars\n",
        "* 1000 training images of bicylces\n",
        "* 300 test images of cars\n",
        "* 300 test images of bicylces\n",
        "* The images don't need to be the same size.  But, you can reduce the resolution if you need to save disk space.\n",
        "\n",
        "The images should be organized in the following directory structure:\n",
        "\n",
        "    ./train\n",
        "        /car\n",
        "           car_0000.jpg\n",
        "           car_0001.jpg\n",
        "           ...\n",
        "           car_0999.jpg\n",
        "        /bicycle\n",
        "           bicycle_0000.jpg\n",
        "           bicycle_0001.jpg\n",
        "           ...\n",
        "           bicycle_0999.jpg\n",
        "    ./test\n",
        "        /car\n",
        "           car_1001.jpg\n",
        "           car_1001.jpg\n",
        "           ...\n",
        "           car_1299.jpg\n",
        "        /bicycle\n",
        "           bicycle_1000.jpg\n",
        "           bicycle_1001.jpg\n",
        "           ...\n",
        "           bicycle_1299.jpg\n",
        "           \n",
        "The naming of the files within the directories does not matter.  The `ImageDataGenerator` class below will find the filenames.  Just make sure there are the correct number of files in each directory.\n",
        "           \n",
        "A nice automated way of building such a dataset if through the [FlickrAPI](demo2_flickr_images.ipynb).  Remember that if you run the FlickrAPI twice, it may collect the same images.  So, you need to run it once and split the images into training and test directories.         \n",
        "        "
      ]
    },
    {
      "cell_type": "markdown",
      "metadata": {
        "id": "oh9MrjrYiV6H"
      },
      "source": [
        "Installing the flickrapi in colab:"
      ]
    },
    {
      "cell_type": "code",
      "metadata": {
        "colab": {
          "base_uri": "https://localhost:8080/"
        },
        "id": "hr1Zyb2lhwIN",
        "outputId": "a8df617f-17ca-498b-8325-a41e9a98a4e6"
      },
      "source": [
        "!pip install flickrapi"
      ],
      "execution_count": 2,
      "outputs": [
        {
          "output_type": "stream",
          "name": "stdout",
          "text": [
            "Requirement already satisfied: flickrapi in /usr/local/lib/python3.7/dist-packages (2.4.0)\n",
            "Requirement already satisfied: requests-oauthlib>=0.4.0 in /usr/local/lib/python3.7/dist-packages (from flickrapi) (1.3.0)\n",
            "Requirement already satisfied: requests>=2.2.1 in /usr/local/lib/python3.7/dist-packages (from flickrapi) (2.23.0)\n",
            "Requirement already satisfied: six>=1.5.2 in /usr/local/lib/python3.7/dist-packages (from flickrapi) (1.15.0)\n",
            "Requirement already satisfied: requests-toolbelt>=0.3.1 in /usr/local/lib/python3.7/dist-packages (from flickrapi) (0.9.1)\n",
            "Requirement already satisfied: certifi>=2017.4.17 in /usr/local/lib/python3.7/dist-packages (from requests>=2.2.1->flickrapi) (2021.10.8)\n",
            "Requirement already satisfied: urllib3!=1.25.0,!=1.25.1,<1.26,>=1.21.1 in /usr/local/lib/python3.7/dist-packages (from requests>=2.2.1->flickrapi) (1.24.3)\n",
            "Requirement already satisfied: idna<3,>=2.5 in /usr/local/lib/python3.7/dist-packages (from requests>=2.2.1->flickrapi) (2.10)\n",
            "Requirement already satisfied: chardet<4,>=3.0.2 in /usr/local/lib/python3.7/dist-packages (from requests>=2.2.1->flickrapi) (3.0.4)\n",
            "Requirement already satisfied: oauthlib>=3.0.0 in /usr/local/lib/python3.7/dist-packages (from requests-oauthlib>=0.4.0->flickrapi) (3.1.1)\n"
          ]
        }
      ]
    },
    {
      "cell_type": "code",
      "metadata": {
        "id": "PiCJHGI3hzNE"
      },
      "source": [
        "import flickrapi\n",
        "import urllib.request\n",
        "import matplotlib.pyplot as plt\n",
        "import numpy as np\n",
        "import skimage.io\n",
        "import skimage.transform\n",
        "import requests\n",
        "from io import BytesIO\n",
        "%matplotlib inline"
      ],
      "execution_count": 3,
      "outputs": []
    },
    {
      "cell_type": "markdown",
      "metadata": {
        "id": "yJkKV2v1ibTn"
      },
      "source": [
        "Make sure to get a api key and secret code and change below: "
      ]
    },
    {
      "cell_type": "code",
      "metadata": {
        "id": "ZzxifXTOh5EV"
      },
      "source": [
        "# see the flickr demo on where to get keys. \n",
        "api_key = u'your key'   #u'0bcc03asdfasge12412341324041a6d457cb18321'\n",
        "api_secret = u'your secret'  #u'bbeasdfasdf3327a0'\n",
        "flickr = flickrapi.FlickrAPI(api_key, api_secret)"
      ],
      "execution_count": 4,
      "outputs": []
    },
    {
      "cell_type": "markdown",
      "metadata": {
        "id": "wxGS7plFis6_"
      },
      "source": [
        "Download bicycles"
      ]
    },
    {
      "cell_type": "code",
      "metadata": {
        "colab": {
          "base_uri": "https://localhost:8080/"
        },
        "id": "QbeWtc_5kXkB",
        "outputId": "116ce4e0-5b58-406b-aa2d-e134f1db6ff3"
      },
      "source": [
        "import warnings\n",
        "import os\n",
        "dir_name = 'train'\n",
        "dir_exists = os.path.isdir(dir_name)\n",
        "if not dir_exists:\n",
        "    os.mkdir(dir_name)\n",
        "    print(\"Making directory %s\" % dir_name)\n",
        "else:\n",
        "    print(\"Will store images in directory %s\" % dir_name)\n",
        "\n",
        "dir_name = 'test'\n",
        "dir_exists = os.path.isdir(dir_name)\n",
        "if not dir_exists:\n",
        "    os.mkdir(dir_name)\n",
        "    print(\"Making directory %s\" % dir_name)\n",
        "else:\n",
        "    print(\"Will store images in directory %s\" % dir_name)\n",
        "\n",
        "dir_folder = os.path.join(os.getcwd(),'train','bicycle')\n",
        "dir_exists = os.path.isdir(dir_folder)\n",
        "if not dir_exists:\n",
        "    os.mkdir(dir_folder)\n",
        "    print(\"Making directory %s\" % dir_folder)\n",
        "else:\n",
        "    print(\"Will store images in directory %s\" % dir_folder)\n",
        "\n",
        "dir_folder = os.path.join(os.getcwd(),'train','car')\n",
        "dir_exists = os.path.isdir(dir_folder)\n",
        "if not dir_exists:\n",
        "    os.mkdir(dir_folder)\n",
        "    print(\"Making directory %s\" % dir_folder)\n",
        "else:\n",
        "    print(\"Will store images in directory %s\" % dir_folder)\n",
        "\n",
        "dir_folder = os.path.join(os.getcwd(),'test','bicycle')\n",
        "dir_exists = os.path.isdir(dir_folder)\n",
        "if not dir_exists:\n",
        "    os.mkdir(dir_folder)\n",
        "    print(\"Making directory %s\" % dir_folder)\n",
        "else:\n",
        "    print(\"Will store images in directory %s\" % dir_folder)\n",
        "\n",
        "dir_folder = os.path.join(os.getcwd(),'test','car')\n",
        "dir_exists = os.path.isdir(dir_folder)\n",
        "if not dir_exists:\n",
        "    os.mkdir(dir_folder)\n",
        "    print(\"Making directory %s\" % dir_folder)\n",
        "else:\n",
        "    print(\"Will store images in directory %s\" % dir_folder)"
      ],
      "execution_count": 6,
      "outputs": [
        {
          "output_type": "stream",
          "name": "stdout",
          "text": [
            "Making directory train\n",
            "Making directory test\n",
            "Making directory /content/train/bicycle\n",
            "Making directory /content/train/car\n",
            "Making directory /content/test/bicycle\n",
            "Making directory /content/test/car\n"
          ]
        }
      ]
    },
    {
      "cell_type": "code",
      "metadata": {
        "colab": {
          "base_uri": "https://localhost:8080/"
        },
        "id": "s5udxbWQiDat",
        "outputId": "7eb18c95-b2e5-44d4-f8a8-88e9cc53e561"
      },
      "source": [
        "keyword = 'bicycle'\n",
        "dir_name = 'bicycle'\n",
        "photos = flickr.walk(text=keyword, tag_mode='all', tags=keyword,extras='url_c',\\\n",
        "                     sort='relevance',per_page=100)\n",
        "\n",
        "nimage = 1300\n",
        "i = 0\n",
        "nrow = 224\n",
        "ncol = 224\n",
        "for photo in photos:\n",
        "    url=photo.get('url_c')\n",
        "    if not (url is None):\n",
        "        \n",
        "        # Create a file from the URL\n",
        "        # This may only work in Python3\n",
        "        response = requests.get(url)\n",
        "        file = BytesIO(response.content)\n",
        "        \n",
        "        # Read image from file\n",
        "        im = skimage.io.imread(file)\n",
        "        \n",
        "        # Resize images\n",
        "        im1 = skimage.transform.resize(im,(nrow,ncol),mode='constant')\n",
        "                \n",
        "        # Convert to uint8, suppress the warning about the precision loss\n",
        "        with warnings.catch_warnings():\n",
        "            warnings.simplefilter(\"ignore\")\n",
        "            im2 = skimage.img_as_ubyte(im1)\n",
        "    \n",
        "        # Save the image\n",
        "        if i< 1000:\n",
        "          local_name = '{0:s}/{1:s}/{2:s}_{3:04d}.jpg'.format('train',dir_name,keyword, i)\n",
        "        else:\n",
        "          local_name = '{0:s}/{1:s}/{2:s}_{3:04d}.jpg'.format('test',dir_name,keyword, i)\n",
        "        skimage.io.imsave(local_name, im2)\n",
        "        if (i%100) == 1:      \n",
        "          print(local_name)\n",
        "        i = i + 1        \n",
        "    if (i >= nimage):        \n",
        "        break        "
      ],
      "execution_count": 7,
      "outputs": [
        {
          "output_type": "stream",
          "name": "stdout",
          "text": [
            "train/bicycle/bicycle_0001.jpg\n",
            "train/bicycle/bicycle_0101.jpg\n",
            "train/bicycle/bicycle_0201.jpg\n",
            "train/bicycle/bicycle_0301.jpg\n",
            "train/bicycle/bicycle_0401.jpg\n",
            "train/bicycle/bicycle_0501.jpg\n",
            "train/bicycle/bicycle_0601.jpg\n",
            "train/bicycle/bicycle_0701.jpg\n",
            "train/bicycle/bicycle_0801.jpg\n",
            "train/bicycle/bicycle_0901.jpg\n",
            "test/bicycle/bicycle_1001.jpg\n",
            "test/bicycle/bicycle_1101.jpg\n",
            "test/bicycle/bicycle_1201.jpg\n"
          ]
        }
      ]
    },
    {
      "cell_type": "markdown",
      "metadata": {
        "id": "lWYj2-c4ivA_"
      },
      "source": [
        "Download cars"
      ]
    },
    {
      "cell_type": "code",
      "metadata": {
        "colab": {
          "base_uri": "https://localhost:8080/"
        },
        "id": "Zt8uIe3fiUyd",
        "outputId": "c23b77ae-d519-4204-87d6-116021d446e1"
      },
      "source": [
        "keyword = 'car'\n",
        "dir_name = 'car'\n",
        "photos = flickr.walk(text=keyword, tag_mode='all', tags=keyword,extras='url_c',\\\n",
        "                     sort='relevance',per_page=100)\n",
        "\n",
        "nimage = 1300\n",
        "i = 0\n",
        "nrow = 224\n",
        "ncol = 224\n",
        "for photo in photos:\n",
        "    url=photo.get('url_c')\n",
        "    if not (url is None):\n",
        "        \n",
        "        # Create a file from the URL\n",
        "        # This may only work in Python3\n",
        "        response = requests.get(url)\n",
        "        file = BytesIO(response.content)\n",
        "        \n",
        "        # Read image from file\n",
        "        im = skimage.io.imread(file)\n",
        "        \n",
        "        # Resize images\n",
        "        im1 = skimage.transform.resize(im,(nrow,ncol),mode='constant')\n",
        "                \n",
        "        # Convert to uint8, suppress the warning about the precision loss\n",
        "        with warnings.catch_warnings():\n",
        "            warnings.simplefilter(\"ignore\")\n",
        "            im2 = skimage.img_as_ubyte(im1)\n",
        "    \n",
        "        # Save the image\n",
        "        if i< 1000:\n",
        "          local_name = '{0:s}/{1:s}/{2:s}_{3:04d}.jpg'.format('train',dir_name,keyword, i)\n",
        "        else:\n",
        "          local_name = '{0:s}/{1:s}/{2:s}_{3:04d}.jpg'.format('test',dir_name,keyword, i)\n",
        "        skimage.io.imsave(local_name, im2)\n",
        "        if (i%100) == 1:      \n",
        "          print(local_name)\n",
        "        i = i + 1        \n",
        "    if (i >= nimage):        \n",
        "        break        "
      ],
      "execution_count": null,
      "outputs": [
        {
          "output_type": "stream",
          "name": "stdout",
          "text": [
            "train/car/car_0001.jpg\n",
            "train/car/car_0101.jpg\n"
          ]
        }
      ]
    },
    {
      "cell_type": "markdown",
      "metadata": {
        "id": "a6n4Ss_ThuEG"
      },
      "source": [
        "## Loading a Pre-Trained Deep Network\n",
        "\n",
        "We follow the [VGG16 demo](./demo3_vgg16.ipynb) to load a pre-trained deep VGG16 network.  First, run a command to verify your instance is connected to a GPU."
      ]
    },
    {
      "cell_type": "code",
      "metadata": {
        "id": "CcqVWVUVhuEH",
        "outputId": "2c900c05-62ed-49b6-9658-7779f33f7289"
      },
      "source": [
        "# TODO 1:\n",
        "import tensorflow as tf\n",
        "tf.test.is_gpu_available()"
      ],
      "execution_count": null,
      "outputs": [
        {
          "name": "stdout",
          "output_type": "stream",
          "text": [
            "WARNING:tensorflow:From <ipython-input-3-3f4a2d54a98d>:3: is_gpu_available (from tensorflow.python.framework.test_util) is deprecated and will be removed in a future version.\n",
            "Instructions for updating:\n",
            "Use `tf.config.list_physical_devices('GPU')` instead.\n"
          ]
        },
        {
          "data": {
            "text/plain": [
              "True"
            ]
          },
          "execution_count": 3,
          "metadata": {},
          "output_type": "execute_result"
        }
      ]
    },
    {
      "cell_type": "markdown",
      "metadata": {
        "id": "sg06ZNrshuEP"
      },
      "source": [
        "Now load the appropriate tensorflow packages."
      ]
    },
    {
      "cell_type": "code",
      "metadata": {
        "collapsed": true,
        "id": "Rha0e7CLhuEP"
      },
      "source": [
        "from tensorflow.keras import applications\n",
        "from tensorflow.keras.preprocessing.image import ImageDataGenerator\n",
        "from tensorflow.keras import optimizers\n",
        "from tensorflow.keras.models import Sequential\n",
        "from tensorflow.keras.layers import Dropout, Flatten, Dense\n"
      ],
      "execution_count": null,
      "outputs": []
    },
    {
      "cell_type": "markdown",
      "metadata": {
        "id": "FrFNyHR5huEQ"
      },
      "source": [
        "We also load some standard packages."
      ]
    },
    {
      "cell_type": "code",
      "metadata": {
        "id": "MR8YBYtvhuER"
      },
      "source": [
        "import numpy as np\n",
        "import matplotlib.pyplot as plt"
      ],
      "execution_count": null,
      "outputs": []
    },
    {
      "cell_type": "markdown",
      "metadata": {
        "id": "GBVXBxC3huES"
      },
      "source": [
        "Clear the Keras session."
      ]
    },
    {
      "cell_type": "code",
      "metadata": {
        "collapsed": true,
        "id": "QmUTr5EUhuES"
      },
      "source": [
        "# TODO 2:"
      ],
      "execution_count": null,
      "outputs": []
    },
    {
      "cell_type": "markdown",
      "metadata": {
        "id": "fVWtlHPChuET"
      },
      "source": [
        "Set the dimensions of the input image.  The sizes below would work on a GPU machine.  But, if you have a CPU image, you can use a smaller image size, like `64 x 64`."
      ]
    },
    {
      "cell_type": "code",
      "metadata": {
        "id": "a48oXnA8huET"
      },
      "source": [
        "# TODO 3:  Set to smaller values if you are using a CPU.  \n",
        "# Otherwise, do not change this code.\n",
        "nrow = 150\n",
        "ncol = 150"
      ],
      "execution_count": null,
      "outputs": []
    },
    {
      "cell_type": "markdown",
      "metadata": {
        "id": "XLQ1SskuhuEU"
      },
      "source": [
        "Now we follow the [VGG16 demo](./vgg16.ipynb) and load the deep VGG16 network.  Alternatively, you can use any other pre-trained model in keras.  When using the `applications.VGG16` method you will need to:\n",
        "* Set `include_top=False` to not include the top layer\n",
        "* Set the `image_shape` based on the above dimensions.  Remember, `image_shape` should be `height x width x 3` since the images are color."
      ]
    },
    {
      "cell_type": "code",
      "metadata": {
        "collapsed": true,
        "id": "l1yNmdb-huEU"
      },
      "source": [
        "# TODO 4:  Load the VGG16 network\n",
        "# input_shape = ...\n",
        "# base_model = applications.VGG16(weights='imagenet', ...)"
      ],
      "execution_count": null,
      "outputs": []
    },
    {
      "cell_type": "markdown",
      "metadata": {
        "id": "OZ8nwtDvhuEU"
      },
      "source": [
        "To create now new model, we create a Sequential model.  Then, loop over the layers in `base_model.layers` and add each layer to the new model."
      ]
    },
    {
      "cell_type": "code",
      "metadata": {
        "collapsed": true,
        "id": "HI2ieZ2thuEV"
      },
      "source": [
        "# Create a new model\n",
        "model = Sequential()\n",
        "\n",
        "# TODO 5:  Loop over base_model.layers and add each layer to model"
      ],
      "execution_count": null,
      "outputs": []
    },
    {
      "cell_type": "markdown",
      "metadata": {
        "id": "Ra_C7Z08huEV"
      },
      "source": [
        "Next, loop through the layers in `model`, and freeze each layer by setting `layer.trainable = False`.  This way, you will not have to *re-train* any of the existing layers."
      ]
    },
    {
      "cell_type": "code",
      "metadata": {
        "collapsed": true,
        "id": "5Ev4_3AjhuEW"
      },
      "source": [
        "# TODO 6"
      ],
      "execution_count": null,
      "outputs": []
    },
    {
      "cell_type": "markdown",
      "metadata": {
        "id": "-Y1voQpZhuEX"
      },
      "source": [
        "Now, add the following layers to `model`:\n",
        "* A `Flatten()` layer which reshapes the outputs to a single channel.\n",
        "* A fully-connected layer with 256 output units and `relu` activation\n",
        "* A `Dropout(0.5)` layer.\n",
        "* A final fully-connected layer.  Since this is a binary classification, there should be one output and `sigmoid` activation."
      ]
    },
    {
      "cell_type": "code",
      "metadata": {
        "collapsed": true,
        "id": "XLQxHIEchuEX"
      },
      "source": [
        "# TODO 7\n",
        "# model.add(...)\n",
        "# model.add(...)\n",
        "# ...."
      ],
      "execution_count": null,
      "outputs": []
    },
    {
      "cell_type": "markdown",
      "metadata": {
        "id": "BzkTGeNthuEY"
      },
      "source": [
        "Print the model summary.  This will display the number of trainable parameters vs. the non-trainable parameters."
      ]
    },
    {
      "cell_type": "code",
      "metadata": {
        "collapsed": true,
        "id": "NG9hfy_NhuEY"
      },
      "source": [
        "# TODO 8"
      ],
      "execution_count": null,
      "outputs": []
    },
    {
      "cell_type": "markdown",
      "metadata": {
        "id": "DQdU-WpehuEZ"
      },
      "source": [
        "## Using Generators to Load Data\n",
        "\n",
        "Up to now, the training data has been represented in a large matrix.  This is not possible for image data when the datasets are very large.  For these applications, the `keras` package provides a `ImageDataGenerator` class that can fetch images on the fly from a directory of images.  Using multi-threading, training can be performed on one mini-batch while the image reader can read files for the next mini-batch. The code below creates an `ImageDataGenerator` for the training data.  In addition to the reading the files, the `ImageDataGenerator` creates random deformations of the image to expand the total dataset size.  When the training data is limited, using data augmentation is very important."
      ]
    },
    {
      "cell_type": "code",
      "metadata": {
        "id": "3nyuRpqthuEZ",
        "outputId": "59749a58-ae2f-4526-be10-8db8bd1d6857"
      },
      "source": [
        "train_data_dir = './train'\n",
        "batch_size = 32\n",
        "train_datagen = ImageDataGenerator(rescale=1./255,\n",
        "                                   shear_range=0.2,\n",
        "                                   zoom_range=0.2,\n",
        "                                   horizontal_flip=True)\n",
        "train_generator = train_datagen.flow_from_directory(\n",
        "                        train_data_dir,\n",
        "                        target_size=(nrow,ncol),\n",
        "                        batch_size=batch_size,\n",
        "                        class_mode='binary')"
      ],
      "execution_count": null,
      "outputs": [
        {
          "name": "stdout",
          "output_type": "stream",
          "text": [
            "Found 2000 images belonging to 2 classes.\n"
          ]
        }
      ]
    },
    {
      "cell_type": "markdown",
      "metadata": {
        "id": "E_vcWurQhuEb"
      },
      "source": [
        "Now, create a similar `test_generator` for the test data."
      ]
    },
    {
      "cell_type": "code",
      "metadata": {
        "collapsed": true,
        "id": "iiMoEHhFhuEb"
      },
      "source": [
        "# TODO 9\n",
        "# test_generator = ..."
      ],
      "execution_count": null,
      "outputs": []
    },
    {
      "cell_type": "markdown",
      "metadata": {
        "id": "PV_WuGajhuEb"
      },
      "source": [
        "The following function displays images that will be useful below."
      ]
    },
    {
      "cell_type": "code",
      "metadata": {
        "collapsed": true,
        "id": "FwXIviAHhuEb"
      },
      "source": [
        "# Display the image\n",
        "def disp_image(im):\n",
        "    if (len(im.shape) == 2):\n",
        "        # Gray scale image\n",
        "        plt.imshow(im, cmap='gray')    \n",
        "    else:\n",
        "        # Color image.  \n",
        "        im1 = (im-np.min(im))/(np.max(im)-np.min(im))*255\n",
        "        im1 = im1.astype(np.uint8)\n",
        "        plt.imshow(im1)    \n",
        "        \n",
        "    # Remove axis ticks\n",
        "    plt.xticks([])\n",
        "    plt.yticks([])"
      ],
      "execution_count": null,
      "outputs": []
    },
    {
      "cell_type": "markdown",
      "metadata": {
        "id": "5qYIuNCAhuEb"
      },
      "source": [
        "To see how the `train_generator` works, use the `train_generator.next()` method to get a minibatch of data `X,y`.  Display the first 8 images in this mini-batch and label the image with the class label.  You should see that bicycles have `y=0` and cars have `y=1`."
      ]
    },
    {
      "cell_type": "code",
      "metadata": {
        "collapsed": true,
        "id": "XK5eQrj2huEb"
      },
      "source": [
        "# TODO 10"
      ],
      "execution_count": null,
      "outputs": []
    },
    {
      "cell_type": "markdown",
      "metadata": {
        "id": "MeZPEz0fhuEc"
      },
      "source": [
        "## Train the Model\n",
        "\n",
        "Compile the model.  Select the correct `loss` function, `optimizer` and `metrics`.  Remember that we are performing binary classification."
      ]
    },
    {
      "cell_type": "code",
      "metadata": {
        "collapsed": true,
        "id": "gPcluflVhuEc"
      },
      "source": [
        "# TODO 11\n",
        "# model.compile(...)"
      ],
      "execution_count": null,
      "outputs": []
    },
    {
      "cell_type": "markdown",
      "metadata": {
        "id": "saANe1SdhuEc"
      },
      "source": [
        "When using an `ImageDataGenerator`, we have to set two parameters manually:\n",
        "* `steps_per_epoch =  training data size // batch_size`\n",
        "* `validation_steps =  test data size // batch_size`\n",
        "\n",
        "We can obtain the training and test data size from `train_generator.n` and `test_generator.n`, respectively."
      ]
    },
    {
      "cell_type": "code",
      "metadata": {
        "collapsed": true,
        "id": "BsUukWOxhuEd"
      },
      "source": [
        "# TODO 12"
      ],
      "execution_count": null,
      "outputs": []
    },
    {
      "cell_type": "markdown",
      "metadata": {
        "id": "QKWBbdDlhuEe"
      },
      "source": [
        "Now, we run the fit.  If you are using a CPU on a regular laptop, each epoch will take about 3-4 minutes, so you should be able to finish 5 epochs or so within 20 minutes.  On a reasonable GPU, even with the larger images, it will take about 10 seconds per epoch.\n",
        "* If you use `(nrow,ncol) = (64,64)` images, you should get around 90% accuracy after 5 epochs.\n",
        "* If you use `(nrow,ncol) = (150,150)` images, you should get around 96% accuracy after 5 epochs.  But, this will need a GPU.\n",
        "\n",
        "You will get full credit for either version.  With more epochs, you may get slightly higher, but you will have to play with the damping.\n",
        "\n",
        "Remember to record the history of the fit, so that you can plot the training and validation accuracy curve."
      ]
    },
    {
      "cell_type": "code",
      "metadata": {
        "collapsed": true,
        "id": "BqaWdEt5huEe"
      },
      "source": [
        "nepochs = 5  # Number of epochs\n",
        "\n",
        "# Call the fit_generator function\n",
        "hist = model.fit_generator(\n",
        "    train_generator,\n",
        "    steps_per_epoch=steps_per_epoch,\n",
        "    epochs=nepochs,\n",
        "    validation_data=test_generator,\n",
        "    validation_steps=validation_steps)"
      ],
      "execution_count": null,
      "outputs": []
    },
    {
      "cell_type": "code",
      "metadata": {
        "collapsed": true,
        "id": "JRQQHcd3huEe"
      },
      "source": [
        "# Plot the training accuracy and validation accuracy curves on the same figure.\n",
        "\n",
        "# TODO 13"
      ],
      "execution_count": null,
      "outputs": []
    },
    {
      "cell_type": "markdown",
      "metadata": {
        "id": "ph9oEjx4huEf"
      },
      "source": [
        "## Plotting the Error Images\n",
        "\n",
        "Now try to plot some images that were in error:\n",
        "\n",
        "*  Generate a mini-batch `Xts,yts` from the `test_generator.next()` method\n",
        "*  Get the class probabilities using the `model.predict( )` method and compute predicted labels `yhat`.\n",
        "*  Get the images where `yts[i] ~= yhat[i]`.\n",
        "*  If you did not get any prediction error in one minibatch, run it multiple times.\n",
        "*  After you a get a few error images (say 4-8), plot the error images with the true labels and class probabilities predicted by the classifie"
      ]
    },
    {
      "cell_type": "code",
      "metadata": {
        "collapsed": true,
        "id": "RrCOTXVhhuEf"
      },
      "source": [
        "# TODO 14"
      ],
      "execution_count": null,
      "outputs": []
    },
    {
      "cell_type": "code",
      "metadata": {
        "collapsed": true,
        "id": "x_qQdavnhuEf"
      },
      "source": [
        ""
      ],
      "execution_count": null,
      "outputs": []
    }
  ]
}